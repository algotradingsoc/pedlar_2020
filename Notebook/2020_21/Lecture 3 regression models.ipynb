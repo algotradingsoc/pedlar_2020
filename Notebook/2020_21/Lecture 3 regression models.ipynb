{
 "cells": [
  {
   "cell_type": "code",
   "execution_count": 43,
   "metadata": {},
   "outputs": [],
   "source": [
    "import statsmodels\n",
    "import sklearn \n",
    "import pandas as pd\n",
    "import numpy as np\n",
    "import scipy as sp\n",
    "import keras \n",
    "import tensorflow as tf\n",
    "import matplotlib.pyplot as plt"
   ]
  },
  {
   "cell_type": "code",
   "execution_count": 3,
   "metadata": {},
   "outputs": [
    {
     "name": "stdout",
     "output_type": "stream",
     "text": [
      "Hello Mw4315, welcome to Alphien!\n",
      "\n",
      "Importing your Alphien sub-packages...\n",
      "\n",
      "import alphien.data\n",
      "import alphien.portfolio\n",
      "import alphien.tutorial\n",
      "\n",
      "Importing your Qlib functions...                                   from team:\n",
      "\n",
      "No functions in Qlib teams: mw4315\n",
      "\n",
      "Alphien environment imported. Let's do some research now!\n"
     ]
    }
   ],
   "source": [
    "import alphien"
   ]
  },
  {
   "cell_type": "markdown",
   "metadata": {},
   "source": [
    "## Data in alphien\n",
    "\n",
    "Data range from 2007 to 2016 only  \n",
    "Data source: Bloomberg  \n",
    "Data for US,UK,HK,DE Equities, Futures, Options and different Indices. No ETF data"
   ]
  },
  {
   "cell_type": "code",
   "execution_count": 267,
   "metadata": {},
   "outputs": [
    {
     "data": {
      "text/html": [
       "<div>\n",
       "<style scoped>\n",
       "    .dataframe tbody tr th:only-of-type {\n",
       "        vertical-align: middle;\n",
       "    }\n",
       "\n",
       "    .dataframe tbody tr th {\n",
       "        vertical-align: top;\n",
       "    }\n",
       "\n",
       "    .dataframe thead th {\n",
       "        text-align: right;\n",
       "    }\n",
       "</style>\n",
       "<table border=\"1\" class=\"dataframe\">\n",
       "  <thead>\n",
       "    <tr style=\"text-align: right;\">\n",
       "      <th></th>\n",
       "      <th>open_price</th>\n",
       "      <th>high_price</th>\n",
       "      <th>low_price</th>\n",
       "      <th>close_price</th>\n",
       "      <th>volume</th>\n",
       "    </tr>\n",
       "    <tr>\n",
       "      <th>date</th>\n",
       "      <th></th>\n",
       "      <th></th>\n",
       "      <th></th>\n",
       "      <th></th>\n",
       "      <th></th>\n",
       "    </tr>\n",
       "  </thead>\n",
       "  <tbody>\n",
       "    <tr>\n",
       "      <th>2016-12-23</th>\n",
       "      <td>63.450001</td>\n",
       "      <td>63.540001</td>\n",
       "      <td>62.799999</td>\n",
       "      <td>63.240002</td>\n",
       "      <td>12403819.0</td>\n",
       "    </tr>\n",
       "    <tr>\n",
       "      <th>2016-12-27</th>\n",
       "      <td>63.209999</td>\n",
       "      <td>64.070000</td>\n",
       "      <td>63.209999</td>\n",
       "      <td>63.279999</td>\n",
       "      <td>11763173.0</td>\n",
       "    </tr>\n",
       "    <tr>\n",
       "      <th>2016-12-28</th>\n",
       "      <td>63.400002</td>\n",
       "      <td>63.400002</td>\n",
       "      <td>62.830002</td>\n",
       "      <td>62.990002</td>\n",
       "      <td>14653348.0</td>\n",
       "    </tr>\n",
       "    <tr>\n",
       "      <th>2016-12-29</th>\n",
       "      <td>62.860001</td>\n",
       "      <td>63.200001</td>\n",
       "      <td>62.730000</td>\n",
       "      <td>62.900002</td>\n",
       "      <td>10250582.0</td>\n",
       "    </tr>\n",
       "    <tr>\n",
       "      <th>2016-12-30</th>\n",
       "      <td>62.959999</td>\n",
       "      <td>62.990002</td>\n",
       "      <td>62.029999</td>\n",
       "      <td>62.139999</td>\n",
       "      <td>25579908.0</td>\n",
       "    </tr>\n",
       "  </tbody>\n",
       "</table>\n",
       "</div>"
      ],
      "text/plain": [
       "            open_price  high_price  low_price  close_price      volume\n",
       "date                                                                  \n",
       "2016-12-23   63.450001   63.540001  62.799999    63.240002  12403819.0\n",
       "2016-12-27   63.209999   64.070000  63.209999    63.279999  11763173.0\n",
       "2016-12-28   63.400002   63.400002  62.830002    62.990002  14653348.0\n",
       "2016-12-29   62.860001   63.200001  62.730000    62.900002  10250582.0\n",
       "2016-12-30   62.959999   62.990002  62.029999    62.139999  25579908.0"
      ]
     },
     "execution_count": 267,
     "metadata": {},
     "output_type": "execute_result"
    }
   ],
   "source": [
    " alphien.data.getHistoryData(\"MSFT.US Equity\" , field=\"ohlcv\").tail()"
   ]
  },
  {
   "cell_type": "code",
   "execution_count": 268,
   "metadata": {},
   "outputs": [
    {
     "data": {
      "text/html": [
       "<div>\n",
       "<style scoped>\n",
       "    .dataframe tbody tr th:only-of-type {\n",
       "        vertical-align: middle;\n",
       "    }\n",
       "\n",
       "    .dataframe tbody tr th {\n",
       "        vertical-align: top;\n",
       "    }\n",
       "\n",
       "    .dataframe thead th {\n",
       "        text-align: right;\n",
       "    }\n",
       "</style>\n",
       "<table border=\"1\" class=\"dataframe\">\n",
       "  <thead>\n",
       "    <tr style=\"text-align: right;\">\n",
       "      <th></th>\n",
       "      <th>open_interest</th>\n",
       "      <th>volume</th>\n",
       "      <th>open_price</th>\n",
       "      <th>close_price</th>\n",
       "      <th>high_price</th>\n",
       "      <th>low_price</th>\n",
       "    </tr>\n",
       "    <tr>\n",
       "      <th>date</th>\n",
       "      <th></th>\n",
       "      <th></th>\n",
       "      <th></th>\n",
       "      <th></th>\n",
       "      <th></th>\n",
       "      <th></th>\n",
       "    </tr>\n",
       "  </thead>\n",
       "  <tbody>\n",
       "    <tr>\n",
       "      <th>2007-01-02</th>\n",
       "      <td>188226.0</td>\n",
       "      <td>30976.0</td>\n",
       "      <td>639.200012</td>\n",
       "      <td>638.000000</td>\n",
       "      <td>643.500000</td>\n",
       "      <td>638.500000</td>\n",
       "    </tr>\n",
       "    <tr>\n",
       "      <th>2007-01-03</th>\n",
       "      <td>191351.0</td>\n",
       "      <td>162806.0</td>\n",
       "      <td>643.000000</td>\n",
       "      <td>629.799988</td>\n",
       "      <td>647.299988</td>\n",
       "      <td>627.000000</td>\n",
       "    </tr>\n",
       "    <tr>\n",
       "      <th>2007-01-04</th>\n",
       "      <td>185850.0</td>\n",
       "      <td>98797.0</td>\n",
       "      <td>629.299988</td>\n",
       "      <td>626.200012</td>\n",
       "      <td>632.799988</td>\n",
       "      <td>622.400024</td>\n",
       "    </tr>\n",
       "    <tr>\n",
       "      <th>2007-01-05</th>\n",
       "      <td>179246.0</td>\n",
       "      <td>190384.0</td>\n",
       "      <td>623.599976</td>\n",
       "      <td>606.900024</td>\n",
       "      <td>627.900024</td>\n",
       "      <td>603.000000</td>\n",
       "    </tr>\n",
       "    <tr>\n",
       "      <th>2007-01-08</th>\n",
       "      <td>176228.0</td>\n",
       "      <td>89836.0</td>\n",
       "      <td>609.299988</td>\n",
       "      <td>609.400024</td>\n",
       "      <td>612.400024</td>\n",
       "      <td>605.000000</td>\n",
       "    </tr>\n",
       "  </tbody>\n",
       "</table>\n",
       "</div>"
      ],
      "text/plain": [
       "            open_interest    volume  open_price  close_price  high_price  \\\n",
       "date                                                                       \n",
       "2007-01-02       188226.0   30976.0  639.200012   638.000000  643.500000   \n",
       "2007-01-03       191351.0  162806.0  643.000000   629.799988  647.299988   \n",
       "2007-01-04       185850.0   98797.0  629.299988   626.200012  632.799988   \n",
       "2007-01-05       179246.0  190384.0  623.599976   606.900024  627.900024   \n",
       "2007-01-08       176228.0   89836.0  609.299988   609.400024  612.400024   \n",
       "\n",
       "             low_price  \n",
       "date                    \n",
       "2007-01-02  638.500000  \n",
       "2007-01-03  627.000000  \n",
       "2007-01-04  622.400024  \n",
       "2007-01-05  603.000000  \n",
       "2007-01-08  605.000000  "
      ]
     },
     "execution_count": 268,
     "metadata": {},
     "output_type": "execute_result"
    }
   ],
   "source": [
    " # Gold futures front month\n",
    "alphien.data.getHistoryData(\"GC1 Comdty\" , field=['open_interest','volume','open_price','close_price','high_price','low_price']).head()"
   ]
  },
  {
   "cell_type": "code",
   "execution_count": 4,
   "metadata": {},
   "outputs": [
    {
     "name": "stdout",
     "output_type": "stream",
     "text": [
      "6 tickers found for keyword(s): lloyd\n",
      "\n",
      "You can get ticker time series data with: alphien.data.getHistoryData(ticker=ticker)\n",
      "\n"
     ]
    },
    {
     "data": {
      "text/html": [
       "<div>\n",
       "<style scoped>\n",
       "    .dataframe tbody tr th:only-of-type {\n",
       "        vertical-align: middle;\n",
       "    }\n",
       "\n",
       "    .dataframe tbody tr th {\n",
       "        vertical-align: top;\n",
       "    }\n",
       "\n",
       "    .dataframe thead th {\n",
       "        text-align: right;\n",
       "    }\n",
       "</style>\n",
       "<table border=\"1\" class=\"dataframe\">\n",
       "  <thead>\n",
       "    <tr style=\"text-align: right;\">\n",
       "      <th></th>\n",
       "      <th>ticker</th>\n",
       "      <th>name</th>\n",
       "      <th>description</th>\n",
       "      <th>sector</th>\n",
       "      <th>region</th>\n",
       "    </tr>\n",
       "  </thead>\n",
       "  <tbody>\n",
       "    <tr>\n",
       "      <th>0</th>\n",
       "      <td>BTE.US Equity</td>\n",
       "      <td>Baytex Energy Corp</td>\n",
       "      <td>Baytex Energy Corp., an oil and gas company, a...</td>\n",
       "      <td>Energy</td>\n",
       "      <td>USA</td>\n",
       "    </tr>\n",
       "    <tr>\n",
       "      <th>1</th>\n",
       "      <td>LLOY.LSE Equity</td>\n",
       "      <td>Lloyds Banking Group plc</td>\n",
       "      <td>Lloyds Banking Group plc provides range of ban...</td>\n",
       "      <td>Financials</td>\n",
       "      <td>UK</td>\n",
       "    </tr>\n",
       "    <tr>\n",
       "      <th>2</th>\n",
       "      <td>LYG.US Equity</td>\n",
       "      <td>Lloyds Banking Group plc</td>\n",
       "      <td>Lloyds Banking Group plc provides range of ban...</td>\n",
       "      <td>Financials</td>\n",
       "      <td>USA</td>\n",
       "    </tr>\n",
       "    <tr>\n",
       "      <th>3</th>\n",
       "      <td>PRA.US Equity</td>\n",
       "      <td>ProAssurance Corporation</td>\n",
       "      <td>ProAssurance Corporation, through its subsidia...</td>\n",
       "      <td>Financials</td>\n",
       "      <td>USA</td>\n",
       "    </tr>\n",
       "    <tr>\n",
       "      <th>4</th>\n",
       "      <td>QBE.AU Equity</td>\n",
       "      <td>QBE Insurance Group Limited</td>\n",
       "      <td>QBE Insurance Group Limited underwrites genera...</td>\n",
       "      <td>Financials</td>\n",
       "      <td>Australia</td>\n",
       "    </tr>\n",
       "    <tr>\n",
       "      <th>5</th>\n",
       "      <td>XL.US Equity</td>\n",
       "      <td>XL Group Ltd</td>\n",
       "      <td>XL Group Ltd, through its subsidiaries, operat...</td>\n",
       "      <td>Financials</td>\n",
       "      <td>USA</td>\n",
       "    </tr>\n",
       "  </tbody>\n",
       "</table>\n",
       "</div>"
      ],
      "text/plain": [
       "            ticker                         name  \\\n",
       "0    BTE.US Equity           Baytex Energy Corp   \n",
       "1  LLOY.LSE Equity     Lloyds Banking Group plc   \n",
       "2    LYG.US Equity     Lloyds Banking Group plc   \n",
       "3    PRA.US Equity     ProAssurance Corporation   \n",
       "4    QBE.AU Equity  QBE Insurance Group Limited   \n",
       "5     XL.US Equity                 XL Group Ltd   \n",
       "\n",
       "                                         description      sector     region  \n",
       "0  Baytex Energy Corp., an oil and gas company, a...      Energy        USA  \n",
       "1  Lloyds Banking Group plc provides range of ban...  Financials         UK  \n",
       "2  Lloyds Banking Group plc provides range of ban...  Financials        USA  \n",
       "3  ProAssurance Corporation, through its subsidia...  Financials        USA  \n",
       "4  QBE Insurance Group Limited underwrites genera...  Financials  Australia  \n",
       "5  XL Group Ltd, through its subsidiaries, operat...  Financials        USA  "
      ]
     },
     "execution_count": 4,
     "metadata": {},
     "output_type": "execute_result"
    }
   ],
   "source": [
    " alphien.data.searchData(\"lloyd\")"
   ]
  },
  {
   "cell_type": "code",
   "execution_count": 5,
   "metadata": {},
   "outputs": [
    {
     "name": "stdout",
     "output_type": "stream",
     "text": [
      "1 tickers found for keyword(s): aviva\n",
      "\n",
      "You can get ticker time series data with: alphien.data.getHistoryData(ticker=ticker)\n",
      "\n"
     ]
    },
    {
     "data": {
      "text/html": [
       "<div>\n",
       "<style scoped>\n",
       "    .dataframe tbody tr th:only-of-type {\n",
       "        vertical-align: middle;\n",
       "    }\n",
       "\n",
       "    .dataframe tbody tr th {\n",
       "        vertical-align: top;\n",
       "    }\n",
       "\n",
       "    .dataframe thead th {\n",
       "        text-align: right;\n",
       "    }\n",
       "</style>\n",
       "<table border=\"1\" class=\"dataframe\">\n",
       "  <thead>\n",
       "    <tr style=\"text-align: right;\">\n",
       "      <th></th>\n",
       "      <th>ticker</th>\n",
       "      <th>name</th>\n",
       "      <th>description</th>\n",
       "      <th>sector</th>\n",
       "      <th>region</th>\n",
       "    </tr>\n",
       "  </thead>\n",
       "  <tbody>\n",
       "    <tr>\n",
       "      <th>0</th>\n",
       "      <td>AV.LSE Equity</td>\n",
       "      <td>Aviva plc</td>\n",
       "      <td>Aviva plc provides various insurance and savin...</td>\n",
       "      <td>Financials</td>\n",
       "      <td>UK</td>\n",
       "    </tr>\n",
       "  </tbody>\n",
       "</table>\n",
       "</div>"
      ],
      "text/plain": [
       "          ticker       name  \\\n",
       "0  AV.LSE Equity  Aviva plc   \n",
       "\n",
       "                                         description      sector region  \n",
       "0  Aviva plc provides various insurance and savin...  Financials     UK  "
      ]
     },
     "execution_count": 5,
     "metadata": {},
     "output_type": "execute_result"
    }
   ],
   "source": [
    " alphien.data.searchData(\"aviva\")"
   ]
  },
  {
   "cell_type": "code",
   "execution_count": 6,
   "metadata": {},
   "outputs": [
    {
     "data": {
      "text/html": [
       "<div>\n",
       "<style scoped>\n",
       "    .dataframe tbody tr th:only-of-type {\n",
       "        vertical-align: middle;\n",
       "    }\n",
       "\n",
       "    .dataframe tbody tr th {\n",
       "        vertical-align: top;\n",
       "    }\n",
       "\n",
       "    .dataframe thead th {\n",
       "        text-align: right;\n",
       "    }\n",
       "</style>\n",
       "<table border=\"1\" class=\"dataframe\">\n",
       "  <thead>\n",
       "    <tr style=\"text-align: right;\">\n",
       "      <th></th>\n",
       "      <th>open_interest</th>\n",
       "      <th>volume</th>\n",
       "      <th>open_price</th>\n",
       "      <th>close_price</th>\n",
       "      <th>high_price</th>\n",
       "      <th>low_price</th>\n",
       "    </tr>\n",
       "    <tr>\n",
       "      <th>date</th>\n",
       "      <th></th>\n",
       "      <th></th>\n",
       "      <th></th>\n",
       "      <th></th>\n",
       "      <th></th>\n",
       "      <th></th>\n",
       "    </tr>\n",
       "  </thead>\n",
       "  <tbody>\n",
       "    <tr>\n",
       "      <th>2015-07-01</th>\n",
       "      <td>NaN</td>\n",
       "      <td>NaN</td>\n",
       "      <td>NaN</td>\n",
       "      <td>NaN</td>\n",
       "      <td>41.25</td>\n",
       "      <td>36.00</td>\n",
       "    </tr>\n",
       "    <tr>\n",
       "      <th>2015-07-02</th>\n",
       "      <td>NaN</td>\n",
       "      <td>NaN</td>\n",
       "      <td>NaN</td>\n",
       "      <td>NaN</td>\n",
       "      <td>40.50</td>\n",
       "      <td>36.50</td>\n",
       "    </tr>\n",
       "    <tr>\n",
       "      <th>2015-07-06</th>\n",
       "      <td>NaN</td>\n",
       "      <td>NaN</td>\n",
       "      <td>NaN</td>\n",
       "      <td>NaN</td>\n",
       "      <td>39.25</td>\n",
       "      <td>29.25</td>\n",
       "    </tr>\n",
       "    <tr>\n",
       "      <th>2015-07-07</th>\n",
       "      <td>NaN</td>\n",
       "      <td>NaN</td>\n",
       "      <td>NaN</td>\n",
       "      <td>NaN</td>\n",
       "      <td>41.00</td>\n",
       "      <td>27.25</td>\n",
       "    </tr>\n",
       "    <tr>\n",
       "      <th>2015-07-08</th>\n",
       "      <td>NaN</td>\n",
       "      <td>NaN</td>\n",
       "      <td>NaN</td>\n",
       "      <td>NaN</td>\n",
       "      <td>35.50</td>\n",
       "      <td>27.50</td>\n",
       "    </tr>\n",
       "  </tbody>\n",
       "</table>\n",
       "</div>"
      ],
      "text/plain": [
       "            open_interest  volume  open_price  close_price  high_price  \\\n",
       "date                                                                     \n",
       "2015-07-01            NaN     NaN         NaN          NaN       41.25   \n",
       "2015-07-02            NaN     NaN         NaN          NaN       40.50   \n",
       "2015-07-06            NaN     NaN         NaN          NaN       39.25   \n",
       "2015-07-07            NaN     NaN         NaN          NaN       41.00   \n",
       "2015-07-08            NaN     NaN         NaN          NaN       35.50   \n",
       "\n",
       "            low_price  \n",
       "date                   \n",
       "2015-07-01      36.00  \n",
       "2015-07-02      36.50  \n",
       "2015-07-06      29.25  \n",
       "2015-07-07      27.25  \n",
       "2015-07-08      27.50  "
      ]
     },
     "execution_count": 6,
     "metadata": {},
     "output_type": "execute_result"
    }
   ],
   "source": [
    "alphien.data.getHistoryData(\"ESU15C 2100 Index\", field=['open_interest','volume','open_price','close_price','high_price','low_price']).head()"
   ]
  },
  {
   "cell_type": "code",
   "execution_count": 305,
   "metadata": {},
   "outputs": [
    {
     "data": {
      "text/html": [
       "<div>\n",
       "<style scoped>\n",
       "    .dataframe tbody tr th:only-of-type {\n",
       "        vertical-align: middle;\n",
       "    }\n",
       "\n",
       "    .dataframe tbody tr th {\n",
       "        vertical-align: top;\n",
       "    }\n",
       "\n",
       "    .dataframe thead th {\n",
       "        text-align: right;\n",
       "    }\n",
       "</style>\n",
       "<table border=\"1\" class=\"dataframe\">\n",
       "  <thead>\n",
       "    <tr style=\"text-align: right;\">\n",
       "      <th></th>\n",
       "      <th>dividends</th>\n",
       "      <th>bb_live</th>\n",
       "    </tr>\n",
       "    <tr>\n",
       "      <th>date</th>\n",
       "      <th></th>\n",
       "      <th></th>\n",
       "    </tr>\n",
       "  </thead>\n",
       "  <tbody>\n",
       "    <tr>\n",
       "      <th>2015-11-17</th>\n",
       "      <td>0.36</td>\n",
       "      <td>77837.921875</td>\n",
       "    </tr>\n",
       "    <tr>\n",
       "      <th>2016-02-16</th>\n",
       "      <td>0.36</td>\n",
       "      <td>75604.320312</td>\n",
       "    </tr>\n",
       "    <tr>\n",
       "      <th>2016-05-17</th>\n",
       "      <td>0.36</td>\n",
       "      <td>75278.757812</td>\n",
       "    </tr>\n",
       "    <tr>\n",
       "      <th>2016-08-16</th>\n",
       "      <td>0.36</td>\n",
       "      <td>86143.578125</td>\n",
       "    </tr>\n",
       "    <tr>\n",
       "      <th>2016-11-15</th>\n",
       "      <td>0.39</td>\n",
       "      <td>88873.062500</td>\n",
       "    </tr>\n",
       "  </tbody>\n",
       "</table>\n",
       "</div>"
      ],
      "text/plain": [
       "            dividends       bb_live\n",
       "date                               \n",
       "2015-11-17       0.36  77837.921875\n",
       "2016-02-16       0.36  75604.320312\n",
       "2016-05-17       0.36  75278.757812\n",
       "2016-08-16       0.36  86143.578125\n",
       "2016-11-15       0.39  88873.062500"
      ]
     },
     "execution_count": 305,
     "metadata": {},
     "output_type": "execute_result"
    }
   ],
   "source": [
    "## dividend history of MSFT\n",
    "alphien.data.getHistoryData(\"MSFT.US Equity\", field=[\"dividends\",'bb live']).dropna().tail()"
   ]
  },
  {
   "cell_type": "code",
   "execution_count": 312,
   "metadata": {},
   "outputs": [],
   "source": [
    "## close_prices is not dividend adjusted but bb_live is adjusted close price \n",
    "msft = alphien.data.getHistoryData(\"MSFT.US Equity\", field=['close_price','bb live']).pct_change().dropna()"
   ]
  },
  {
   "cell_type": "code",
   "execution_count": 314,
   "metadata": {},
   "outputs": [],
   "source": [
    "diff = msft['close_price'] - msft['bb_live']"
   ]
  },
  {
   "cell_type": "code",
   "execution_count": 317,
   "metadata": {},
   "outputs": [
    {
     "data": {
      "text/plain": [
       "<matplotlib.axes._subplots.AxesSubplot at 0x7f891066cdd8>"
      ]
     },
     "execution_count": 317,
     "metadata": {},
     "output_type": "execute_result"
    },
    {
     "data": {
      "image/png": "[encoded data removed]",
      "text/plain": [
       "<Figure size 432x288 with 1 Axes>"
      ]
     },
     "metadata": {
      "needs_background": "light"
     },
     "output_type": "display_data"
    }
   ],
   "source": [
    "diff.plot()"
   ]
  },
  {
   "cell_type": "markdown",
   "metadata": {},
   "source": [
    "Work with log returns. Do not work with the raw price data series as it is not stationary. "
   ]
  },
  {
   "cell_type": "code",
   "execution_count": 89,
   "metadata": {},
   "outputs": [],
   "source": [
    "gold = alphien.data.getHistoryData(\"GC1 Comdty\" , field=['open_interest','volume','open_price','close_price','high_price','low_price'])"
   ]
  },
  {
   "cell_type": "code",
   "execution_count": 90,
   "metadata": {},
   "outputs": [],
   "source": [
    "log_gold = (np.log(gold) - np.log(gold.shift(1))).dropna()"
   ]
  },
  {
   "cell_type": "code",
   "execution_count": 92,
   "metadata": {},
   "outputs": [],
   "source": [
    "for lag in range(1,11):\n",
    "    for f in log_gold.columns:\n",
    "        log_gold[f+'_{}'.format(lag)] = log_gold[f].shift(lag)\n",
    "log_gold.dropna(inplace=True)"
   ]
  },
  {
   "cell_type": "markdown",
   "metadata": {},
   "source": [
    "Split into train and test data "
   ]
  },
  {
   "cell_type": "code",
   "execution_count": 93,
   "metadata": {},
   "outputs": [],
   "source": [
    "from sklearn.model_selection import train_test_split"
   ]
  },
  {
   "cell_type": "code",
   "execution_count": 95,
   "metadata": {},
   "outputs": [],
   "source": [
    "features = ['close_price_{}'.format(i) for i in range(1,11)]\n",
    "target = ['close_price']"
   ]
  },
  {
   "cell_type": "code",
   "execution_count": 96,
   "metadata": {},
   "outputs": [],
   "source": [
    "## Cannot shuffle ts data\n",
    "X_train, X_test, y_train, y_test = train_test_split(log_gold[features],log_gold[target],test_size=0.2,shuffle=False)"
   ]
  },
  {
   "cell_type": "markdown",
   "metadata": {},
   "source": [
    "Auto-regressive model: does not work well "
   ]
  },
  {
   "cell_type": "code",
   "execution_count": 97,
   "metadata": {},
   "outputs": [],
   "source": [
    "from statsmodels.tsa.ar_model import AutoReg, ar_select_order"
   ]
  },
  {
   "cell_type": "code",
   "execution_count": 98,
   "metadata": {},
   "outputs": [
    {
     "name": "stderr",
     "output_type": "stream",
     "text": [
      "/mnt/public/IT/Libs/Python/external/statsmodels/tsa/base/tsa_model.py:583: ValueWarning:\n",
      "\n",
      "A date index has been provided, but it has no associated frequency information and so will be ignored when e.g. forecasting.\n",
      "\n"
     ]
    }
   ],
   "source": [
    "# y_train.index = pd.DatetimeIndex(y_train.index).to_period('B')\n",
    "mod = AutoReg(y_train, 50, old_names=False)\n",
    "res = mod.fit()"
   ]
  },
  {
   "cell_type": "code",
   "execution_count": 99,
   "metadata": {},
   "outputs": [
    {
     "name": "stdout",
     "output_type": "stream",
     "text": [
      "                            AutoReg Model Results                             \n",
      "==============================================================================\n",
      "Dep. Variable:            close_price   No. Observations:                 1971\n",
      "Model:                    AutoReg(50)   Log Likelihood                5646.979\n",
      "Method:               Conditional MLE   S.D. of innovations              0.013\n",
      "Date:                Tue, 27 Oct 2020   AIC                             -8.663\n",
      "Time:                        15:27:25   BIC                             -8.512\n",
      "Sample:                            50   HQIC                            -8.608\n",
      "                                 1971                                         \n",
      "===================================================================================\n",
      "                      coef    std err          z      P>|z|      [0.025      0.975]\n",
      "-----------------------------------------------------------------------------------\n",
      "const               0.0004      0.000      1.295      0.195      -0.000       0.001\n",
      "close_price.L1      0.0108      0.023      0.471      0.637      -0.034       0.055\n",
      "close_price.L2     -0.0140      0.023     -0.614      0.539      -0.059       0.031\n",
      "close_price.L3      0.0102      0.023      0.446      0.656      -0.035       0.055\n",
      "close_price.L4     -0.0238      0.023     -1.046      0.295      -0.068       0.021\n",
      "close_price.L5      0.0239      0.023      1.049      0.294      -0.021       0.069\n",
      "close_price.L6     -0.0422      0.023     -1.854      0.064      -0.087       0.002\n",
      "close_price.L7     -0.0212      0.023     -0.929      0.353      -0.066       0.023\n",
      "close_price.L8     -0.0239      0.023     -1.050      0.294      -0.069       0.021\n",
      "close_price.L9      0.0636      0.023      2.791      0.005       0.019       0.108\n",
      "close_price.L10    -0.0178      0.023     -0.777      0.437      -0.063       0.027\n",
      "close_price.L11    -0.0563      0.023     -2.463      0.014      -0.101      -0.011\n",
      "close_price.L12    -0.0207      0.023     -0.903      0.366      -0.065       0.024\n",
      "close_price.L13     0.0048      0.023      0.211      0.833      -0.040       0.050\n",
      "close_price.L14     0.0107      0.023      0.466      0.641      -0.034       0.055\n",
      "close_price.L15     0.0351      0.023      1.533      0.125      -0.010       0.080\n",
      "close_price.L16    -0.0104      0.023     -0.454      0.650      -0.055       0.034\n",
      "close_price.L17    -0.0176      0.023     -0.770      0.441      -0.062       0.027\n",
      "close_price.L18    -0.0556      0.023     -2.430      0.015      -0.100      -0.011\n",
      "close_price.L19     0.0184      0.023      0.804      0.421      -0.026       0.063\n",
      "close_price.L20     0.0372      0.023      1.625      0.104      -0.008       0.082\n",
      "close_price.L21    -0.0144      0.023     -0.628      0.530      -0.059       0.030\n",
      "close_price.L22    -0.0246      0.023     -1.073      0.283      -0.069       0.020\n",
      "close_price.L23    -0.0278      0.023     -1.213      0.225      -0.073       0.017\n",
      "close_price.L24    -0.0167      0.023     -0.729      0.466      -0.062       0.028\n",
      "close_price.L25     0.0003      0.023      0.012      0.991      -0.045       0.045\n",
      "close_price.L26    -0.0178      0.023     -0.778      0.437      -0.063       0.027\n",
      "close_price.L27    -0.0162      0.023     -0.705      0.481      -0.061       0.029\n",
      "close_price.L28     0.0217      0.023      0.948      0.343      -0.023       0.067\n",
      "close_price.L29     0.0054      0.023      0.234      0.815      -0.040       0.050\n",
      "close_price.L30     0.0245      0.023      1.070      0.285      -0.020       0.069\n",
      "close_price.L31    -0.0308      0.023     -1.345      0.179      -0.076       0.014\n",
      "close_price.L32    -0.0338      0.023     -1.475      0.140      -0.079       0.011\n",
      "close_price.L33     0.0230      0.023      1.001      0.317      -0.022       0.068\n",
      "close_price.L34     0.0081      0.023      0.351      0.725      -0.037       0.053\n",
      "close_price.L35    -0.0342      0.023     -1.488      0.137      -0.079       0.011\n",
      "close_price.L36    -0.0198      0.023     -0.864      0.388      -0.065       0.025\n",
      "close_price.L37     0.0198      0.023      0.863      0.388      -0.025       0.065\n",
      "close_price.L38     0.0099      0.023      0.431      0.667      -0.035       0.055\n",
      "close_price.L39    -0.0232      0.023     -1.009      0.313      -0.068       0.022\n",
      "close_price.L40    -0.0279      0.023     -1.215      0.224      -0.073       0.017\n",
      "close_price.L41     0.0317      0.023      1.379      0.168      -0.013       0.077\n",
      "close_price.L42    -0.0139      0.023     -0.609      0.543      -0.059       0.031\n",
      "close_price.L43     0.0124      0.023      0.543      0.587      -0.032       0.057\n",
      "close_price.L44    -0.0353      0.023     -1.539      0.124      -0.080       0.010\n",
      "close_price.L45    -0.0024      0.023     -0.107      0.915      -0.047       0.042\n",
      "close_price.L46     0.0284      0.023      1.242      0.214      -0.016       0.073\n",
      "close_price.L47     0.0498      0.023      2.177      0.029       0.005       0.095\n",
      "close_price.L48     0.0223      0.023      0.973      0.331      -0.023       0.067\n",
      "close_price.L49    -0.0343      0.023     -1.496      0.135      -0.079       0.011\n",
      "close_price.L50     0.0176      0.023      0.767      0.443      -0.027       0.063\n",
      "                                    Roots                                     \n",
      "==============================================================================\n",
      "                   Real          Imaginary           Modulus         Frequency\n",
      "------------------------------------------------------------------------------\n",
      "AR.1            -1.0161           -0.2469j            1.0456           -0.4621\n",
      "AR.2            -1.0161           +0.2469j            1.0456            0.4621\n",
      "AR.3            -1.0705           -0.1098j            1.0761           -0.4837\n",
      "AR.4            -1.0705           +0.1098j            1.0761            0.4837\n",
      "AR.5            -1.1147           -0.0000j            1.1147           -0.5000\n",
      "AR.6            -0.9725           -0.3892j            1.0475           -0.4394\n",
      "AR.7            -0.9725           +0.3892j            1.0475            0.4394\n",
      "AR.8            -0.9117           -0.5129j            1.0461           -0.4184\n",
      "AR.9            -0.9117           +0.5129j            1.0461            0.4184\n",
      "AR.10           -0.8379           -0.6297j            1.0481           -0.3974\n",
      "AR.11           -0.8379           +0.6297j            1.0481            0.3974\n",
      "AR.12           -0.7752           -0.7613j            1.0865           -0.3764\n",
      "AR.13           -0.7752           +0.7613j            1.0865            0.3764\n",
      "AR.14           -0.6723           -0.8212j            1.0613           -0.3592\n",
      "AR.15           -0.6723           +0.8212j            1.0613            0.3592\n",
      "AR.16           -0.5654           -0.9059j            1.0679           -0.3388\n",
      "AR.17           -0.5654           +0.9059j            1.0679            0.3388\n",
      "AR.18           -0.4475           -0.9531j            1.0530           -0.3199\n",
      "AR.19           -0.4475           +0.9531j            1.0530            0.3199\n",
      "AR.20           -0.3124           -0.9978j            1.0455           -0.2983\n",
      "AR.21           -0.3124           +0.9978j            1.0455            0.2983\n",
      "AR.22           -0.1621           -1.0569j            1.0693           -0.2742\n",
      "AR.23           -0.1621           +1.0569j            1.0693            0.2742\n",
      "AR.24           -0.0562           -1.0704j            1.0718           -0.2583\n",
      "AR.25           -0.0562           +1.0704j            1.0718            0.2583\n",
      "AR.26            0.0758           -1.0309j            1.0336           -0.2383\n",
      "AR.27            0.0758           +1.0309j            1.0336            0.2383\n",
      "AR.28            0.2394           -1.0005j            1.0288           -0.2126\n",
      "AR.29            0.2394           +1.0005j            1.0288            0.2126\n",
      "AR.30            0.3619           -0.9836j            1.0481           -0.1939\n",
      "AR.31            0.3619           +0.9836j            1.0481            0.1939\n",
      "AR.32            0.5056           -0.9299j            1.0584           -0.1707\n",
      "AR.33            0.5056           +0.9299j            1.0584            0.1707\n",
      "AR.34            0.6281           -0.8386j            1.0477           -0.1477\n",
      "AR.35            0.6281           +0.8386j            1.0477            0.1477\n",
      "AR.36            0.7300           -0.7687j            1.0601           -0.1291\n",
      "AR.37            0.7300           +0.7687j            1.0601            0.1291\n",
      "AR.38            0.8252           -0.6494j            1.0501           -0.1061\n",
      "AR.39            0.8252           +0.6494j            1.0501            0.1061\n",
      "AR.40            0.9189           -0.5388j            1.0652           -0.0844\n",
      "AR.41            0.9189           +0.5388j            1.0652            0.0844\n",
      "AR.42            0.9674           -0.4127j            1.0518           -0.0642\n",
      "AR.43            0.9674           +0.4127j            1.0518            0.0642\n",
      "AR.44            1.0864           -0.0000j            1.0864           -0.0000\n",
      "AR.45            1.0466           -0.1333j            1.0551           -0.0202\n",
      "AR.46            1.0466           +0.1333j            1.0551            0.0202\n",
      "AR.47            1.0207           -0.2754j            1.0572           -0.0419\n",
      "AR.48            1.0207           +0.2754j            1.0572            0.0419\n",
      "AR.49            1.4686           -1.3334j            1.9836           -0.1173\n",
      "AR.50            1.4686           +1.3334j            1.9836            0.1173\n",
      "------------------------------------------------------------------------------\n"
     ]
    }
   ],
   "source": [
    "print(res.summary())"
   ]
  },
  {
   "cell_type": "code",
   "execution_count": 100,
   "metadata": {},
   "outputs": [
    {
     "name": "stderr",
     "output_type": "stream",
     "text": [
      "/mnt/public/IT/Libs/Python/external/statsmodels/tsa/base/tsa_model.py:379: ValueWarning:\n",
      "\n",
      "No supported index is available. Prediction results will be given with an integer index beginning at `start`.\n",
      "\n"
     ]
    }
   ],
   "source": [
    "n_steps = 50\n",
    "out_sample = res.forecast(steps=n_steps)\n",
    "out_sample.index = y_test.index[:n_steps]"
   ]
  },
  {
   "cell_type": "code",
   "execution_count": 101,
   "metadata": {},
   "outputs": [
    {
     "data": {
      "text/plain": [
       "<matplotlib.axes._subplots.AxesSubplot at 0x7f790d417cc0>"
      ]
     },
     "execution_count": 101,
     "metadata": {},
     "output_type": "execute_result"
    },
    {
     "data": {
      "image/png": "[encoded data removed]",
      "text/plain": [
       "<Figure size 432x288 with 1 Axes>"
      ]
     },
     "metadata": {
      "needs_background": "light"
     },
     "output_type": "display_data"
    }
   ],
   "source": [
    "y_test['close_price'][:n_steps].plot()"
   ]
  },
  {
   "cell_type": "code",
   "execution_count": 102,
   "metadata": {},
   "outputs": [
    {
     "data": {
      "text/plain": [
       "<matplotlib.axes._subplots.AxesSubplot at 0x7f790d411da0>"
      ]
     },
     "execution_count": 102,
     "metadata": {},
     "output_type": "execute_result"
    },
    {
     "data": {
      "image/png": "[encoded data removed]",
      "text/plain": [
       "<Figure size 432x288 with 1 Axes>"
      ]
     },
     "metadata": {
      "needs_background": "light"
     },
     "output_type": "display_data"
    }
   ],
   "source": [
    "# The data is at a different scale \n",
    "out_sample.plot()"
   ]
  },
  {
   "cell_type": "code",
   "execution_count": 103,
   "metadata": {},
   "outputs": [
    {
     "data": {
      "text/plain": [
       "array([[ 1.        , -0.09144996],\n",
       "       [-0.09144996,  1.        ]])"
      ]
     },
     "execution_count": 103,
     "metadata": {},
     "output_type": "execute_result"
    }
   ],
   "source": [
    "np.corrcoef(y_test['close_price'][:n_steps],out_sample)"
   ]
  },
  {
   "cell_type": "markdown",
   "metadata": {},
   "source": [
    "Auto-regressive models will produce forecasts that oscialliate around zero for log price series."
   ]
  },
  {
   "cell_type": "markdown",
   "metadata": {},
   "source": [
    "LSTM model with keras"
   ]
  },
  {
   "cell_type": "code",
   "execution_count": 104,
   "metadata": {},
   "outputs": [],
   "source": [
    "dataset_train = tf.keras.preprocessing.timeseries_dataset_from_array(\n",
    "    X_train,\n",
    "    y_train,\n",
    "    sequence_length=20,\n",
    "    sampling_rate=1,\n",
    "    batch_size=128,\n",
    ")"
   ]
  },
  {
   "cell_type": "code",
   "execution_count": 105,
   "metadata": {},
   "outputs": [],
   "source": [
    "dataset_val = tf.keras.preprocessing.timeseries_dataset_from_array(\n",
    "    X_test,\n",
    "    y_test,\n",
    "    sequence_length=20,\n",
    "    sampling_rate=1,\n",
    "    batch_size=1,\n",
    ")"
   ]
  },
  {
   "cell_type": "code",
   "execution_count": 106,
   "metadata": {},
   "outputs": [],
   "source": [
    "for batch in dataset_train.take(1):\n",
    "    inputs, targets = batch"
   ]
  },
  {
   "cell_type": "code",
   "execution_count": 107,
   "metadata": {},
   "outputs": [
    {
     "name": "stdout",
     "output_type": "stream",
     "text": [
      "Model: \"functional_1\"\n",
      "_________________________________________________________________\n",
      "Layer (type)                 Output Shape              Param #   \n",
      "=================================================================\n",
      "input_1 (InputLayer)         [(None, 20, 10)]          0         \n",
      "_________________________________________________________________\n",
      "lstm (LSTM)                  (None, 5)                 320       \n",
      "_________________________________________________________________\n",
      "dense (Dense)                (None, 1)                 6         \n",
      "=================================================================\n",
      "Total params: 326\n",
      "Trainable params: 326\n",
      "Non-trainable params: 0\n",
      "_________________________________________________________________\n"
     ]
    }
   ],
   "source": [
    "inputs = tf.keras.layers.Input(shape=(inputs.shape[1], inputs.shape[2]))\n",
    "lstm_out = tf.keras.layers.LSTM(5)(inputs)\n",
    "outputs = tf.keras.layers.Dense(1)(lstm_out)\n",
    "\n",
    "model = tf.keras.Model(inputs=inputs, outputs=outputs)\n",
    "model.compile(optimizer=tf.keras.optimizers.Adam(lr=0.005), loss=\"mse\")\n",
    "model.summary()"
   ]
  },
  {
   "cell_type": "code",
   "execution_count": 109,
   "metadata": {},
   "outputs": [
    {
     "name": "stdout",
     "output_type": "stream",
     "text": [
      "Epoch 1/50\n",
      "16/16 [==============================] - 1s 31ms/step - loss: 1.5669e-04\n",
      "Epoch 2/50\n",
      "16/16 [==============================] - 0s 28ms/step - loss: 1.5323e-04\n",
      "Epoch 3/50\n",
      "16/16 [==============================] - 0s 30ms/step - loss: 1.5092e-04\n",
      "Epoch 4/50\n",
      "16/16 [==============================] - 0s 29ms/step - loss: 1.4868e-04\n",
      "Epoch 5/50\n",
      "16/16 [==============================] - 0s 31ms/step - loss: 1.4557e-04\n",
      "Epoch 6/50\n",
      "16/16 [==============================] - 0s 28ms/step - loss: 1.3856e-04\n",
      "Epoch 7/50\n",
      "16/16 [==============================] - 0s 28ms/step - loss: 1.4479e-04\n",
      "Epoch 8/50\n",
      "16/16 [==============================] - 0s 31ms/step - loss: 1.5136e-04\n",
      "Epoch 9/50\n",
      "16/16 [==============================] - 0s 28ms/step - loss: 1.3605e-04\n",
      "Epoch 10/50\n",
      "16/16 [==============================] - 0s 28ms/step - loss: 1.3131e-04\n",
      "Epoch 11/50\n",
      "16/16 [==============================] - 0s 28ms/step - loss: 1.2685e-04\n",
      "Epoch 12/50\n",
      "16/16 [==============================] - 0s 27ms/step - loss: 1.2955e-04\n",
      "Epoch 13/50\n",
      "16/16 [==============================] - 0s 28ms/step - loss: 1.3626e-04\n",
      "Epoch 14/50\n",
      "16/16 [==============================] - 0s 29ms/step - loss: 1.3856e-04\n",
      "Epoch 15/50\n",
      "16/16 [==============================] - 0s 28ms/step - loss: 1.2457e-04\n",
      "Epoch 16/50\n",
      "16/16 [==============================] - 0s 30ms/step - loss: 1.2098e-04\n",
      "Epoch 17/50\n",
      "16/16 [==============================] - 0s 28ms/step - loss: 1.2040e-04\n",
      "Epoch 18/50\n",
      "16/16 [==============================] - 0s 28ms/step - loss: 1.2499e-04\n",
      "Epoch 19/50\n",
      "16/16 [==============================] - 0s 28ms/step - loss: 1.3254e-04\n",
      "Epoch 20/50\n",
      "16/16 [==============================] - 0s 28ms/step - loss: 1.2474e-04\n",
      "Epoch 21/50\n",
      "16/16 [==============================] - 0s 28ms/step - loss: 1.2024e-04\n",
      "Epoch 22/50\n",
      "16/16 [==============================] - 0s 28ms/step - loss: 1.1823e-04\n",
      "Epoch 23/50\n",
      "16/16 [==============================] - 0s 28ms/step - loss: 1.1904e-04\n",
      "Epoch 24/50\n",
      "16/16 [==============================] - 0s 28ms/step - loss: 1.2165e-04\n",
      "Epoch 25/50\n",
      "16/16 [==============================] - 0s 28ms/step - loss: 1.2312e-04\n",
      "Epoch 26/50\n",
      "16/16 [==============================] - 0s 28ms/step - loss: 1.2321e-04\n",
      "Epoch 27/50\n",
      "16/16 [==============================] - 0s 29ms/step - loss: 1.2109e-04\n",
      "Epoch 28/50\n",
      "16/16 [==============================] - 0s 31ms/step - loss: 1.1944e-04\n",
      "Epoch 29/50\n",
      "16/16 [==============================] - 0s 28ms/step - loss: 1.2024e-04\n",
      "Epoch 30/50\n",
      "16/16 [==============================] - 0s 28ms/step - loss: 1.2283e-04\n",
      "Epoch 31/50\n",
      "16/16 [==============================] - 0s 30ms/step - loss: 1.2191e-04\n",
      "Epoch 32/50\n",
      "16/16 [==============================] - 0s 28ms/step - loss: 1.1815e-04\n",
      "Epoch 33/50\n",
      "16/16 [==============================] - 0s 28ms/step - loss: 1.1720e-04\n",
      "Epoch 34/50\n",
      "16/16 [==============================] - 0s 30ms/step - loss: 1.1786e-04\n",
      "Epoch 35/50\n",
      "16/16 [==============================] - 0s 28ms/step - loss: 1.1934e-04\n",
      "Epoch 36/50\n",
      "16/16 [==============================] - 0s 28ms/step - loss: 1.2006e-04\n",
      "Epoch 37/50\n",
      "16/16 [==============================] - 0s 30ms/step - loss: 1.1981e-04\n",
      "Epoch 38/50\n",
      "16/16 [==============================] - 0s 28ms/step - loss: 1.1843e-04\n",
      "Epoch 39/50\n",
      "16/16 [==============================] - 0s 31ms/step - loss: 1.1790e-04\n",
      "Epoch 40/50\n",
      "16/16 [==============================] - 0s 28ms/step - loss: 1.1855e-04\n",
      "Epoch 41/50\n",
      "16/16 [==============================] - 0s 28ms/step - loss: 1.1924e-04\n",
      "Epoch 42/50\n",
      "16/16 [==============================] - 0s 30ms/step - loss: 1.1889e-04\n",
      "Epoch 43/50\n",
      "16/16 [==============================] - 0s 30ms/step - loss: 1.1764e-04\n",
      "Epoch 44/50\n",
      "16/16 [==============================] - 0s 28ms/step - loss: 1.1707e-04\n",
      "Epoch 45/50\n",
      "16/16 [==============================] - 0s 28ms/step - loss: 1.1742e-04\n",
      "Epoch 46/50\n",
      "16/16 [==============================] - 0s 27ms/step - loss: 1.1813e-04\n",
      "Epoch 47/50\n",
      "16/16 [==============================] - 0s 28ms/step - loss: 1.1841e-04\n",
      "Epoch 48/50\n",
      "16/16 [==============================] - 0s 29ms/step - loss: 1.1763e-04\n",
      "Epoch 49/50\n",
      "16/16 [==============================] - 0s 28ms/step - loss: 1.1671e-04\n",
      "Epoch 50/50\n",
      "16/16 [==============================] - 0s 28ms/step - loss: 1.1655e-04\n"
     ]
    }
   ],
   "source": [
    "history = model.fit(\n",
    "    dataset_train,\n",
    "    epochs=50,\n",
    ")"
   ]
  },
  {
   "cell_type": "code",
   "execution_count": 110,
   "metadata": {},
   "outputs": [],
   "source": [
    "import matplotlib.pyplot as plt"
   ]
  },
  {
   "cell_type": "code",
   "execution_count": 111,
   "metadata": {},
   "outputs": [],
   "source": [
    "actual_values = list()\n",
    "model_predicts = list()\n",
    "\n",
    "for x, y in dataset_val.take(30):\n",
    "    model_predicts.append(model.predict(x)[0][0])\n",
    "    actual_values.append(y[0][0].numpy())"
   ]
  },
  {
   "cell_type": "code",
   "execution_count": 112,
   "metadata": {},
   "outputs": [
    {
     "data": {
      "text/html": [
       "<div>\n",
       "<style scoped>\n",
       "    .dataframe tbody tr th:only-of-type {\n",
       "        vertical-align: middle;\n",
       "    }\n",
       "\n",
       "    .dataframe tbody tr th {\n",
       "        vertical-align: top;\n",
       "    }\n",
       "\n",
       "    .dataframe thead th {\n",
       "        text-align: right;\n",
       "    }\n",
       "</style>\n",
       "<table border=\"1\" class=\"dataframe\">\n",
       "  <thead>\n",
       "    <tr style=\"text-align: right;\">\n",
       "      <th></th>\n",
       "      <th>actuals</th>\n",
       "      <th>prediction</th>\n",
       "    </tr>\n",
       "  </thead>\n",
       "  <tbody>\n",
       "    <tr>\n",
       "      <th>0</th>\n",
       "      <td>0.013457</td>\n",
       "      <td>0.007669</td>\n",
       "    </tr>\n",
       "    <tr>\n",
       "      <th>1</th>\n",
       "      <td>-0.000386</td>\n",
       "      <td>0.003035</td>\n",
       "    </tr>\n",
       "    <tr>\n",
       "      <th>2</th>\n",
       "      <td>0.005396</td>\n",
       "      <td>-0.000212</td>\n",
       "    </tr>\n",
       "    <tr>\n",
       "      <th>3</th>\n",
       "      <td>-0.006247</td>\n",
       "      <td>-0.000780</td>\n",
       "    </tr>\n",
       "    <tr>\n",
       "      <th>4</th>\n",
       "      <td>-0.010264</td>\n",
       "      <td>-0.005871</td>\n",
       "    </tr>\n",
       "    <tr>\n",
       "      <th>5</th>\n",
       "      <td>0.009568</td>\n",
       "      <td>-0.003295</td>\n",
       "    </tr>\n",
       "    <tr>\n",
       "      <th>6</th>\n",
       "      <td>-0.004500</td>\n",
       "      <td>-0.001792</td>\n",
       "    </tr>\n",
       "    <tr>\n",
       "      <th>7</th>\n",
       "      <td>-0.024642</td>\n",
       "      <td>-0.003815</td>\n",
       "    </tr>\n",
       "    <tr>\n",
       "      <th>8</th>\n",
       "      <td>0.018871</td>\n",
       "      <td>-0.003541</td>\n",
       "    </tr>\n",
       "    <tr>\n",
       "      <th>9</th>\n",
       "      <td>-0.001252</td>\n",
       "      <td>0.004194</td>\n",
       "    </tr>\n",
       "    <tr>\n",
       "      <th>10</th>\n",
       "      <td>-0.013085</td>\n",
       "      <td>-0.005560</td>\n",
       "    </tr>\n",
       "    <tr>\n",
       "      <th>11</th>\n",
       "      <td>0.003327</td>\n",
       "      <td>-0.005874</td>\n",
       "    </tr>\n",
       "    <tr>\n",
       "      <th>12</th>\n",
       "      <td>-0.001425</td>\n",
       "      <td>-0.004709</td>\n",
       "    </tr>\n",
       "    <tr>\n",
       "      <th>13</th>\n",
       "      <td>-0.022505</td>\n",
       "      <td>-0.006213</td>\n",
       "    </tr>\n",
       "    <tr>\n",
       "      <th>14</th>\n",
       "      <td>0.005573</td>\n",
       "      <td>-0.008004</td>\n",
       "    </tr>\n",
       "    <tr>\n",
       "      <th>15</th>\n",
       "      <td>-0.007519</td>\n",
       "      <td>-0.003632</td>\n",
       "    </tr>\n",
       "    <tr>\n",
       "      <th>16</th>\n",
       "      <td>-0.010278</td>\n",
       "      <td>-0.007428</td>\n",
       "    </tr>\n",
       "    <tr>\n",
       "      <th>17</th>\n",
       "      <td>0.000901</td>\n",
       "      <td>-0.002624</td>\n",
       "    </tr>\n",
       "    <tr>\n",
       "      <th>18</th>\n",
       "      <td>0.005229</td>\n",
       "      <td>-0.003502</td>\n",
       "    </tr>\n",
       "    <tr>\n",
       "      <th>19</th>\n",
       "      <td>-0.015191</td>\n",
       "      <td>-0.004574</td>\n",
       "    </tr>\n",
       "    <tr>\n",
       "      <th>20</th>\n",
       "      <td>-0.006975</td>\n",
       "      <td>-0.007370</td>\n",
       "    </tr>\n",
       "    <tr>\n",
       "      <th>21</th>\n",
       "      <td>0.006147</td>\n",
       "      <td>-0.001636</td>\n",
       "    </tr>\n",
       "    <tr>\n",
       "      <th>22</th>\n",
       "      <td>-0.002238</td>\n",
       "      <td>-0.001885</td>\n",
       "    </tr>\n",
       "    <tr>\n",
       "      <th>23</th>\n",
       "      <td>-0.003408</td>\n",
       "      <td>-0.002241</td>\n",
       "    </tr>\n",
       "    <tr>\n",
       "      <th>24</th>\n",
       "      <td>-0.002919</td>\n",
       "      <td>-0.001378</td>\n",
       "    </tr>\n",
       "    <tr>\n",
       "      <th>25</th>\n",
       "      <td>0.003502</td>\n",
       "      <td>0.001131</td>\n",
       "    </tr>\n",
       "    <tr>\n",
       "      <th>26</th>\n",
       "      <td>0.007132</td>\n",
       "      <td>0.004210</td>\n",
       "    </tr>\n",
       "    <tr>\n",
       "      <th>27</th>\n",
       "      <td>0.002476</td>\n",
       "      <td>0.003044</td>\n",
       "    </tr>\n",
       "    <tr>\n",
       "      <th>28</th>\n",
       "      <td>-0.004047</td>\n",
       "      <td>-0.002256</td>\n",
       "    </tr>\n",
       "    <tr>\n",
       "      <th>29</th>\n",
       "      <td>-0.003150</td>\n",
       "      <td>-0.005441</td>\n",
       "    </tr>\n",
       "  </tbody>\n",
       "</table>\n",
       "</div>"
      ],
      "text/plain": [
       "     actuals  prediction\n",
       "0   0.013457    0.007669\n",
       "1  -0.000386    0.003035\n",
       "2   0.005396   -0.000212\n",
       "3  -0.006247   -0.000780\n",
       "4  -0.010264   -0.005871\n",
       "5   0.009568   -0.003295\n",
       "6  -0.004500   -0.001792\n",
       "7  -0.024642   -0.003815\n",
       "8   0.018871   -0.003541\n",
       "9  -0.001252    0.004194\n",
       "10 -0.013085   -0.005560\n",
       "11  0.003327   -0.005874\n",
       "12 -0.001425   -0.004709\n",
       "13 -0.022505   -0.006213\n",
       "14  0.005573   -0.008004\n",
       "15 -0.007519   -0.003632\n",
       "16 -0.010278   -0.007428\n",
       "17  0.000901   -0.002624\n",
       "18  0.005229   -0.003502\n",
       "19 -0.015191   -0.004574\n",
       "20 -0.006975   -0.007370\n",
       "21  0.006147   -0.001636\n",
       "22 -0.002238   -0.001885\n",
       "23 -0.003408   -0.002241\n",
       "24 -0.002919   -0.001378\n",
       "25  0.003502    0.001131\n",
       "26  0.007132    0.004210\n",
       "27  0.002476    0.003044\n",
       "28 -0.004047   -0.002256\n",
       "29 -0.003150   -0.005441"
      ]
     },
     "execution_count": 112,
     "metadata": {},
     "output_type": "execute_result"
    }
   ],
   "source": [
    "pd.DataFrame({'actuals':actual_values,'prediction':model_predicts})"
   ]
  },
  {
   "cell_type": "code",
   "execution_count": 113,
   "metadata": {},
   "outputs": [
    {
     "data": {
      "text/plain": [
       "array([[1.        , 0.43152399],\n",
       "       [0.43152399, 1.        ]])"
      ]
     },
     "execution_count": 113,
     "metadata": {},
     "output_type": "execute_result"
    }
   ],
   "source": [
    "np.corrcoef(actual_values,model_predicts)"
   ]
  },
  {
   "cell_type": "markdown",
   "metadata": {},
   "source": [
    "Predicts from LSTM has a positive correlation with the actual values. It suggests LSTM improves by predictions. "
   ]
  },
  {
   "cell_type": "markdown",
   "metadata": {},
   "source": [
    "### Conclusion\n",
    "Simple TS models does not work with equity prices. This applies to ARIMA and similar models. \n",
    "Work to do: GARCH model on volatility (not implemented in statsmodels so not shown here) \n",
    "\n",
    "LSTM can improve prediction as it overcomes the limitations of AR models. \n",
    "Work to do: Explore different nerual network models. Dropout and batch normalisation in particular. Training time for more complicated models can be CPU and time consuming and therefore not done here. \n"
   ]
  },
  {
   "cell_type": "markdown",
   "metadata": {},
   "source": [
    "### What is the shape of the market, PCA on market returns "
   ]
  },
  {
   "cell_type": "code",
   "execution_count": 61,
   "metadata": {},
   "outputs": [
    {
     "name": "stdout",
     "output_type": "stream",
     "text": [
      "Ticker(s) CB.US Equity, CBE.US Equity, COV.US Equity, GGP.US Equity, JCI.US Equity, NE.US Equity, RIG.US Equity, TEL.US Equity, TT.US Equity, VAL.US Equity was/were duplicated. These duplicates will be dropped.\n",
      "Values for CBSS.US Equity, APCC.US Equity, FTV.US Equity, MI.US Equity, UVN.US Equity, PTV.US Equity, RX.US Equity, PGL.US Equity, EOP.US Equity, TRB.US Equity, SLR.US Equity, BNI.US Equity, BOL.US Equity, MFE.US Equity, AYE.US Equity, LEH.US Equity, BDK.US Equity, TXU.US Equity, BJS.US Equity, NOVL.US Equity, JAVA.US Equity, GENZ.US Equity, MEL.US Equity, WWY.US Equity, BRL.US Equity, KSE.US Equity, MEDI.US Equity, AW.US Equity, TEK.US Equity, CEPH.US Equity, BMET.US Equity, ACS.US Equity, SGP.US Equity, SBL.US Equity, ROH.US Equity, ABK.US Equity, DJ.US Equity, MER.US Equity, UA.US Equity, SOV.US Equity, MEE.US Equity, PBG.US Equity, XTO.US Equity, CTX.US Equity, HPC.US Equity, NCC.US Equity, KG.US Equity, WYE.US Equity, CMX.US Equity, CFC.US Equity, ASN.US Equity at requested dates have been coerced to NaN.\n"
     ]
    }
   ],
   "source": [
    "SPY_tickers = alphien.data.getTickersSP500()['ticker']\n",
    "dtf = alphien.data.DataFeatures(list(SPY_tickers), fields='close_price', startDate='2012-01-03', endDate='2016-03-30') \n",
    "# load data \n",
    "dtf.load()"
   ]
  },
  {
   "cell_type": "code",
   "execution_count": 62,
   "metadata": {},
   "outputs": [],
   "source": [
    "market_prices = dtf.first(1000).dropna(axis=1)"
   ]
  },
  {
   "cell_type": "code",
   "execution_count": 63,
   "metadata": {},
   "outputs": [],
   "source": [
    "market_prices_log = (np.log(market_prices) - np.log(market_prices).shift(1)).dropna()"
   ]
  },
  {
   "cell_type": "code",
   "execution_count": 64,
   "metadata": {},
   "outputs": [
    {
     "data": {
      "text/html": [
       "<div>\n",
       "<style scoped>\n",
       "    .dataframe tbody tr th:only-of-type {\n",
       "        vertical-align: middle;\n",
       "    }\n",
       "\n",
       "    .dataframe tbody tr th {\n",
       "        vertical-align: top;\n",
       "    }\n",
       "\n",
       "    .dataframe thead th {\n",
       "        text-align: right;\n",
       "    }\n",
       "</style>\n",
       "<table border=\"1\" class=\"dataframe\">\n",
       "  <thead>\n",
       "    <tr style=\"text-align: right;\">\n",
       "      <th></th>\n",
       "      <th>A.US Equity</th>\n",
       "      <th>AA.US Equity</th>\n",
       "      <th>AAP.US Equity</th>\n",
       "      <th>AAPL.US Equity</th>\n",
       "      <th>ABC.US Equity</th>\n",
       "      <th>ABT.US Equity</th>\n",
       "      <th>ACAS.US Equity</th>\n",
       "      <th>ACN.US Equity</th>\n",
       "      <th>ADBE.US Equity</th>\n",
       "      <th>ADI.US Equity</th>\n",
       "      <th>...</th>\n",
       "      <th>XL.US Equity</th>\n",
       "      <th>XLNX.US Equity</th>\n",
       "      <th>XOM.US Equity</th>\n",
       "      <th>XRAY.US Equity</th>\n",
       "      <th>XRX.US Equity</th>\n",
       "      <th>XYL.US Equity</th>\n",
       "      <th>YHOO.US Equity</th>\n",
       "      <th>YUM.US Equity</th>\n",
       "      <th>ZBH.US Equity</th>\n",
       "      <th>ZION.US Equity</th>\n",
       "    </tr>\n",
       "  </thead>\n",
       "  <tbody>\n",
       "    <tr>\n",
       "      <th>2012-01-04</th>\n",
       "      <td>-0.007981</td>\n",
       "      <td>0.023556</td>\n",
       "      <td>0.023174</td>\n",
       "      <td>0.005360</td>\n",
       "      <td>0.003409</td>\n",
       "      <td>-0.003886</td>\n",
       "      <td>0.030473</td>\n",
       "      <td>-0.000378</td>\n",
       "      <td>-0.010202</td>\n",
       "      <td>-0.001389</td>\n",
       "      <td>...</td>\n",
       "      <td>-0.023059</td>\n",
       "      <td>-0.010692</td>\n",
       "      <td>0.000233</td>\n",
       "      <td>-0.000283</td>\n",
       "      <td>-0.006116</td>\n",
       "      <td>0.032482</td>\n",
       "      <td>-0.031501</td>\n",
       "      <td>0.006806</td>\n",
       "      <td>-0.013626</td>\n",
       "      <td>0.022122</td>\n",
       "    </tr>\n",
       "    <tr>\n",
       "      <th>2012-01-05</th>\n",
       "      <td>0.022135</td>\n",
       "      <td>-0.009569</td>\n",
       "      <td>0.006343</td>\n",
       "      <td>0.011041</td>\n",
       "      <td>0.007563</td>\n",
       "      <td>-0.002304</td>\n",
       "      <td>-0.016507</td>\n",
       "      <td>-0.019266</td>\n",
       "      <td>0.007047</td>\n",
       "      <td>0.004437</td>\n",
       "      <td>...</td>\n",
       "      <td>0.004049</td>\n",
       "      <td>0.008841</td>\n",
       "      <td>-0.003027</td>\n",
       "      <td>0.000848</td>\n",
       "      <td>-0.006154</td>\n",
       "      <td>-0.014350</td>\n",
       "      <td>-0.008912</td>\n",
       "      <td>0.007602</td>\n",
       "      <td>0.011770</td>\n",
       "      <td>0.027620</td>\n",
       "    </tr>\n",
       "    <tr>\n",
       "      <th>2012-01-06</th>\n",
       "      <td>0.010753</td>\n",
       "      <td>-0.021599</td>\n",
       "      <td>0.004626</td>\n",
       "      <td>0.010400</td>\n",
       "      <td>0.002595</td>\n",
       "      <td>-0.009089</td>\n",
       "      <td>0.002770</td>\n",
       "      <td>-0.001735</td>\n",
       "      <td>0.008392</td>\n",
       "      <td>-0.006663</td>\n",
       "      <td>...</td>\n",
       "      <td>0.006544</td>\n",
       "      <td>-0.006507</td>\n",
       "      <td>-0.007491</td>\n",
       "      <td>-0.005950</td>\n",
       "      <td>0.000000</td>\n",
       "      <td>-0.016940</td>\n",
       "      <td>-0.008024</td>\n",
       "      <td>0.007210</td>\n",
       "      <td>0.002597</td>\n",
       "      <td>0.001134</td>\n",
       "    </tr>\n",
       "    <tr>\n",
       "      <th>2012-01-09</th>\n",
       "      <td>0.025866</td>\n",
       "      <td>0.029050</td>\n",
       "      <td>-0.000280</td>\n",
       "      <td>-0.001587</td>\n",
       "      <td>-0.000518</td>\n",
       "      <td>-0.000179</td>\n",
       "      <td>-0.003464</td>\n",
       "      <td>-0.001738</td>\n",
       "      <td>-0.006638</td>\n",
       "      <td>0.019311</td>\n",
       "      <td>...</td>\n",
       "      <td>-0.007049</td>\n",
       "      <td>0.021526</td>\n",
       "      <td>0.004454</td>\n",
       "      <td>-0.004843</td>\n",
       "      <td>-0.001235</td>\n",
       "      <td>0.003965</td>\n",
       "      <td>-0.003551</td>\n",
       "      <td>-0.003850</td>\n",
       "      <td>0.007383</td>\n",
       "      <td>0.013514</td>\n",
       "    </tr>\n",
       "    <tr>\n",
       "      <th>2012-01-10</th>\n",
       "      <td>0.018586</td>\n",
       "      <td>0.001060</td>\n",
       "      <td>0.000839</td>\n",
       "      <td>0.003574</td>\n",
       "      <td>0.011343</td>\n",
       "      <td>0.004645</td>\n",
       "      <td>0.011728</td>\n",
       "      <td>0.017055</td>\n",
       "      <td>0.023212</td>\n",
       "      <td>0.004362</td>\n",
       "      <td>...</td>\n",
       "      <td>0.024951</td>\n",
       "      <td>0.001824</td>\n",
       "      <td>0.002570</td>\n",
       "      <td>0.014177</td>\n",
       "      <td>0.002469</td>\n",
       "      <td>0.012193</td>\n",
       "      <td>0.003229</td>\n",
       "      <td>0.006186</td>\n",
       "      <td>0.020747</td>\n",
       "      <td>0.016089</td>\n",
       "    </tr>\n",
       "    <tr>\n",
       "      <th>...</th>\n",
       "      <td>...</td>\n",
       "      <td>...</td>\n",
       "      <td>...</td>\n",
       "      <td>...</td>\n",
       "      <td>...</td>\n",
       "      <td>...</td>\n",
       "      <td>...</td>\n",
       "      <td>...</td>\n",
       "      <td>...</td>\n",
       "      <td>...</td>\n",
       "      <td>...</td>\n",
       "      <td>...</td>\n",
       "      <td>...</td>\n",
       "      <td>...</td>\n",
       "      <td>...</td>\n",
       "      <td>...</td>\n",
       "      <td>...</td>\n",
       "      <td>...</td>\n",
       "      <td>...</td>\n",
       "      <td>...</td>\n",
       "      <td>...</td>\n",
       "    </tr>\n",
       "    <tr>\n",
       "      <th>2015-12-16</th>\n",
       "      <td>0.015078</td>\n",
       "      <td>0.013072</td>\n",
       "      <td>0.029340</td>\n",
       "      <td>0.007663</td>\n",
       "      <td>-0.000984</td>\n",
       "      <td>0.010039</td>\n",
       "      <td>0.003570</td>\n",
       "      <td>0.021873</td>\n",
       "      <td>0.016247</td>\n",
       "      <td>0.017181</td>\n",
       "      <td>...</td>\n",
       "      <td>0.004693</td>\n",
       "      <td>0.000521</td>\n",
       "      <td>-0.003531</td>\n",
       "      <td>0.008472</td>\n",
       "      <td>0.024644</td>\n",
       "      <td>0.020497</td>\n",
       "      <td>0.022453</td>\n",
       "      <td>0.012727</td>\n",
       "      <td>0.008572</td>\n",
       "      <td>0.010691</td>\n",
       "    </tr>\n",
       "    <tr>\n",
       "      <th>2015-12-17</th>\n",
       "      <td>-0.015814</td>\n",
       "      <td>-0.009788</td>\n",
       "      <td>-0.049390</td>\n",
       "      <td>-0.021424</td>\n",
       "      <td>0.007356</td>\n",
       "      <td>-0.017304</td>\n",
       "      <td>0.012044</td>\n",
       "      <td>-0.054832</td>\n",
       "      <td>-0.014334</td>\n",
       "      <td>-0.024815</td>\n",
       "      <td>...</td>\n",
       "      <td>-0.001562</td>\n",
       "      <td>-0.018303</td>\n",
       "      <td>-0.015149</td>\n",
       "      <td>-0.003148</td>\n",
       "      <td>-0.007820</td>\n",
       "      <td>-0.027058</td>\n",
       "      <td>-0.016416</td>\n",
       "      <td>-0.018390</td>\n",
       "      <td>-0.012041</td>\n",
       "      <td>-0.016080</td>\n",
       "    </tr>\n",
       "    <tr>\n",
       "      <th>2015-12-18</th>\n",
       "      <td>-0.016815</td>\n",
       "      <td>0.008705</td>\n",
       "      <td>-0.023131</td>\n",
       "      <td>-0.027442</td>\n",
       "      <td>-0.004505</td>\n",
       "      <td>-0.035076</td>\n",
       "      <td>-0.023153</td>\n",
       "      <td>-0.012964</td>\n",
       "      <td>-0.031160</td>\n",
       "      <td>-0.017073</td>\n",
       "      <td>...</td>\n",
       "      <td>-0.019199</td>\n",
       "      <td>-0.012391</td>\n",
       "      <td>-0.008761</td>\n",
       "      <td>-0.010510</td>\n",
       "      <td>-0.003933</td>\n",
       "      <td>-0.017151</td>\n",
       "      <td>-0.008462</td>\n",
       "      <td>-0.004999</td>\n",
       "      <td>-0.017529</td>\n",
       "      <td>-0.038558</td>\n",
       "    </tr>\n",
       "    <tr>\n",
       "      <th>2015-12-21</th>\n",
       "      <td>0.018041</td>\n",
       "      <td>0.009704</td>\n",
       "      <td>0.000535</td>\n",
       "      <td>0.012186</td>\n",
       "      <td>0.009865</td>\n",
       "      <td>0.007750</td>\n",
       "      <td>0.012534</td>\n",
       "      <td>0.010346</td>\n",
       "      <td>0.003389</td>\n",
       "      <td>0.011892</td>\n",
       "      <td>...</td>\n",
       "      <td>0.006353</td>\n",
       "      <td>0.016628</td>\n",
       "      <td>-0.000258</td>\n",
       "      <td>0.007019</td>\n",
       "      <td>0.014670</td>\n",
       "      <td>0.008336</td>\n",
       "      <td>0.000455</td>\n",
       "      <td>0.021483</td>\n",
       "      <td>0.012752</td>\n",
       "      <td>0.002244</td>\n",
       "    </tr>\n",
       "    <tr>\n",
       "      <th>2015-12-22</th>\n",
       "      <td>0.009506</td>\n",
       "      <td>0.025425</td>\n",
       "      <td>-0.012237</td>\n",
       "      <td>-0.000932</td>\n",
       "      <td>0.002621</td>\n",
       "      <td>0.009941</td>\n",
       "      <td>0.000000</td>\n",
       "      <td>0.007449</td>\n",
       "      <td>0.023728</td>\n",
       "      <td>0.003308</td>\n",
       "      <td>...</td>\n",
       "      <td>0.031171</td>\n",
       "      <td>0.002745</td>\n",
       "      <td>0.005035</td>\n",
       "      <td>0.008787</td>\n",
       "      <td>0.038100</td>\n",
       "      <td>0.009912</td>\n",
       "      <td>0.036487</td>\n",
       "      <td>-0.005465</td>\n",
       "      <td>0.014854</td>\n",
       "      <td>0.014463</td>\n",
       "    </tr>\n",
       "  </tbody>\n",
       "</table>\n",
       "<p>999 rows × 552 columns</p>\n",
       "</div>"
      ],
      "text/plain": [
       "            A.US Equity  AA.US Equity  AAP.US Equity  AAPL.US Equity  \\\n",
       "2012-01-04    -0.007981      0.023556       0.023174        0.005360   \n",
       "2012-01-05     0.022135     -0.009569       0.006343        0.011041   \n",
       "2012-01-06     0.010753     -0.021599       0.004626        0.010400   \n",
       "2012-01-09     0.025866      0.029050      -0.000280       -0.001587   \n",
       "2012-01-10     0.018586      0.001060       0.000839        0.003574   \n",
       "...                 ...           ...            ...             ...   \n",
       "2015-12-16     0.015078      0.013072       0.029340        0.007663   \n",
       "2015-12-17    -0.015814     -0.009788      -0.049390       -0.021424   \n",
       "2015-12-18    -0.016815      0.008705      -0.023131       -0.027442   \n",
       "2015-12-21     0.018041      0.009704       0.000535        0.012186   \n",
       "2015-12-22     0.009506      0.025425      -0.012237       -0.000932   \n",
       "\n",
       "            ABC.US Equity  ABT.US Equity  ACAS.US Equity  ACN.US Equity  \\\n",
       "2012-01-04       0.003409      -0.003886        0.030473      -0.000378   \n",
       "2012-01-05       0.007563      -0.002304       -0.016507      -0.019266   \n",
       "2012-01-06       0.002595      -0.009089        0.002770      -0.001735   \n",
       "2012-01-09      -0.000518      -0.000179       -0.003464      -0.001738   \n",
       "2012-01-10       0.011343       0.004645        0.011728       0.017055   \n",
       "...                   ...            ...             ...            ...   \n",
       "2015-12-16      -0.000984       0.010039        0.003570       0.021873   \n",
       "2015-12-17       0.007356      -0.017304        0.012044      -0.054832   \n",
       "2015-12-18      -0.004505      -0.035076       -0.023153      -0.012964   \n",
       "2015-12-21       0.009865       0.007750        0.012534       0.010346   \n",
       "2015-12-22       0.002621       0.009941        0.000000       0.007449   \n",
       "\n",
       "            ADBE.US Equity  ADI.US Equity  ...  XL.US Equity  XLNX.US Equity  \\\n",
       "2012-01-04       -0.010202      -0.001389  ...     -0.023059       -0.010692   \n",
       "2012-01-05        0.007047       0.004437  ...      0.004049        0.008841   \n",
       "2012-01-06        0.008392      -0.006663  ...      0.006544       -0.006507   \n",
       "2012-01-09       -0.006638       0.019311  ...     -0.007049        0.021526   \n",
       "2012-01-10        0.023212       0.004362  ...      0.024951        0.001824   \n",
       "...                    ...            ...  ...           ...             ...   \n",
       "2015-12-16        0.016247       0.017181  ...      0.004693        0.000521   \n",
       "2015-12-17       -0.014334      -0.024815  ...     -0.001562       -0.018303   \n",
       "2015-12-18       -0.031160      -0.017073  ...     -0.019199       -0.012391   \n",
       "2015-12-21        0.003389       0.011892  ...      0.006353        0.016628   \n",
       "2015-12-22        0.023728       0.003308  ...      0.031171        0.002745   \n",
       "\n",
       "            XOM.US Equity  XRAY.US Equity  XRX.US Equity  XYL.US Equity  \\\n",
       "2012-01-04       0.000233       -0.000283      -0.006116       0.032482   \n",
       "2012-01-05      -0.003027        0.000848      -0.006154      -0.014350   \n",
       "2012-01-06      -0.007491       -0.005950       0.000000      -0.016940   \n",
       "2012-01-09       0.004454       -0.004843      -0.001235       0.003965   \n",
       "2012-01-10       0.002570        0.014177       0.002469       0.012193   \n",
       "...                   ...             ...            ...            ...   \n",
       "2015-12-16      -0.003531        0.008472       0.024644       0.020497   \n",
       "2015-12-17      -0.015149       -0.003148      -0.007820      -0.027058   \n",
       "2015-12-18      -0.008761       -0.010510      -0.003933      -0.017151   \n",
       "2015-12-21      -0.000258        0.007019       0.014670       0.008336   \n",
       "2015-12-22       0.005035        0.008787       0.038100       0.009912   \n",
       "\n",
       "            YHOO.US Equity  YUM.US Equity  ZBH.US Equity  ZION.US Equity  \n",
       "2012-01-04       -0.031501       0.006806      -0.013626        0.022122  \n",
       "2012-01-05       -0.008912       0.007602       0.011770        0.027620  \n",
       "2012-01-06       -0.008024       0.007210       0.002597        0.001134  \n",
       "2012-01-09       -0.003551      -0.003850       0.007383        0.013514  \n",
       "2012-01-10        0.003229       0.006186       0.020747        0.016089  \n",
       "...                    ...            ...            ...             ...  \n",
       "2015-12-16        0.022453       0.012727       0.008572        0.010691  \n",
       "2015-12-17       -0.016416      -0.018390      -0.012041       -0.016080  \n",
       "2015-12-18       -0.008462      -0.004999      -0.017529       -0.038558  \n",
       "2015-12-21        0.000455       0.021483       0.012752        0.002244  \n",
       "2015-12-22        0.036487      -0.005465       0.014854        0.014463  \n",
       "\n",
       "[999 rows x 552 columns]"
      ]
     },
     "execution_count": 64,
     "metadata": {},
     "output_type": "execute_result"
    }
   ],
   "source": [
    "market_prices_log"
   ]
  },
  {
   "cell_type": "code",
   "execution_count": 65,
   "metadata": {},
   "outputs": [],
   "source": [
    "from sklearn.decomposition import PCA"
   ]
  },
  {
   "cell_type": "code",
   "execution_count": 66,
   "metadata": {},
   "outputs": [
    {
     "data": {
      "text/plain": [
       "array([0.19629517, 0.03108883, 0.02399934, 0.02331611, 0.0229648 ],\n",
       "      dtype=float32)"
      ]
     },
     "execution_count": 66,
     "metadata": {},
     "output_type": "execute_result"
    }
   ],
   "source": [
    "# 20% of the variance in the data can be explained by the first component (overall market)\n",
    "pca = PCA(n_components=5)\n",
    "pca.fit(market_prices_log)\n",
    "pca.explained_variance_ratio_"
   ]
  },
  {
   "cell_type": "code",
   "execution_count": 67,
   "metadata": {},
   "outputs": [
    {
     "data": {
      "text/plain": [
       "array([[-0.0501411 , -0.05388444, -0.03610355, ..., -0.03549845,\n",
       "        -0.03431157, -0.05048312],\n",
       "       [ 0.01349967, -0.04111544,  0.03485853, ...,  0.02644556,\n",
       "         0.01903135, -0.00087312],\n",
       "       [ 0.00678121, -0.01667945, -0.00494642, ...,  0.00061759,\n",
       "         0.00111378,  0.0017938 ],\n",
       "       [ 0.00530252,  0.01424648, -0.00672421, ..., -0.01138197,\n",
       "        -0.00969306, -0.00221613],\n",
       "       [ 0.00096083, -0.00250015,  0.00800751, ...,  0.00728353,\n",
       "         0.00418575,  0.00720358]], dtype=float32)"
      ]
     },
     "execution_count": 67,
     "metadata": {},
     "output_type": "execute_result"
    }
   ],
   "source": [
    "# This is the 2D representation of a stock in the score space\n",
    "pca.components_"
   ]
  },
  {
   "cell_type": "code",
   "execution_count": 87,
   "metadata": {},
   "outputs": [
    {
     "data": {
      "text/plain": [
       "count    552.000000\n",
       "mean      -0.040363\n",
       "std        0.013519\n",
       "min       -0.091390\n",
       "25%       -0.048582\n",
       "50%       -0.039255\n",
       "75%       -0.030957\n",
       "max       -0.012799\n",
       "dtype: float64"
      ]
     },
     "execution_count": 87,
     "metadata": {},
     "output_type": "execute_result"
    }
   ],
   "source": [
    "pd.Series(pca.components_[0,:]).describe()"
   ]
  },
  {
   "cell_type": "code",
   "execution_count": 70,
   "metadata": {},
   "outputs": [
    {
     "data": {
      "text/plain": [
       "<matplotlib.collections.PathCollection at 0x7f79151534a8>"
      ]
     },
     "execution_count": 70,
     "metadata": {},
     "output_type": "execute_result"
    },
    {
     "data": {
      "image/png": "[encoded data removed]",
      "text/plain": [
       "<Figure size 432x288 with 1 Axes>"
      ]
     },
     "metadata": {
      "needs_background": "light"
     },
     "output_type": "display_data"
    }
   ],
   "source": [
    "plt.scatter(x=pca.components_[0,:], y=pca.components_[1,:])"
   ]
  },
  {
   "cell_type": "markdown",
   "metadata": {},
   "source": [
    "Shared market trends. From third components "
   ]
  },
  {
   "cell_type": "code",
   "execution_count": 71,
   "metadata": {},
   "outputs": [],
   "source": [
    "market_trend = pd.DataFrame(pca.fit_transform(market_prices_log))\n",
    "market_trend.index = market_prices_log.index"
   ]
  },
  {
   "cell_type": "code",
   "execution_count": 72,
   "metadata": {},
   "outputs": [
    {
     "data": {
      "text/plain": [
       "<matplotlib.axes._subplots.AxesSubplot at 0x7f7915141630>"
      ]
     },
     "execution_count": 72,
     "metadata": {},
     "output_type": "execute_result"
    },
    {
     "data": {
      "image/png": "[encoded data removed]",
      "text/plain": [
       "<Figure size 432x288 with 1 Axes>"
      ]
     },
     "metadata": {
      "needs_background": "light"
     },
     "output_type": "display_data"
    }
   ],
   "source": [
    "market_trend[0].plot()"
   ]
  },
  {
   "cell_type": "code",
   "execution_count": 73,
   "metadata": {},
   "outputs": [
    {
     "data": {
      "text/plain": [
       "<matplotlib.axes._subplots.AxesSubplot at 0x7f7914d8ee10>"
      ]
     },
     "execution_count": 73,
     "metadata": {},
     "output_type": "execute_result"
    },
    {
     "data": {
      "image/png": "[encoded data removed]",
      "text/plain": [
       "<Figure size 432x288 with 1 Axes>"
      ]
     },
     "metadata": {
      "needs_background": "light"
     },
     "output_type": "display_data"
    }
   ],
   "source": [
    "market_trend[1].plot()"
   ]
  },
  {
   "cell_type": "code",
   "execution_count": 74,
   "metadata": {},
   "outputs": [
    {
     "data": {
      "text/plain": [
       "<matplotlib.axes._subplots.AxesSubplot at 0x7f79098bb390>"
      ]
     },
     "execution_count": 74,
     "metadata": {},
     "output_type": "execute_result"
    },
    {
     "data": {
      "image/png": "[encoded data removed]",
      "text/plain": [
       "<Figure size 432x288 with 1 Axes>"
      ]
     },
     "metadata": {
      "needs_background": "light"
     },
     "output_type": "display_data"
    }
   ],
   "source": [
    "market_trend[2].plot()"
   ]
  },
  {
   "cell_type": "code",
   "execution_count": 86,
   "metadata": {},
   "outputs": [
    {
     "data": {
      "text/plain": [
       "<matplotlib.axes._subplots.AxesSubplot at 0x7f7909678278>"
      ]
     },
     "execution_count": 86,
     "metadata": {},
     "output_type": "execute_result"
    },
    {
     "data": {
      "image/png": "[encoded data removed]",
      "text/plain": [
       "<Figure size 432x288 with 1 Axes>"
      ]
     },
     "metadata": {
      "needs_background": "light"
     },
     "output_type": "display_data"
    }
   ],
   "source": [
    "market_trend[3].plot()"
   ]
  },
  {
   "cell_type": "markdown",
   "metadata": {},
   "source": [
    "Why use PCA rather than beta with respect to SP 500?  \n",
    "\n",
    "Computing linear regression for a large number of securities can be slow. In PCA we can do all the price series at once.\n",
    "SP 500 has a lag in changing its composition. By choosing the top 500 securities that meets our own criteria, we can create a dynamic benchmark of market return.\n",
    "\n"
   ]
  },
  {
   "cell_type": "code",
   "execution_count": null,
   "metadata": {},
   "outputs": [],
   "source": []
  },
  {
   "cell_type": "code",
   "execution_count": null,
   "metadata": {},
   "outputs": [],
   "source": []
  },
  {
   "cell_type": "code",
   "execution_count": null,
   "metadata": {},
   "outputs": [],
   "source": []
  },
  {
   "cell_type": "code",
   "execution_count": null,
   "metadata": {},
   "outputs": [],
   "source": []
  },
  {
   "cell_type": "code",
   "execution_count": 68,
   "metadata": {},
   "outputs": [
    {
     "data": {
      "text/plain": [
       "\u001b[0;31mSignature:\u001b[0m\n",
       "\u001b[0malphien\u001b[0m\u001b[0;34m.\u001b[0m\u001b[0mdata\u001b[0m\u001b[0;34m.\u001b[0m\u001b[0mgetHistoryData\u001b[0m\u001b[0;34m(\u001b[0m\u001b[0;34m\u001b[0m\n",
       "\u001b[0;34m\u001b[0m    \u001b[0mticker\u001b[0m\u001b[0;34m,\u001b[0m\u001b[0;34m\u001b[0m\n",
       "\u001b[0;34m\u001b[0m    \u001b[0mfield\u001b[0m\u001b[0;34m=\u001b[0m\u001b[0;34m'close_price'\u001b[0m\u001b[0;34m,\u001b[0m\u001b[0;34m\u001b[0m\n",
       "\u001b[0;34m\u001b[0m    \u001b[0mstart\u001b[0m\u001b[0;34m=\u001b[0m\u001b[0;32mNone\u001b[0m\u001b[0;34m,\u001b[0m\u001b[0;34m\u001b[0m\n",
       "\u001b[0;34m\u001b[0m    \u001b[0mend\u001b[0m\u001b[0;34m=\u001b[0m\u001b[0;32mNone\u001b[0m\u001b[0;34m,\u001b[0m\u001b[0;34m\u001b[0m\n",
       "\u001b[0;34m\u001b[0m    \u001b[0mzoom\u001b[0m\u001b[0;34m=\u001b[0m\u001b[0;32mNone\u001b[0m\u001b[0;34m,\u001b[0m\u001b[0;34m\u001b[0m\n",
       "\u001b[0;34m\u001b[0m    \u001b[0mlastN\u001b[0m\u001b[0;34m=\u001b[0m\u001b[0;32mNone\u001b[0m\u001b[0;34m,\u001b[0m\u001b[0;34m\u001b[0m\n",
       "\u001b[0;34m\u001b[0m    \u001b[0mperiod\u001b[0m\u001b[0;34m=\u001b[0m\u001b[0;32mNone\u001b[0m\u001b[0;34m,\u001b[0m\u001b[0;34m\u001b[0m\n",
       "\u001b[0;34m\u001b[0m\u001b[0;34m)\u001b[0m\u001b[0;34m\u001b[0m\u001b[0;34m\u001b[0m\u001b[0m\n",
       "\u001b[0;31mDocstring:\u001b[0m\n",
       "Function to retrieve time series from ticker names and their fields\n",
       "\n",
       "   Function to retrieve time series from ticker names and their fields.\n",
       "   To know more about data retrieval, please consult the [https://dashboard.alphien.com/knowledge-base/Cheatsheet_For_Data_Access data access guide].\n",
       "\n",
       "Args:\n",
       "    ticker (str/list): Ticker name(s), a string or a list. The ticker name has to include the extension. E.g. \"VIX Index\". \n",
       "                       Check the data access guide to see the format of a correct ticker.\n",
       "    field (str/list): Correct field name(s). e.g: field=\"OHLCV\", field=[\"close_price\", \"volume\"]. Check the data access guide to see available fields.\n",
       "    start (str): A date in YYYY-MM-DD format defining series start (defaults to oldest data available). E.g. start=\"2018-05-27\"\n",
       "    end (str): A date in YYYY-MM-DD format defining series end (defaults to latest data available). E.g. end=\"2020-11-18\"\n",
       "    zoom (str): A flexible argument to subset times series by date. Format is YYYY-MM-DD. See documentation examples for syntax and possibilities\n",
       "    period (str): An argument to determine a period for which to recover data, see documentation examples for syntax and possibilities\n",
       "    lastN (int): A whole number to return only the last n data available. Can be combined with start/end and zoom. E.g. lastN=10\n",
       "\n",
       "Returns:\n",
       "    DataFrame: DataFrame with ticker field(s) or a dict of DataFrames for queries with multiple tickers and multiple fields\n",
       "\n",
       "Examples:\n",
       "    # Get Gold bulding block:\n",
       "    >>> getHistoryData(ticker=\"GC\")\n",
       "    # Get Apple stock data (defaults to close_price field):\n",
       "    >>> getHistoryData(\"AAPL.US Equity\")\n",
       "    # Get Tesla and Renault OHLC data:\n",
       "    >>> getHistoryData(ticker=[\"TSLA.US Equity\", \"RNO.PA Equity\"], field=\"OHLCV\")\n",
       "    # Get Brent price between two dates using start and end:\n",
       "    >>> getHistoryData(ticker=\"CO1 Comdty\", field=\"close_price\", start=\"2018-05-22\", end=\"2018-12-31\")\n",
       "    # Get price data for Total and BP stocks and Brent futures:\n",
       "    >>> getHistoryData(ticker=[\"CO1 Comdty\", \"FP.PA Equity\", \"BP.LSE Equity\"], field=\"close_price\")\n",
       "    # Get price and dividend data for General Electrics and McDonalds:\n",
       "    >>> getHistoryData(ticker=[\"GE.US Equity\", \"MCD.US Equity\"], field=[\"close_price\", \"dividends\"])\n",
       "    # zoom examples\n",
       "    >>> getHistoryData(ticker=\"AAPL.US Equity\", field=\"OHLCV\", zoom=\"2014-09-29\")\n",
       "    >>> getHistoryData(ticker=\"AAPL.US Equity\", field=\"OHLCV\", zoom=\"2016-09\")\n",
       "    >>> getHistoryData(ticker=\"AAPL.US Equity\", field=\"OHLCV\", zoom=\"2016\")\n",
       "    >>> getHistoryData(ticker=\"AAPL.US Equity\", field=\"OHLCV\", zoom=\"2015-11-27::2015-12-11\")\n",
       "    >>> getHistoryData(ticker=\"AAPL.US Equity\", field=\"OHLCV\", zoom=\"2015::2015-12-11\")\n",
       "    # period examples\n",
       "    >>> getHistoryData(ticker=\"AAPL.US Equity\", field=\"OHLCV\", period=\"1 day\")\n",
       "    >>> getHistoryData(ticker=\"AAPL.US Equity\", field=\"OHLCV\", period=\"3 days\")\n",
       "    >>> getHistoryData(ticker=\"AAPL.US Equity\", field=\"OHLCV\", period=\"1 month\")\n",
       "    >>> getHistoryData(ticker=\"AAPL.US Equity\", field=\"OHLCV\", period=\"2 months\")\n",
       "    >>> getHistoryData(ticker=\"AAPL.US Equity\", field=\"OHLCV\", period=\"2 years\", end='2014-12-31')\n",
       "    # Combining date arguments\n",
       "    >>> getHistoryData(ticker=\"AAPL.US Equity\", field=\"OHLCV\", zoom=\"2016\", lastN=10)\n",
       "    >>> getHistoryData(ticker=\"AAPL.US Equity\", field=\"OHLCV\", period=\"2 years\", lastN=10, end='2016-12-31')\n",
       "    >>> getHistoryData(ticker=\"AAPL.US Equity\", field=\"OHLCV\", start=\"2014-01-01\", zoom=\"::2016\")\n",
       "\n",
       "Alphien Wiki:\n",
       "    https://wiki.alphien.com/ALwiki/getHistoryData\n",
       "\u001b[0;31mFile:\u001b[0m      /mnt/public/IT/Libs/Python/alphien/data/getHistoryData.py\n",
       "\u001b[0;31mType:\u001b[0m      function\n"
      ]
     },
     "metadata": {},
     "output_type": "display_data"
    }
   ],
   "source": [
    " ?alphien.data.getHistoryData"
   ]
  },
  {
   "cell_type": "code",
   "execution_count": 61,
   "metadata": {},
   "outputs": [
    {
     "data": {
      "text/html": [
       "<div>\n",
       "<style scoped>\n",
       "    .dataframe tbody tr th:only-of-type {\n",
       "        vertical-align: middle;\n",
       "    }\n",
       "\n",
       "    .dataframe tbody tr th {\n",
       "        vertical-align: top;\n",
       "    }\n",
       "\n",
       "    .dataframe thead th {\n",
       "        text-align: right;\n",
       "    }\n",
       "</style>\n",
       "<table border=\"1\" class=\"dataframe\">\n",
       "  <thead>\n",
       "    <tr style=\"text-align: right;\">\n",
       "      <th></th>\n",
       "      <th>ticker</th>\n",
       "      <th>description</th>\n",
       "    </tr>\n",
       "    <tr>\n",
       "      <th>tablerownames</th>\n",
       "      <th></th>\n",
       "      <th></th>\n",
       "    </tr>\n",
       "  </thead>\n",
       "  <tbody>\n",
       "    <tr>\n",
       "      <th>1</th>\n",
       "      <td>SPX Index</td>\n",
       "      <td>S&amp;P 500 Index</td>\n",
       "    </tr>\n",
       "    <tr>\n",
       "      <th>2</th>\n",
       "      <td>SPTR Index</td>\n",
       "      <td>S&amp;P 500 Total Return Index</td>\n",
       "    </tr>\n",
       "    <tr>\n",
       "      <th>3</th>\n",
       "      <td>CCMP Index</td>\n",
       "      <td>Nasdaq Composite</td>\n",
       "    </tr>\n",
       "    <tr>\n",
       "      <th>4</th>\n",
       "      <td>INDU Index</td>\n",
       "      <td>Dow Jones Industrial Average</td>\n",
       "    </tr>\n",
       "    <tr>\n",
       "      <th>5</th>\n",
       "      <td>SX5E Index</td>\n",
       "      <td>Eurostoxx 50</td>\n",
       "    </tr>\n",
       "    <tr>\n",
       "      <th>6</th>\n",
       "      <td>NKY Index</td>\n",
       "      <td>Nikkei 225</td>\n",
       "    </tr>\n",
       "    <tr>\n",
       "      <th>7</th>\n",
       "      <td>VIX Index</td>\n",
       "      <td>1m Implied Volatity index on S&amp;P 500</td>\n",
       "    </tr>\n",
       "    <tr>\n",
       "      <th>8</th>\n",
       "      <td>USGG2YR Index</td>\n",
       "      <td>US 2y Government bond benchmark yield</td>\n",
       "    </tr>\n",
       "    <tr>\n",
       "      <th>9</th>\n",
       "      <td>USGG10YR Index</td>\n",
       "      <td>US 10y Government bond benchmark yield</td>\n",
       "    </tr>\n",
       "    <tr>\n",
       "      <th>10</th>\n",
       "      <td>GC1 Comdty</td>\n",
       "      <td>LBMA Gold Price</td>\n",
       "    </tr>\n",
       "    <tr>\n",
       "      <th>11</th>\n",
       "      <td>CO1 Comdty</td>\n",
       "      <td>Crude Oil Brent Europe</td>\n",
       "    </tr>\n",
       "    <tr>\n",
       "      <th>12</th>\n",
       "      <td>CU1 Comdty</td>\n",
       "      <td>LME Copper Price</td>\n",
       "    </tr>\n",
       "    <tr>\n",
       "      <th>13</th>\n",
       "      <td>CDXTIL15</td>\n",
       "      <td>CDX NA IG US 5Y (Investment Grade)</td>\n",
       "    </tr>\n",
       "    <tr>\n",
       "      <th>14</th>\n",
       "      <td>CDXTHL15</td>\n",
       "      <td>CDX NA HY US 5Y (High Yield)</td>\n",
       "    </tr>\n",
       "    <tr>\n",
       "      <th>15</th>\n",
       "      <td>DXY Curncy</td>\n",
       "      <td>US Dollar Index</td>\n",
       "    </tr>\n",
       "    <tr>\n",
       "      <th>16</th>\n",
       "      <td>AMCIsUSD Index</td>\n",
       "      <td>Alphien Monetary Condition Index - US</td>\n",
       "    </tr>\n",
       "    <tr>\n",
       "      <th>17</th>\n",
       "      <td>SPW Index</td>\n",
       "      <td>S&amp;P 500 Equal Weighted Index</td>\n",
       "    </tr>\n",
       "  </tbody>\n",
       "</table>\n",
       "</div>"
      ],
      "text/plain": [
       "                       ticker                             description\n",
       "tablerownames                                                        \n",
       "1                   SPX Index                           S&P 500 Index\n",
       "2                  SPTR Index              S&P 500 Total Return Index\n",
       "3                  CCMP Index                        Nasdaq Composite\n",
       "4                  INDU Index            Dow Jones Industrial Average\n",
       "5                  SX5E Index                            Eurostoxx 50\n",
       "6                   NKY Index                              Nikkei 225\n",
       "7                   VIX Index    1m Implied Volatity index on S&P 500\n",
       "8               USGG2YR Index   US 2y Government bond benchmark yield\n",
       "9              USGG10YR Index  US 10y Government bond benchmark yield\n",
       "10                 GC1 Comdty                         LBMA Gold Price\n",
       "11                 CO1 Comdty                  Crude Oil Brent Europe\n",
       "12                 CU1 Comdty                        LME Copper Price\n",
       "13                   CDXTIL15      CDX NA IG US 5Y (Investment Grade)\n",
       "14                   CDXTHL15            CDX NA HY US 5Y (High Yield)\n",
       "15                 DXY Curncy                         US Dollar Index\n",
       "16             AMCIsUSD Index   Alphien Monetary Condition Index - US\n",
       "17                  SPW Index            S&P 500 Equal Weighted Index"
      ]
     },
     "execution_count": 61,
     "metadata": {},
     "output_type": "execute_result"
    }
   ],
   "source": [
    " alphien.data.getTickersSP500Data()"
   ]
  },
  {
   "cell_type": "code",
   "execution_count": 85,
   "metadata": {},
   "outputs": [
    {
     "name": "stdout",
     "output_type": "stream",
     "text": [
      "9 tickers found for keyword(s): SPY\n",
      "\n",
      "You can get ticker time series data with: alphien.data.getHistoryData(ticker=ticker)\n",
      "\n"
     ]
    },
    {
     "data": {
      "text/html": [
       "<div>\n",
       "<style scoped>\n",
       "    .dataframe tbody tr th:only-of-type {\n",
       "        vertical-align: middle;\n",
       "    }\n",
       "\n",
       "    .dataframe tbody tr th {\n",
       "        vertical-align: top;\n",
       "    }\n",
       "\n",
       "    .dataframe thead th {\n",
       "        text-align: right;\n",
       "    }\n",
       "</style>\n",
       "<table border=\"1\" class=\"dataframe\">\n",
       "  <thead>\n",
       "    <tr style=\"text-align: right;\">\n",
       "      <th></th>\n",
       "      <th>ticker</th>\n",
       "      <th>name</th>\n",
       "      <th>description</th>\n",
       "      <th>sector</th>\n",
       "      <th>region</th>\n",
       "    </tr>\n",
       "  </thead>\n",
       "  <tbody>\n",
       "    <tr>\n",
       "      <th>0</th>\n",
       "      <td>CHTR.US Equity</td>\n",
       "      <td>Charter Communications, Inc</td>\n",
       "      <td>Charter Communications, Inc., through its subs...</td>\n",
       "      <td>Communication Services</td>\n",
       "      <td>USA</td>\n",
       "    </tr>\n",
       "    <tr>\n",
       "      <th>1</th>\n",
       "      <td>FNJN.US Equity</td>\n",
       "      <td>Finjan Holdings, Inc</td>\n",
       "      <td>Finjan Holdings, Inc., a cybersecurity company...</td>\n",
       "      <td>Information Technology</td>\n",
       "      <td>USA</td>\n",
       "    </tr>\n",
       "    <tr>\n",
       "      <th>2</th>\n",
       "      <td>JHX.AU Equity</td>\n",
       "      <td>James Hardie Industries plc</td>\n",
       "      <td>James Hardie Industries plc, together with its...</td>\n",
       "      <td>Materials</td>\n",
       "      <td>Australia</td>\n",
       "    </tr>\n",
       "    <tr>\n",
       "      <th>3</th>\n",
       "      <td>JHX.US Equity</td>\n",
       "      <td>James Hardie Industries plc</td>\n",
       "      <td>James Hardie Industries plc, together with its...</td>\n",
       "      <td>Materials</td>\n",
       "      <td>USA</td>\n",
       "    </tr>\n",
       "    <tr>\n",
       "      <th>4</th>\n",
       "      <td>LBRDA.US Equity</td>\n",
       "      <td>Liberty Broadband Corporation</td>\n",
       "      <td>Liberty Broadband Corporation, a cable operato...</td>\n",
       "      <td>Communication Services</td>\n",
       "      <td>USA</td>\n",
       "    </tr>\n",
       "    <tr>\n",
       "      <th>5</th>\n",
       "      <td>LBRDK.US Equity</td>\n",
       "      <td>Liberty Broadband Corporation</td>\n",
       "      <td>Liberty Broadband Corporation, a cable operato...</td>\n",
       "      <td>Communication Services</td>\n",
       "      <td>USA</td>\n",
       "    </tr>\n",
       "    <tr>\n",
       "      <th>6</th>\n",
       "      <td>PII.US Equity</td>\n",
       "      <td>Polaris Inc</td>\n",
       "      <td>Polaris Inc. designs, engineers, manufactures,...</td>\n",
       "      <td>Consumer Discretionary</td>\n",
       "      <td>USA</td>\n",
       "    </tr>\n",
       "    <tr>\n",
       "      <th>7</th>\n",
       "      <td>SCHL.US Equity</td>\n",
       "      <td>Scholastic Corporation</td>\n",
       "      <td>Scholastic Corporation publishes and distribut...</td>\n",
       "      <td>Communication Services</td>\n",
       "      <td>USA</td>\n",
       "    </tr>\n",
       "    <tr>\n",
       "      <th>8</th>\n",
       "      <td>SPRT.US Equity</td>\n",
       "      <td>Support.com, Inc</td>\n",
       "      <td>Support.com, Inc. provides customer support se...</td>\n",
       "      <td>Information Technology</td>\n",
       "      <td>USA</td>\n",
       "    </tr>\n",
       "  </tbody>\n",
       "</table>\n",
       "</div>"
      ],
      "text/plain": [
       "            ticker                           name  \\\n",
       "0   CHTR.US Equity    Charter Communications, Inc   \n",
       "1   FNJN.US Equity           Finjan Holdings, Inc   \n",
       "2    JHX.AU Equity    James Hardie Industries plc   \n",
       "3    JHX.US Equity    James Hardie Industries plc   \n",
       "4  LBRDA.US Equity  Liberty Broadband Corporation   \n",
       "5  LBRDK.US Equity  Liberty Broadband Corporation   \n",
       "6    PII.US Equity                    Polaris Inc   \n",
       "7   SCHL.US Equity         Scholastic Corporation   \n",
       "8   SPRT.US Equity               Support.com, Inc   \n",
       "\n",
       "                                         description                  sector  \\\n",
       "0  Charter Communications, Inc., through its subs...  Communication Services   \n",
       "1  Finjan Holdings, Inc., a cybersecurity company...  Information Technology   \n",
       "2  James Hardie Industries plc, together with its...               Materials   \n",
       "3  James Hardie Industries plc, together with its...               Materials   \n",
       "4  Liberty Broadband Corporation, a cable operato...  Communication Services   \n",
       "5  Liberty Broadband Corporation, a cable operato...  Communication Services   \n",
       "6  Polaris Inc. designs, engineers, manufactures,...  Consumer Discretionary   \n",
       "7  Scholastic Corporation publishes and distribut...  Communication Services   \n",
       "8  Support.com, Inc. provides customer support se...  Information Technology   \n",
       "\n",
       "      region  \n",
       "0        USA  \n",
       "1        USA  \n",
       "2  Australia  \n",
       "3        USA  \n",
       "4        USA  \n",
       "5        USA  \n",
       "6        USA  \n",
       "7        USA  \n",
       "8        USA  "
      ]
     },
     "execution_count": 85,
     "metadata": {},
     "output_type": "execute_result"
    }
   ],
   "source": [
    "alphien.data.searchData('SPY')"
   ]
  },
  {
   "cell_type": "code",
   "execution_count": null,
   "metadata": {},
   "outputs": [],
   "source": []
  }
 ],
 "metadata": {
  "kernelspec": {
   "display_name": "Python 3",
   "language": "python",
   "name": "python3"
  },
  "language_info": {
   "codemirror_mode": {
    "name": "ipython",
    "version": 3
   },
   "file_extension": ".py",
   "mimetype": "text/x-python",
   "name": "python",
   "nbconvert_exporter": "python",
   "pygments_lexer": "ipython3",
   "version": "3.6.7"
  }
 },
 "nbformat": 4,
 "nbformat_minor": 4
}
