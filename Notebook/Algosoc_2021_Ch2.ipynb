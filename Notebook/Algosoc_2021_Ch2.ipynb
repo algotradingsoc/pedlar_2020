{
  "nbformat": 4,
  "nbformat_minor": 0,
  "metadata": {
    "colab": {
      "name": "Algosoc_2021_Ch2.ipynb",
      "provenance": []
    },
    "kernelspec": {
      "name": "python3",
      "display_name": "Python 3"
    },
    "language_info": {
      "name": "python"
    }
  },
  "cells": [
    {
      "cell_type": "code",
      "metadata": {
        "id": "QiPRPofpZ4ka"
      },
      "source": [
        ""
      ],
      "execution_count": null,
      "outputs": []
    },
    {
      "cell_type": "markdown",
      "metadata": {
        "id": "IAcS0Ia20ktI"
      },
      "source": [
        "## Lecture 1: The Very Basics of Financial Market\n",
        "\n",
        "We will discuss how to perform the most basic analysis of stock market.\n",
        "\n",
        "Starting with how to process price data, we will describe the statistical properies of equity returns. We will then introduce the Sharpe Ratio as very basic measure of portfolio performance and how volatility scaling can improve the performance of a buy-and-hold strategy."
      ]
    },
    {
      "cell_type": "markdown",
      "metadata": {
        "id": "G63BgwxK0kw4"
      },
      "source": [
        "#### Price data\n",
        "\n",
        "\n",
        "Price data is determined by two charactereistics, frequency of data and types of data. Frequency of data can ranged from microseconds data (tick level) to end-of-date data (daily resolution). We will focus on data that have a minute resoluion or above. Major types of data include bar data, trade data and quote data.\n",
        "\n",
        "In an exchange, quote data (Orderbook) is displayed for a stock in real time which has the bid and ask price (with size) submitted by different market participants. Market makers are responsible for providing liquidity to different traded assets, by placing quotes continuously. A trade is made if someone is willing the buy the security at the ask price (or sell the security at the bid price). Trade data is simply a collection of all the trades of a stock made at different exchanges, along with delayed data reported from dark pools. Bar data is then aggregrated using the trade price and volume over an interval, which usually is a minute, an hour and a day.\n",
        "\n",
        "A typical bar data would consists of 5 data fields: Open, High, Low, Close and Volume (OHLCV). For free data sources you can found online, volume data will often has the most discrepencies as off-exchange trades are often ignored/miscounted. \n",
        "\n",
        "The construction and processing of market data feeds invovles a lot of technical knowledge that is essential for market makers and quants reponsible for trade execution, but not too important for long-term investors. \n",
        "\n",
        "We will first illustrate some basic concepts in finance using the most famous ETF, SPDR S&P 500 (SPY) which keep tracks of the most important stock market index S&P 500 in the world. This ETF invest in the 500 biggest stocks listed in the US, weighted by market-cap. (The exact rules to construct S&P 500 index is more complicated than this) "
      ]
    },
    {
      "cell_type": "code",
      "metadata": {
        "id": "sOv7aiU4y5LD",
        "colab": {
          "base_uri": "https://localhost:8080/"
        },
        "outputId": "2e7dad2c-6099-4386-a563-c82e6510b013"
      },
      "source": [
        "! pip install yfinance\n",
        "\n",
        "import yfinance as yf\n",
        "import numpy as np\n",
        "import pandas as pd"
      ],
      "execution_count": null,
      "outputs": [
        {
          "output_type": "stream",
          "name": "stdout",
          "text": [
            "Collecting yfinance\n",
            "  Downloading yfinance-0.1.63.tar.gz (26 kB)\n",
            "Requirement already satisfied: pandas>=0.24 in /usr/local/lib/python3.7/dist-packages (from yfinance) (1.1.5)\n",
            "Requirement already satisfied: numpy>=1.15 in /usr/local/lib/python3.7/dist-packages (from yfinance) (1.19.5)\n",
            "Requirement already satisfied: requests>=2.20 in /usr/local/lib/python3.7/dist-packages (from yfinance) (2.23.0)\n",
            "Requirement already satisfied: multitasking>=0.0.7 in /usr/local/lib/python3.7/dist-packages (from yfinance) (0.0.9)\n",
            "Collecting lxml>=4.5.1\n",
            "  Downloading lxml-4.6.3-cp37-cp37m-manylinux2014_x86_64.whl (6.3 MB)\n",
            "\u001b[K     |████████████████████████████████| 6.3 MB 7.7 MB/s \n",
            "\u001b[?25hRequirement already satisfied: python-dateutil>=2.7.3 in /usr/local/lib/python3.7/dist-packages (from pandas>=0.24->yfinance) (2.8.2)\n",
            "Requirement already satisfied: pytz>=2017.2 in /usr/local/lib/python3.7/dist-packages (from pandas>=0.24->yfinance) (2018.9)\n",
            "Requirement already satisfied: six>=1.5 in /usr/local/lib/python3.7/dist-packages (from python-dateutil>=2.7.3->pandas>=0.24->yfinance) (1.15.0)\n",
            "Requirement already satisfied: urllib3!=1.25.0,!=1.25.1,<1.26,>=1.21.1 in /usr/local/lib/python3.7/dist-packages (from requests>=2.20->yfinance) (1.24.3)\n",
            "Requirement already satisfied: idna<3,>=2.5 in /usr/local/lib/python3.7/dist-packages (from requests>=2.20->yfinance) (2.10)\n",
            "Requirement already satisfied: certifi>=2017.4.17 in /usr/local/lib/python3.7/dist-packages (from requests>=2.20->yfinance) (2021.5.30)\n",
            "Requirement already satisfied: chardet<4,>=3.0.2 in /usr/local/lib/python3.7/dist-packages (from requests>=2.20->yfinance) (3.0.4)\n",
            "Building wheels for collected packages: yfinance\n",
            "  Building wheel for yfinance (setup.py) ... \u001b[?25l\u001b[?25hdone\n",
            "  Created wheel for yfinance: filename=yfinance-0.1.63-py2.py3-none-any.whl size=23918 sha256=828c697ef307d31d149492859c435426e20c9bc11d50b6df41078799acc21cea\n",
            "  Stored in directory: /root/.cache/pip/wheels/fe/87/8b/7ec24486e001d3926537f5f7801f57a74d181be25b11157983\n",
            "Successfully built yfinance\n",
            "Installing collected packages: lxml, yfinance\n",
            "  Attempting uninstall: lxml\n",
            "    Found existing installation: lxml 4.2.6\n",
            "    Uninstalling lxml-4.2.6:\n",
            "      Successfully uninstalled lxml-4.2.6\n",
            "Successfully installed lxml-4.6.3 yfinance-0.1.63\n"
          ]
        }
      ]
    },
    {
      "cell_type": "code",
      "metadata": {
        "id": "UGIWsMQn08hm"
      },
      "source": [
        "selected_etf = yf.Ticker(\"SPY\")\n",
        "hist = selected_etf.history(period=\"max\")"
      ],
      "execution_count": null,
      "outputs": []
    },
    {
      "cell_type": "markdown",
      "metadata": {
        "id": "bjLMiCcl2RgQ"
      },
      "source": [
        "As stocks can pay dividend and have splits, we usually use adjusted price to perform statistical analysis. From the adjusted price, we can derive the total return of the stock (which is the sum of price return and dividends, reinvested). \n",
        "\n",
        "Always check whether dividend and splits are adjusted before running your models. \n",
        "\n",
        "Here I provide two examples of why data management is important and how listed companies can use that as their own advantage. \n",
        "\n",
        "- Example 1: Stock splits         \n",
        "A stock split in theory do not change the underlying value of the company, but for retail investors looking at the price at their apps, it does look cheaper, so people buy more. Tesla has undergone stock splits more than twice in the last 5 years and stock price rises significantly after splits. \n",
        "\n",
        "- Example 2: Ticker name change        \n",
        "GSX Techedu (GOTU) changes its ticker from GSX even without any major changes such as M&A or corporate restructuring. For retail investors, it appears as new stock for them. It also distances itself from the negative press as Muddy Waters and others are holding a short position against them.  Search engine results for GSX and GOTU are different. It seems to me like a form of Search Engine Optimisation. \n",
        "After the name change, some of the free apps that most retail traders use to keep track of stock prices cannot recognise this change and return incomplete historical data. \n",
        "\n"
      ]
    },
    {
      "cell_type": "code",
      "metadata": {
        "colab": {
          "base_uri": "https://localhost:8080/",
          "height": 237
        },
        "id": "PFnk5yDnzRnA",
        "outputId": "1388c871-60df-4d60-9836-d84a272729ba"
      },
      "source": [
        "hist.tail()"
      ],
      "execution_count": null,
      "outputs": [
        {
          "output_type": "execute_result",
          "data": {
            "text/html": [
              "<div>\n",
              "<style scoped>\n",
              "    .dataframe tbody tr th:only-of-type {\n",
              "        vertical-align: middle;\n",
              "    }\n",
              "\n",
              "    .dataframe tbody tr th {\n",
              "        vertical-align: top;\n",
              "    }\n",
              "\n",
              "    .dataframe thead th {\n",
              "        text-align: right;\n",
              "    }\n",
              "</style>\n",
              "<table border=\"1\" class=\"dataframe\">\n",
              "  <thead>\n",
              "    <tr style=\"text-align: right;\">\n",
              "      <th></th>\n",
              "      <th>Open</th>\n",
              "      <th>High</th>\n",
              "      <th>Low</th>\n",
              "      <th>Close</th>\n",
              "      <th>Volume</th>\n",
              "      <th>Dividends</th>\n",
              "      <th>Stock Splits</th>\n",
              "    </tr>\n",
              "    <tr>\n",
              "      <th>Date</th>\n",
              "      <th></th>\n",
              "      <th></th>\n",
              "      <th></th>\n",
              "      <th></th>\n",
              "      <th></th>\n",
              "      <th></th>\n",
              "      <th></th>\n",
              "    </tr>\n",
              "  </thead>\n",
              "  <tbody>\n",
              "    <tr>\n",
              "      <th>2021-09-28</th>\n",
              "      <td>439.690002</td>\n",
              "      <td>440.040009</td>\n",
              "      <td>432.940002</td>\n",
              "      <td>433.720001</td>\n",
              "      <td>130436300</td>\n",
              "      <td>0.0</td>\n",
              "      <td>0</td>\n",
              "    </tr>\n",
              "    <tr>\n",
              "      <th>2021-09-29</th>\n",
              "      <td>435.190002</td>\n",
              "      <td>437.040009</td>\n",
              "      <td>433.850006</td>\n",
              "      <td>434.450012</td>\n",
              "      <td>82329200</td>\n",
              "      <td>0.0</td>\n",
              "      <td>0</td>\n",
              "    </tr>\n",
              "    <tr>\n",
              "      <th>2021-09-30</th>\n",
              "      <td>436.019989</td>\n",
              "      <td>436.769989</td>\n",
              "      <td>428.779999</td>\n",
              "      <td>429.140015</td>\n",
              "      <td>140181200</td>\n",
              "      <td>0.0</td>\n",
              "      <td>0</td>\n",
              "    </tr>\n",
              "    <tr>\n",
              "      <th>2021-10-01</th>\n",
              "      <td>430.980011</td>\n",
              "      <td>436.029999</td>\n",
              "      <td>427.230011</td>\n",
              "      <td>434.239990</td>\n",
              "      <td>129240100</td>\n",
              "      <td>0.0</td>\n",
              "      <td>0</td>\n",
              "    </tr>\n",
              "    <tr>\n",
              "      <th>2021-10-04</th>\n",
              "      <td>433.000000</td>\n",
              "      <td>433.959991</td>\n",
              "      <td>426.359985</td>\n",
              "      <td>428.640015</td>\n",
              "      <td>128430500</td>\n",
              "      <td>0.0</td>\n",
              "      <td>0</td>\n",
              "    </tr>\n",
              "  </tbody>\n",
              "</table>\n",
              "</div>"
            ],
            "text/plain": [
              "                  Open        High  ...  Dividends  Stock Splits\n",
              "Date                                ...                         \n",
              "2021-09-28  439.690002  440.040009  ...        0.0             0\n",
              "2021-09-29  435.190002  437.040009  ...        0.0             0\n",
              "2021-09-30  436.019989  436.769989  ...        0.0             0\n",
              "2021-10-01  430.980011  436.029999  ...        0.0             0\n",
              "2021-10-04  433.000000  433.959991  ...        0.0             0\n",
              "\n",
              "[5 rows x 7 columns]"
            ]
          },
          "metadata": {},
          "execution_count": 29
        }
      ]
    },
    {
      "cell_type": "markdown",
      "metadata": {
        "id": "neOtKTrg3RUp"
      },
      "source": [
        "Stock price are not stationary as they tend to grow over time. (Exception: Japanese stock market). \n",
        "\n",
        "For building models, it is better to use the log-return instead. Log-return is better than percentage return since it is additive over different time periods. "
      ]
    },
    {
      "cell_type": "code",
      "metadata": {
        "colab": {
          "base_uri": "https://localhost:8080/",
          "height": 287
        },
        "id": "ADvWF4nA2K27",
        "outputId": "a5e4d640-74df-4eb3-b421-7b1b2a300d05"
      },
      "source": [
        "hist['Close'].plot()"
      ],
      "execution_count": null,
      "outputs": [
        {
          "output_type": "execute_result",
          "data": {
            "text/plain": [
              "<matplotlib.axes._subplots.AxesSubplot at 0x7f5d9b474e90>"
            ]
          },
          "metadata": {},
          "execution_count": 30
        },
        {
          "output_type": "display_data",
          "data": {
            "image/png": "[encoded data removed]",
            "text/plain": [
              "<Figure size 432x288 with 1 Axes>"
            ]
          },
          "metadata": {
            "needs_background": "light"
          }
        }
      ]
    },
    {
      "cell_type": "code",
      "metadata": {
        "id": "0ciVXp6-62oL"
      },
      "source": [
        "## Calculating log-returns\n",
        "hist['log_return'] = np.log(hist['Close']) - np.log(hist['Close'].shift(1))"
      ],
      "execution_count": null,
      "outputs": []
    },
    {
      "cell_type": "code",
      "metadata": {
        "colab": {
          "base_uri": "https://localhost:8080/",
          "height": 287
        },
        "id": "I4-VbUNQ62w_",
        "outputId": "b1888be1-a792-4fff-958d-0a9579ffc3e2"
      },
      "source": [
        "hist['log_return'].plot()"
      ],
      "execution_count": null,
      "outputs": [
        {
          "output_type": "execute_result",
          "data": {
            "text/plain": [
              "<matplotlib.axes._subplots.AxesSubplot at 0x7f5d9b235f90>"
            ]
          },
          "metadata": {},
          "execution_count": 35
        },
        {
          "output_type": "display_data",
          "data": {
            "image/png": "[encoded data removed]",
            "text/plain": [
              "<Figure size 432x288 with 1 Axes>"
            ]
          },
          "metadata": {
            "needs_background": "light"
          }
        }
      ]
    },
    {
      "cell_type": "markdown",
      "metadata": {
        "id": "3ihaCXb48JP6"
      },
      "source": [
        "#### Statistical properties of stock market log-returns \n",
        "\n",
        "- It has a positive mean, which is bigger than the average 10-year Treasury yield. This is called the risk premium of equity market\n",
        "\n",
        "- It has a negative skew, which demonstrates the fact the stock market experiences sharp drawdowns over a short period (2008,2020) \n",
        "\n",
        "- It has a kurtosis greater than 3, suggesting it is more fat-tail than a normal distribution. \n",
        "\n",
        "- The assumption of log-return following Gaussian distribution(Geometric Brownian Process) is the foundation of Black-Scholes Option pricing model. "
      ]
    },
    {
      "cell_type": "code",
      "metadata": {
        "colab": {
          "base_uri": "https://localhost:8080/",
          "height": 285
        },
        "id": "nZoYtbBl7gDQ",
        "outputId": "2dc15e89-1208-4c22-a33e-e7636c316a42"
      },
      "source": [
        "hist['log_return'].plot.hist(bins=500)"
      ],
      "execution_count": null,
      "outputs": [
        {
          "output_type": "execute_result",
          "data": {
            "text/plain": [
              "<matplotlib.axes._subplots.AxesSubplot at 0x7f5d9b161b50>"
            ]
          },
          "metadata": {},
          "execution_count": 36
        },
        {
          "output_type": "display_data",
          "data": {
            "image/png": "[encoded data removed]",
            "text/plain": [
              "<Figure size 432x288 with 1 Axes>"
            ]
          },
          "metadata": {
            "needs_background": "light"
          }
        }
      ]
    },
    {
      "cell_type": "code",
      "metadata": {
        "colab": {
          "base_uri": "https://localhost:8080/"
        },
        "id": "qfGLoJP57gNr",
        "outputId": "038f634b-256a-4cfb-970e-746928795447"
      },
      "source": [
        "hist['log_return'].describe()"
      ],
      "execution_count": null,
      "outputs": [
        {
          "output_type": "execute_result",
          "data": {
            "text/plain": [
              "count    7222.000000\n",
              "mean        0.000390\n",
              "std         0.011825\n",
              "min        -0.115886\n",
              "25%        -0.004288\n",
              "50%         0.000681\n",
              "75%         0.005859\n",
              "max         0.135578\n",
              "Name: log_return, dtype: float64"
            ]
          },
          "metadata": {},
          "execution_count": 37
        }
      ]
    },
    {
      "cell_type": "code",
      "metadata": {
        "colab": {
          "base_uri": "https://localhost:8080/"
        },
        "id": "EUDSitJq8Nxq",
        "outputId": "dec36843-2de9-4df5-f2f2-7cec0fd4c302"
      },
      "source": [
        "hist['log_return'].skew()"
      ],
      "execution_count": null,
      "outputs": [
        {
          "output_type": "execute_result",
          "data": {
            "text/plain": [
              "-0.2996344311157923"
            ]
          },
          "metadata": {},
          "execution_count": 38
        }
      ]
    },
    {
      "cell_type": "code",
      "metadata": {
        "colab": {
          "base_uri": "https://localhost:8080/"
        },
        "id": "P3n8u5Ds8sP7",
        "outputId": "02947079-930a-4766-d0c3-e2bc4a382232"
      },
      "source": [
        "hist['log_return'].kurtosis()"
      ],
      "execution_count": null,
      "outputs": [
        {
          "output_type": "execute_result",
          "data": {
            "text/plain": [
              "11.78171968286361"
            ]
          },
          "metadata": {},
          "execution_count": 39
        }
      ]
    },
    {
      "cell_type": "markdown",
      "metadata": {
        "id": "J8M3LZvw9Tdq"
      },
      "source": [
        "## How to analyse returns in stock market \n",
        "\n",
        "We can separate the return of stock market into two parts. One as the close-to-open return (overnight return) and open-to-close return (intraday return) \n",
        "\n",
        "We can see intraday return has a mean close to zero, suggesting the mean-reversion nature of stock price during market hours. \n",
        "\n",
        "Most of the stock market return, for a buy-and-hold strategy in the long run, comes from holding stocks overnight. This can be considered as compensation of the risk to hold stocks overnight. \n",
        "\n",
        "Holding stocks over the weekend and holiday will provide a similar risk premium. \n",
        "\n",
        "\n",
        "Calendar effects in stock market are often an artificat of human habits. Examples include stock return before and after the tax filing, end of month/quarter rebalancing of mutual funds, expiry of monthly and quarterly options. \n"
      ]
    },
    {
      "cell_type": "code",
      "metadata": {
        "id": "0fNLlirQ9TsL"
      },
      "source": [
        "hist['intraday_return'] = np.log(hist['Close']) - np.log(hist['Open'])\n",
        "hist['overnight_return'] = np.log(hist['Open']) - np.log(hist['Close'].shift(1))"
      ],
      "execution_count": null,
      "outputs": []
    },
    {
      "cell_type": "code",
      "metadata": {
        "colab": {
          "base_uri": "https://localhost:8080/"
        },
        "id": "iDxUX7lR9TzK",
        "outputId": "ae24410c-740a-41fd-b3a3-0b6bb4d977a5"
      },
      "source": [
        "hist['intraday_return'].describe()"
      ],
      "execution_count": null,
      "outputs": [
        {
          "output_type": "execute_result",
          "data": {
            "text/plain": [
              "count    7223.000000\n",
              "mean       -0.000007\n",
              "std         0.009651\n",
              "min        -0.094207\n",
              "25%        -0.004140\n",
              "50%         0.000427\n",
              "75%         0.004580\n",
              "max         0.088892\n",
              "Name: intraday_return, dtype: float64"
            ]
          },
          "metadata": {},
          "execution_count": 41
        }
      ]
    },
    {
      "cell_type": "code",
      "metadata": {
        "colab": {
          "base_uri": "https://localhost:8080/"
        },
        "id": "DeLlvVDL9ygL",
        "outputId": "b7b83972-ea84-4b22-a19b-e152f9c2fb43"
      },
      "source": [
        "hist['overnight_return'].describe()"
      ],
      "execution_count": null,
      "outputs": [
        {
          "output_type": "execute_result",
          "data": {
            "text/plain": [
              "count    7222.000000\n",
              "mean        0.000396\n",
              "std         0.006729\n",
              "min        -0.110357\n",
              "25%        -0.002052\n",
              "50%         0.000623\n",
              "75%         0.003208\n",
              "max         0.059519\n",
              "Name: overnight_return, dtype: float64"
            ]
          },
          "metadata": {},
          "execution_count": 42
        }
      ]
    },
    {
      "cell_type": "markdown",
      "metadata": {
        "id": "aHj9sY5vDoyb"
      },
      "source": [
        "## Volatility Scaling\n",
        "\n",
        "We can measure the performance of a trading strategy by the sharpe ratio, which is ratio of excess return over to the volatility. \n",
        "\n",
        "Sharpe_Ratio = $\\frac{r-r_f}{\\sigma}$, where r is the return of the portfolio and $\\sigma$ the standard deviation of the return of the portfolio. \n",
        "\n",
        "Volatility is detrimental to the long-term growth of capital as a strategy down 20% needs a 25% growth to recover. \n",
        "\n",
        "By adjusting our stock holdings so that portfolio is at a constant volatility, so that we buy more during low volatility times and buy less during high volatility times. The Sharpe ratio can be improved compared to a constant buy-and-hold strategy.\n",
        "\n",
        "Volatility plays an important role in portfolio construction and risk management. Risk parity, a famous hedge fund strategy aims to hold constant volatility exposure to different assets in the portfolio, rather than equal weighted. \n",
        "\n"
      ]
    },
    {
      "cell_type": "code",
      "metadata": {
        "id": "IyzO1TBkDrc6"
      },
      "source": [
        "selected_etf = yf.Ticker(\"SPY\")\n",
        "hist = selected_etf.history(period=\"max\")\n",
        "hist['return'] = hist['Close'].pct_change()\n",
        "hist['volatility'] = hist['return'].rolling(21).std()\n",
        "hist['volatility_mean'] = hist['volatility'].rolling(21*12).mean()"
      ],
      "execution_count": null,
      "outputs": []
    },
    {
      "cell_type": "code",
      "metadata": {
        "id": "1K0cAMMZEnZk"
      },
      "source": [
        "# Weight portfolio by comparing the current 1-month volatility with that of the most recent year \n",
        "hist['vol_adj_return'] = hist['return'] / hist['volatility'] * hist['volatility_mean']\n",
        "hist['vol_port_size'] = hist['volatility_mean'] / hist['volatility']"
      ],
      "execution_count": null,
      "outputs": []
    },
    {
      "cell_type": "code",
      "metadata": {
        "colab": {
          "base_uri": "https://localhost:8080/"
        },
        "id": "wx5_GuytleBT",
        "outputId": "18a42081-ce7b-48d6-8904-fd82806bd172"
      },
      "source": [
        "hist['return'].mean() / hist['return'].std() * np.sqrt(252)"
      ],
      "execution_count": null,
      "outputs": [
        {
          "output_type": "execute_result",
          "data": {
            "text/plain": [
              "0.038933253086714165"
            ]
          },
          "metadata": {},
          "execution_count": 121
        }
      ]
    },
    {
      "cell_type": "code",
      "metadata": {
        "colab": {
          "base_uri": "https://localhost:8080/"
        },
        "id": "3DvKPnaGDrl6",
        "outputId": "9f9ee02e-b553-4519-f492-7fbf6724030a"
      },
      "source": [
        "## Improvement of Sharpe ratio of constant vol strategy \n",
        "hist['vol_adj_return'].mean() / hist['vol_adj_return'].std() * np.sqrt(252)"
      ],
      "execution_count": null,
      "outputs": [
        {
          "output_type": "execute_result",
          "data": {
            "text/plain": [
              "0.05387732991872466"
            ]
          },
          "metadata": {},
          "execution_count": 122
        }
      ]
    },
    {
      "cell_type": "code",
      "metadata": {
        "colab": {
          "base_uri": "https://localhost:8080/",
          "height": 287
        },
        "id": "pImXy0MekkCI",
        "outputId": "f6a652a0-2084-41c9-f208-3d75e69cbf10"
      },
      "source": [
        "(1+hist['vol_adj_return']).cumprod().plot()"
      ],
      "execution_count": null,
      "outputs": [
        {
          "output_type": "execute_result",
          "data": {
            "text/plain": [
              "<matplotlib.axes._subplots.AxesSubplot at 0x7f5d9a020dd0>"
            ]
          },
          "metadata": {},
          "execution_count": 123
        },
        {
          "output_type": "display_data",
          "data": {
            "image/png": "[encoded data removed]",
            "text/plain": [
              "<Figure size 432x288 with 1 Axes>"
            ]
          },
          "metadata": {
            "needs_background": "light"
          }
        }
      ]
    },
    {
      "cell_type": "code",
      "metadata": {
        "colab": {
          "base_uri": "https://localhost:8080/",
          "height": 287
        },
        "id": "gKFZLhyKnBb9",
        "outputId": "eea33ad7-3379-4f2e-8603-95726e29daa7"
      },
      "source": [
        "(1+hist['return']).cumprod().plot()"
      ],
      "execution_count": null,
      "outputs": [
        {
          "output_type": "execute_result",
          "data": {
            "text/plain": [
              "<matplotlib.axes._subplots.AxesSubplot at 0x7f5d99fac610>"
            ]
          },
          "metadata": {},
          "execution_count": 124
        },
        {
          "output_type": "display_data",
          "data": {
            "image/png": "[encoded data removed]",
            "text/plain": [
              "<Figure size 432x288 with 1 Axes>"
            ]
          },
          "metadata": {
            "needs_background": "light"
          }
        }
      ]
    },
    {
      "cell_type": "code",
      "metadata": {
        "colab": {
          "base_uri": "https://localhost:8080/",
          "height": 287
        },
        "id": "nzh0S2t1oe17",
        "outputId": "559d6a36-c15c-4015-93ae-ad45b25e35be"
      },
      "source": [
        "hist['vol_port_size'].plot()"
      ],
      "execution_count": null,
      "outputs": [
        {
          "output_type": "execute_result",
          "data": {
            "text/plain": [
              "<matplotlib.axes._subplots.AxesSubplot at 0x7f5d99ef9c50>"
            ]
          },
          "metadata": {},
          "execution_count": 125
        },
        {
          "output_type": "display_data",
          "data": {
            "image/png": "[encoded data removed]",
            "text/plain": [
              "<Figure size 432x288 with 1 Axes>"
            ]
          },
          "metadata": {
            "needs_background": "light"
          }
        }
      ]
    },
    {
      "cell_type": "markdown",
      "metadata": {
        "id": "IwvVaduupBeY"
      },
      "source": [
        "To carry out the above volatility adjusted strategy, you need to have access to leverage (up to 3x). "
      ]
    },
    {
      "cell_type": "code",
      "metadata": {
        "id": "p9PMXtbsofEH"
      },
      "source": [
        "selected_etf = yf.Ticker(\"EEM\")\n",
        "hist = selected_etf.history(period=\"max\")"
      ],
      "execution_count": null,
      "outputs": []
    },
    {
      "cell_type": "code",
      "metadata": {
        "id": "MitbFIhQpPcp"
      },
      "source": [
        "hist['return'] = hist['Close'].pct_change()\n",
        "hist['volatility'] = hist['return'].rolling(21).std()\n",
        "hist['volatility_mean'] = hist['volatility'].rolling(21*12).mean()\n",
        "\n",
        "# Weight portfolio by comparing the current 3-month volatility with that of the most recent year \n",
        "hist['vol_adj_return'] = hist['return'] / hist['volatility'] * hist['volatility_mean']\n",
        "hist['vol_port_size'] = hist['volatility_mean'] / hist['volatility']"
      ],
      "execution_count": null,
      "outputs": []
    },
    {
      "cell_type": "code",
      "metadata": {
        "colab": {
          "base_uri": "https://localhost:8080/",
          "height": 287
        },
        "id": "tgXnlwiHpPf0",
        "outputId": "955ddb68-3738-4f73-b5c4-707bbdcc8ccb"
      },
      "source": [
        "(1+hist['vol_adj_return']).cumprod().plot()"
      ],
      "execution_count": null,
      "outputs": [
        {
          "output_type": "execute_result",
          "data": {
            "text/plain": [
              "<matplotlib.axes._subplots.AxesSubplot at 0x7f5d99df2190>"
            ]
          },
          "metadata": {},
          "execution_count": 128
        },
        {
          "output_type": "display_data",
          "data": {
            "image/png": "[encoded data removed]",
            "text/plain": [
              "<Figure size 432x288 with 1 Axes>"
            ]
          },
          "metadata": {
            "needs_background": "light"
          }
        }
      ]
    },
    {
      "cell_type": "code",
      "metadata": {
        "colab": {
          "base_uri": "https://localhost:8080/",
          "height": 287
        },
        "id": "mhb4S5bUpPjG",
        "outputId": "997ac20e-e584-4774-c24a-be7a06034761"
      },
      "source": [
        "(1+hist['return']).cumprod().plot()"
      ],
      "execution_count": null,
      "outputs": [
        {
          "output_type": "execute_result",
          "data": {
            "text/plain": [
              "<matplotlib.axes._subplots.AxesSubplot at 0x7f5d99d47150>"
            ]
          },
          "metadata": {},
          "execution_count": 129
        },
        {
          "output_type": "display_data",
          "data": {
            "image/png": "[encoded data removed]",
            "text/plain": [
              "<Figure size 432x288 with 1 Axes>"
            ]
          },
          "metadata": {
            "needs_background": "light"
          }
        }
      ]
    },
    {
      "cell_type": "code",
      "metadata": {
        "colab": {
          "base_uri": "https://localhost:8080/",
          "height": 287
        },
        "id": "FJTTRUTHpPxc",
        "outputId": "88d2b602-60f3-4ef2-ce6e-65d638b7fed4"
      },
      "source": [
        "hist['vol_port_size'].plot()"
      ],
      "execution_count": null,
      "outputs": [
        {
          "output_type": "execute_result",
          "data": {
            "text/plain": [
              "<matplotlib.axes._subplots.AxesSubplot at 0x7f5d99d96d50>"
            ]
          },
          "metadata": {},
          "execution_count": 130
        },
        {
          "output_type": "display_data",
          "data": {
            "image/png": "[encoded data removed]",
            "text/plain": [
              "<Figure size 432x288 with 1 Axes>"
            ]
          },
          "metadata": {
            "needs_background": "light"
          }
        }
      ]
    },
    {
      "cell_type": "markdown",
      "metadata": {
        "id": "s1A_y4Jx1krd"
      },
      "source": [
        "The above strategy also applies to EM stock market. As long as the ETF will generate positive return in the long run, volatility scaling can improve sharpe ratio and return of strategy. \n"
      ]
    },
    {
      "cell_type": "markdown",
      "metadata": {
        "id": "96TuDKjT-rV5"
      },
      "source": [
        "## Recommended readings \n",
        "\n",
        "- Algorithmic Trading: Winning Strategies and Their Rationale, Ernest P. Chan\n",
        "\n",
        "- Advances in Financial Machine Learning, Marcos López de Prado\n",
        "\n",
        "- A Complete Guide to the Futures Market: Technical Analysis, Trading Systems, Fundamental Analysis, Options, Spreads, and Trading Principles (Wiley Trading), Jack D. Schwager"
      ]
    },
    {
      "cell_type": "markdown",
      "metadata": {
        "id": "lalSK3gkEuir"
      },
      "source": [
        "## Lecture 2 Market Regimes and Volatility \n",
        "\n",
        "Volatility is undesirable since they erode long term return of the portfolio. Investors are looking for ways to reduce portfolio volatility. For asset managers, holding government bonds and derivatives(put options) are common means to hedge against equity holdings they have.\n",
        "\n",
        "A put option can be thought as an insurance policy in a informal way. From this perspective, asset managers buy put options (in reality put spreads or other more sophiscated strategies) to reduce drawdown in portfolio during market distress. \n",
        "\n",
        "The benefit of reducing drawdown and thus volatility in portfolio is that it allows rebalancing after market crash. Investors can sell their bonds or gains from put options to buy cheap stocks. \n",
        "\n",
        "In this lecture, we will show that the buy-and-hold strategy is inherent a short volatility strategy, which means it benefits when market volatility is low/falling. \n"
      ]
    },
    {
      "cell_type": "markdown",
      "metadata": {
        "id": "-j-lilF2GRFM"
      },
      "source": [
        "### Fear Gauge VIX \n",
        "\n",
        "VIX is considered as a fear gauge of global market. \n",
        "\n",
        "VIX is derived from the implied volatility of front-month options of SPX index. \n",
        "\n",
        "It is not possible to invest in VIX directly. There are volatility ETFs which keep tracks of the VIX Futures, where traders buy and sell to express their views on market volatility. VXX is an example of volatility ETF that are widely traded by retail.  \n",
        "\n",
        "Due to rollover costs, VXX will generate a much worse return than VIX.\n",
        "\n",
        "A crucial feature is that holding VIX futures, and similarly buying Put Options on SPY generates a negative return in the long run.\n",
        "\n",
        "Considering the correlation between VXX (Long volatility) and SH (Short SPY) we conclude the long volatility strategies are inherently shorting the market. \n",
        "\n",
        "Assuming we can short VXX (that is short volatility) without additional borrowing cost, it will have a high correlation with the market return (long SPY). This is why we call buy-and-hold equity as inherenetly a short volatility strategy. \n",
        "\n",
        "Since buy-and-hold VXX will simply cancels the return from holding SPY, therefore VXX alone is not a good portfolio hedge. \n",
        "\n",
        "\n"
      ]
    },
    {
      "cell_type": "code",
      "metadata": {
        "id": "4d9aJTtREt8q"
      },
      "source": [
        "## VIX index, the fear gauge of the global equity market \n",
        "selected_etf = yf.Ticker(\"^VIX\")"
      ],
      "execution_count": null,
      "outputs": []
    },
    {
      "cell_type": "code",
      "metadata": {
        "id": "Ty8SobzXE0Ly"
      },
      "source": [
        "vixhist = selected_etf.history(period=\"max\")"
      ],
      "execution_count": null,
      "outputs": []
    },
    {
      "cell_type": "code",
      "metadata": {
        "colab": {
          "base_uri": "https://localhost:8080/",
          "height": 295
        },
        "id": "82D-txXkGBRy",
        "outputId": "3f0ad6d8-6f6a-4a4d-cb63-a46a06a6f26a"
      },
      "source": [
        "vixhist['Close'].loc['2018-01-01':].plot()"
      ],
      "execution_count": null,
      "outputs": [
        {
          "output_type": "execute_result",
          "data": {
            "text/plain": [
              "<matplotlib.axes._subplots.AxesSubplot at 0x7f5d9c0d7190>"
            ]
          },
          "metadata": {},
          "execution_count": 11
        },
        {
          "output_type": "display_data",
          "data": {
            "image/png": "[encoded data removed]",
            "text/plain": [
              "<Figure size 432x288 with 1 Axes>"
            ]
          },
          "metadata": {
            "needs_background": "light"
          }
        }
      ]
    },
    {
      "cell_type": "code",
      "metadata": {
        "colab": {
          "base_uri": "https://localhost:8080/",
          "height": 295
        },
        "id": "TmQ6NUdiGBU4",
        "outputId": "f2f22044-d1fe-423b-82f3-5a306e3956ec"
      },
      "source": [
        "selected_etf = yf.Ticker(\"VXX\")\n",
        "vxxhist = selected_etf.history(period=\"max\")\n",
        "vxxhist['Close'].loc['2018-01-01':].plot()"
      ],
      "execution_count": null,
      "outputs": [
        {
          "output_type": "execute_result",
          "data": {
            "text/plain": [
              "<matplotlib.axes._subplots.AxesSubplot at 0x7f5d996f6e50>"
            ]
          },
          "metadata": {},
          "execution_count": 147
        },
        {
          "output_type": "display_data",
          "data": {
            "image/png": "[encoded data removed]",
            "text/plain": [
              "<Figure size 432x288 with 1 Axes>"
            ]
          },
          "metadata": {
            "needs_background": "light"
          }
        }
      ]
    },
    {
      "cell_type": "code",
      "metadata": {
        "colab": {
          "base_uri": "https://localhost:8080/",
          "height": 295
        },
        "id": "dWFMm0AcHlCf",
        "outputId": "549d60c7-5fa7-4b3e-dd8e-aa84eb3d4e59"
      },
      "source": [
        "selected_etf = yf.Ticker(\"SH\")\n",
        "shhist = selected_etf.history(period=\"max\")\n",
        "shhist['Close'].loc['2018-01-01':].plot()"
      ],
      "execution_count": null,
      "outputs": [
        {
          "output_type": "execute_result",
          "data": {
            "text/plain": [
              "<matplotlib.axes._subplots.AxesSubplot at 0x7f5d99775090>"
            ]
          },
          "metadata": {},
          "execution_count": 148
        },
        {
          "output_type": "display_data",
          "data": {
            "image/png": "[encoded data removed]",
            "text/plain": [
              "<Figure size 432x288 with 1 Axes>"
            ]
          },
          "metadata": {
            "needs_background": "light"
          }
        }
      ]
    },
    {
      "cell_type": "code",
      "metadata": {
        "colab": {
          "base_uri": "https://localhost:8080/"
        },
        "id": "tWIR_qI6H9aa",
        "outputId": "319689f5-6c9f-4f45-d3f8-9566de6c9264"
      },
      "source": [
        "## Very high correlation between long volatility (UVXY) and short equity (SH) \n",
        "np.corrcoef(shhist['Close'].loc['2020-01-01':],vxxhist['Close'].loc['2020-01-01':])[0,1]"
      ],
      "execution_count": null,
      "outputs": [
        {
          "output_type": "execute_result",
          "data": {
            "text/plain": [
              "0.862606495929021"
            ]
          },
          "metadata": {},
          "execution_count": 143
        }
      ]
    },
    {
      "cell_type": "markdown",
      "metadata": {
        "id": "LNeYsYpawDBQ"
      },
      "source": [
        "There are more than one kind of volatility ETFs\n",
        "\n",
        "- VXX keep track of the S&P 500 VIX Short-Term Futures Index Total Return\n",
        "\n",
        "- VXZ keep track of S&P 500 VIX Mid-Term Futures Index.\n",
        "\n",
        "VXZ has a less significant contango effect than VXX, but keep track of the spot VIX less well. "
      ]
    },
    {
      "cell_type": "code",
      "metadata": {
        "colab": {
          "base_uri": "https://localhost:8080/",
          "height": 295
        },
        "id": "FIryVxYgH9jT",
        "outputId": "4dba3d7b-44da-43ef-98f5-6b0b0384fac1"
      },
      "source": [
        "selected_etf = yf.Ticker(\"VXZ\")\n",
        "vxzhist = selected_etf.history(period=\"max\")\n",
        "vxzhist['Close'].loc['2018-01-01':].plot()"
      ],
      "execution_count": null,
      "outputs": [
        {
          "output_type": "execute_result",
          "data": {
            "text/plain": [
              "<matplotlib.axes._subplots.AxesSubplot at 0x7f5d99561d10>"
            ]
          },
          "metadata": {},
          "execution_count": 150
        },
        {
          "output_type": "display_data",
          "data": {
            "image/png": "[encoded data removed]",
            "text/plain": [
              "<Figure size 432x288 with 1 Axes>"
            ]
          },
          "metadata": {
            "needs_background": "light"
          }
        }
      ]
    },
    {
      "cell_type": "markdown",
      "metadata": {
        "id": "HXxO80AbYhOk"
      },
      "source": [
        "In the following lectures we will introduce different strategy that aims to reduce portfolio drawdown during market drawdowns \n",
        "\n",
        "- Commodities Trend Following (Uncorrelated return during demand and supply shocks)\n",
        "- Risk Parity (Leveraged bets on interest rates going down)\n",
        "- Active Long Volatility (Time when to buy call/put options)\n",
        "\n"
      ]
    },
    {
      "cell_type": "markdown",
      "metadata": {
        "id": "89cgzzZOQxwr"
      },
      "source": [
        "### Example of Market Regime model \n",
        "\n",
        "We will provide a very simple example of market regime model using Hidden Markov Model, which is equivalent conditioning stock returns on implied volatility (VIX).\n",
        "\n",
        "In the industry, much more sophiscated models are used. TwoSigma builds a GMM model which classify market into four different states based on the return of 17 risk-premium factors. More details will be provided in Lecture 5 "
      ]
    },
    {
      "cell_type": "code",
      "metadata": {
        "colab": {
          "base_uri": "https://localhost:8080/"
        },
        "id": "gUs5MTByVGqu",
        "outputId": "c91da2e3-a87c-4eb4-c2b4-8aa49bc8dccd"
      },
      "source": [
        "! pip install yfinance\n",
        "! pip install hmmlearn"
      ],
      "execution_count": null,
      "outputs": [
        {
          "output_type": "stream",
          "name": "stdout",
          "text": [
            "Collecting yfinance\n",
            "  Downloading yfinance-0.1.63.tar.gz (26 kB)\n",
            "Requirement already satisfied: pandas>=0.24 in /usr/local/lib/python3.7/dist-packages (from yfinance) (1.1.5)\n",
            "Requirement already satisfied: numpy>=1.15 in /usr/local/lib/python3.7/dist-packages (from yfinance) (1.19.5)\n",
            "Requirement already satisfied: requests>=2.20 in /usr/local/lib/python3.7/dist-packages (from yfinance) (2.23.0)\n",
            "Requirement already satisfied: multitasking>=0.0.7 in /usr/local/lib/python3.7/dist-packages (from yfinance) (0.0.9)\n",
            "Collecting lxml>=4.5.1\n",
            "  Downloading lxml-4.6.3-cp37-cp37m-manylinux2014_x86_64.whl (6.3 MB)\n",
            "\u001b[K     |████████████████████████████████| 6.3 MB 31.3 MB/s \n",
            "\u001b[?25hRequirement already satisfied: pytz>=2017.2 in /usr/local/lib/python3.7/dist-packages (from pandas>=0.24->yfinance) (2018.9)\n",
            "Requirement already satisfied: python-dateutil>=2.7.3 in /usr/local/lib/python3.7/dist-packages (from pandas>=0.24->yfinance) (2.8.2)\n",
            "Requirement already satisfied: six>=1.5 in /usr/local/lib/python3.7/dist-packages (from python-dateutil>=2.7.3->pandas>=0.24->yfinance) (1.15.0)\n",
            "Requirement already satisfied: chardet<4,>=3.0.2 in /usr/local/lib/python3.7/dist-packages (from requests>=2.20->yfinance) (3.0.4)\n",
            "Requirement already satisfied: idna<3,>=2.5 in /usr/local/lib/python3.7/dist-packages (from requests>=2.20->yfinance) (2.10)\n",
            "Requirement already satisfied: urllib3!=1.25.0,!=1.25.1,<1.26,>=1.21.1 in /usr/local/lib/python3.7/dist-packages (from requests>=2.20->yfinance) (1.24.3)\n",
            "Requirement already satisfied: certifi>=2017.4.17 in /usr/local/lib/python3.7/dist-packages (from requests>=2.20->yfinance) (2021.5.30)\n",
            "Building wheels for collected packages: yfinance\n",
            "  Building wheel for yfinance (setup.py) ... \u001b[?25l\u001b[?25hdone\n",
            "  Created wheel for yfinance: filename=yfinance-0.1.63-py2.py3-none-any.whl size=23918 sha256=d08a065c98d319cea879f6bc257d9d65be3f6204ad2cd1514d045bf0b3e0d4e3\n",
            "  Stored in directory: /root/.cache/pip/wheels/fe/87/8b/7ec24486e001d3926537f5f7801f57a74d181be25b11157983\n",
            "Successfully built yfinance\n",
            "Installing collected packages: lxml, yfinance\n",
            "  Attempting uninstall: lxml\n",
            "    Found existing installation: lxml 4.2.6\n",
            "    Uninstalling lxml-4.2.6:\n",
            "      Successfully uninstalled lxml-4.2.6\n",
            "Successfully installed lxml-4.6.3 yfinance-0.1.63\n",
            "Requirement already satisfied: hmmlearn in /usr/local/lib/python3.7/dist-packages (0.2.6)\n",
            "Requirement already satisfied: scipy>=0.19 in /usr/local/lib/python3.7/dist-packages (from hmmlearn) (1.4.1)\n",
            "Requirement already satisfied: numpy>=1.10 in /usr/local/lib/python3.7/dist-packages (from hmmlearn) (1.19.5)\n",
            "Requirement already satisfied: scikit-learn>=0.16 in /usr/local/lib/python3.7/dist-packages (from hmmlearn) (0.22.2.post1)\n",
            "Requirement already satisfied: joblib>=0.11 in /usr/local/lib/python3.7/dist-packages (from scikit-learn>=0.16->hmmlearn) (1.0.1)\n"
          ]
        }
      ]
    },
    {
      "cell_type": "code",
      "metadata": {
        "id": "m_40ji2fQ6nA"
      },
      "source": [
        "from hmmlearn.hmm import GaussianHMM\n",
        "import yfinance as yf\n",
        "import numpy as np\n",
        "\n",
        "selected_etf = yf.Ticker(\"SPY\")\n",
        "spyhist = selected_etf.history(period=\"max\")\n",
        "spyhist['Return'] = spyhist['Open'].pct_change()\n",
        "trainrets = spyhist.loc['1996-01-01':'2017-01-01']\n",
        "testrets = spyhist.loc['2018-01-01':'2022-02-25']"
      ],
      "execution_count": null,
      "outputs": []
    },
    {
      "cell_type": "code",
      "metadata": {
        "id": "ggCPI4wwRMcS"
      },
      "source": [
        "hmm_model = GaussianHMM(\n",
        "        n_components=2, covariance_type=\"full\", n_iter=1000\n",
        "    ).fit(trainrets['Return'].values.reshape(-1, 1))\n"
      ],
      "execution_count": null,
      "outputs": []
    },
    {
      "cell_type": "code",
      "metadata": {
        "colab": {
          "base_uri": "https://localhost:8080/"
        },
        "id": "iczWj-ZHVtqd",
        "outputId": "9dd2a5d9-b91a-4863-a7a8-b437c2672b1c"
      },
      "source": [
        "\n",
        "testrets['State'] = hmm_model.predict(testrets['Return'].values.reshape(-1, 1))\n",
        "testrets['Filtered'] = testrets['State'] * testrets['Close']"
      ],
      "execution_count": null,
      "outputs": [
        {
          "output_type": "stream",
          "name": "stderr",
          "text": [
            "/usr/local/lib/python3.7/dist-packages/ipykernel_launcher.py:2: SettingWithCopyWarning: \n",
            "A value is trying to be set on a copy of a slice from a DataFrame.\n",
            "Try using .loc[row_indexer,col_indexer] = value instead\n",
            "\n",
            "See the caveats in the documentation: https://pandas.pydata.org/pandas-docs/stable/user_guide/indexing.html#returning-a-view-versus-a-copy\n",
            "  \n",
            "/usr/local/lib/python3.7/dist-packages/ipykernel_launcher.py:3: SettingWithCopyWarning: \n",
            "A value is trying to be set on a copy of a slice from a DataFrame.\n",
            "Try using .loc[row_indexer,col_indexer] = value instead\n",
            "\n",
            "See the caveats in the documentation: https://pandas.pydata.org/pandas-docs/stable/user_guide/indexing.html#returning-a-view-versus-a-copy\n",
            "  This is separate from the ipykernel package so we can avoid doing imports until\n"
          ]
        }
      ]
    },
    {
      "cell_type": "code",
      "metadata": {
        "colab": {
          "base_uri": "https://localhost:8080/",
          "height": 295
        },
        "id": "IouNlEACQySv",
        "outputId": "71b439ce-be12-4ac8-f2ea-13002c4df750"
      },
      "source": [
        "testrets['State'].loc['2020-01-01':].plot()"
      ],
      "execution_count": null,
      "outputs": [
        {
          "output_type": "execute_result",
          "data": {
            "text/plain": [
              "<matplotlib.axes._subplots.AxesSubplot at 0x7fb83a933ed0>"
            ]
          },
          "metadata": {},
          "execution_count": 181
        },
        {
          "output_type": "display_data",
          "data": {
            "image/png": "[encoded data removed]",
            "text/plain": [
              "<Figure size 432x288 with 1 Axes>"
            ]
          },
          "metadata": {
            "needs_background": "light"
          }
        }
      ]
    },
    {
      "cell_type": "code",
      "metadata": {
        "colab": {
          "base_uri": "https://localhost:8080/",
          "height": 295
        },
        "id": "ndyAi0xRV8m2",
        "outputId": "9d22d7e0-12cc-456f-acb1-e6d3066728fa"
      },
      "source": [
        "testrets['Filtered'].loc['2020-01-01':].plot()"
      ],
      "execution_count": null,
      "outputs": [
        {
          "output_type": "execute_result",
          "data": {
            "text/plain": [
              "<matplotlib.axes._subplots.AxesSubplot at 0x7fb83a843610>"
            ]
          },
          "metadata": {},
          "execution_count": 182
        },
        {
          "output_type": "display_data",
          "data": {
            "image/png": "[encoded data removed]",
            "text/plain": [
              "<Figure size 432x288 with 1 Axes>"
            ]
          },
          "metadata": {
            "needs_background": "light"
          }
        }
      ]
    },
    {
      "cell_type": "code",
      "metadata": {
        "colab": {
          "base_uri": "https://localhost:8080/"
        },
        "id": "yKwTe2weV8wX",
        "outputId": "75b5fb6e-6287-413e-c662-4394a44a8383"
      },
      "source": [
        "## State 0 is bear market  \n",
        "## State 1 is bull market \n",
        "testrets.groupby('State').mean()['Return']"
      ],
      "execution_count": null,
      "outputs": [
        {
          "output_type": "execute_result",
          "data": {
            "text/plain": [
              "State\n",
              "0   -0.000540\n",
              "1    0.001014\n",
              "Name: Return, dtype: float64"
            ]
          },
          "metadata": {},
          "execution_count": 121
        }
      ]
    },
    {
      "cell_type": "code",
      "metadata": {
        "colab": {
          "base_uri": "https://localhost:8080/"
        },
        "id": "35lv3CNAYzW7",
        "outputId": "7b285e6a-b011-461e-ddb2-b2d4e5d46e29"
      },
      "source": [
        "testrets.groupby('State').std()['Return']"
      ],
      "execution_count": null,
      "outputs": [
        {
          "output_type": "execute_result",
          "data": {
            "text/plain": [
              "State\n",
              "0    0.021660\n",
              "1    0.007312\n",
              "Name: Return, dtype: float64"
            ]
          },
          "metadata": {},
          "execution_count": 183
        }
      ]
    },
    {
      "cell_type": "markdown",
      "metadata": {
        "id": "jqTBNuCqfOgc"
      },
      "source": [
        "Can we obtain a similar model by cosidering the value of VIX? "
      ]
    },
    {
      "cell_type": "code",
      "metadata": {
        "id": "L3SV4y_Ddaa9"
      },
      "source": [
        "selected_etf = yf.Ticker(\"SPY\")\n",
        "spyhist = selected_etf.history(period=\"max\").loc['1996-01-01':'2022-01-01']\n",
        "selected_etf = yf.Ticker(\"^VIX\")\n",
        "vixhist = selected_etf.history(period=\"max\").loc['1996-01-01':'2022-01-01']\n",
        "spyhist['Return'] = spyhist['Close'].pct_change()\n",
        "spyhist['VIX'] = vixhist['Close']\n",
        "spyhist['VIX_State'] = np.where(spyhist['VIX']<25,1,0)\n",
        "trainrets = spyhist.loc['1996-01-01':'2015-01-01']\n",
        "testrets = spyhist.loc['2018-01-01':'2022-01-01']"
      ],
      "execution_count": null,
      "outputs": []
    },
    {
      "cell_type": "code",
      "metadata": {
        "colab": {
          "base_uri": "https://localhost:8080/"
        },
        "id": "dm8pdx5Edae3",
        "outputId": "5885e11c-0d2e-44c8-ba90-5121d9a23d23"
      },
      "source": [
        "testrets.groupby('VIX_State').mean()['Return']"
      ],
      "execution_count": null,
      "outputs": [
        {
          "output_type": "execute_result",
          "data": {
            "text/plain": [
              "VIX_State\n",
              "0   -0.001212\n",
              "1    0.001148\n",
              "Name: Return, dtype: float64"
            ]
          },
          "metadata": {},
          "execution_count": 11
        }
      ]
    },
    {
      "cell_type": "code",
      "metadata": {
        "colab": {
          "base_uri": "https://localhost:8080/"
        },
        "id": "UDZHcdCnW2E6",
        "outputId": "e8a5d6d6-21f6-4602-e6b2-ea4589256c43"
      },
      "source": [
        "testrets.groupby('VIX_State').std()['Return']"
      ],
      "execution_count": null,
      "outputs": [
        {
          "output_type": "execute_result",
          "data": {
            "text/plain": [
              "VIX_State\n",
              "0    0.025344\n",
              "1    0.007969\n",
              "Name: Return, dtype: float64"
            ]
          },
          "metadata": {},
          "execution_count": 12
        }
      ]
    },
    {
      "cell_type": "code",
      "metadata": {
        "colab": {
          "base_uri": "https://localhost:8080/",
          "height": 419
        },
        "id": "vXe0NVDzdah-",
        "outputId": "289b2d06-2d9c-4676-f684-b893e324bcaf"
      },
      "source": [
        "testrets['Filtered'] = testrets['Close'] * testrets['VIX_State']\n",
        "testrets['Filtered'].loc['2018-01-01':].plot()"
      ],
      "execution_count": null,
      "outputs": [
        {
          "output_type": "stream",
          "name": "stderr",
          "text": [
            "/usr/local/lib/python3.7/dist-packages/ipykernel_launcher.py:1: SettingWithCopyWarning: \n",
            "A value is trying to be set on a copy of a slice from a DataFrame.\n",
            "Try using .loc[row_indexer,col_indexer] = value instead\n",
            "\n",
            "See the caveats in the documentation: https://pandas.pydata.org/pandas-docs/stable/user_guide/indexing.html#returning-a-view-versus-a-copy\n",
            "  \"\"\"Entry point for launching an IPython kernel.\n"
          ]
        },
        {
          "output_type": "execute_result",
          "data": {
            "text/plain": [
              "<matplotlib.axes._subplots.AxesSubplot at 0x7f4d9b0dbdd0>"
            ]
          },
          "metadata": {},
          "execution_count": 14
        },
        {
          "output_type": "display_data",
          "data": {
            "image/png": "[encoded data removed]",
            "text/plain": [
              "<Figure size 432x288 with 1 Axes>"
            ]
          },
          "metadata": {
            "needs_background": "light"
          }
        }
      ]
    },
    {
      "cell_type": "markdown",
      "metadata": {
        "id": "LQVU1JYDXSJS"
      },
      "source": [
        "Splitting the test period by the value of VIX provides a similar model as HMM. It suggests machine learning methods, applied on price data only might not outperform simple models based on econometrics. \n",
        "\n"
      ]
    },
    {
      "cell_type": "markdown",
      "metadata": {
        "id": "cUjFAQA8KcRn"
      },
      "source": [
        "Changing the number of of hidden states in HMM model. The returns are clustered in three different states.\n",
        "\n",
        "1. Low volatility states with positive return\n",
        "2. Medium volatility states with near zero return\n",
        "3. High volatility states with negative return \n"
      ]
    },
    {
      "cell_type": "code",
      "metadata": {
        "id": "H4Vgt8lKV8-l"
      },
      "source": [
        "hmm_model = GaussianHMM(\n",
        "        n_components=3, covariance_type=\"full\", n_iter=1000\n",
        "    ).fit(trainrets['Return'].dropna().values.reshape(-1, 1))\n"
      ],
      "execution_count": null,
      "outputs": []
    },
    {
      "cell_type": "code",
      "metadata": {
        "colab": {
          "base_uri": "https://localhost:8080/"
        },
        "id": "UdaIkykerxQn",
        "outputId": "73f41c06-710d-4745-eaa7-6129cce10630"
      },
      "source": [
        "testrets = spyhist.loc['2018-01-01':'2021-12-25']\n",
        "testrets['Shifted_Return'] = testrets['Return'].shift(-1)\n",
        "testrets['State'] = hmm_model.predict(testrets['Return'].values.reshape(-1, 1))\n",
        "testrets['Filtered'] = testrets['State'] * testrets['Close']"
      ],
      "execution_count": null,
      "outputs": [
        {
          "output_type": "stream",
          "name": "stderr",
          "text": [
            "/usr/local/lib/python3.7/dist-packages/ipykernel_launcher.py:2: SettingWithCopyWarning: \n",
            "A value is trying to be set on a copy of a slice from a DataFrame.\n",
            "Try using .loc[row_indexer,col_indexer] = value instead\n",
            "\n",
            "See the caveats in the documentation: https://pandas.pydata.org/pandas-docs/stable/user_guide/indexing.html#returning-a-view-versus-a-copy\n",
            "  \n",
            "/usr/local/lib/python3.7/dist-packages/ipykernel_launcher.py:3: SettingWithCopyWarning: \n",
            "A value is trying to be set on a copy of a slice from a DataFrame.\n",
            "Try using .loc[row_indexer,col_indexer] = value instead\n",
            "\n",
            "See the caveats in the documentation: https://pandas.pydata.org/pandas-docs/stable/user_guide/indexing.html#returning-a-view-versus-a-copy\n",
            "  This is separate from the ipykernel package so we can avoid doing imports until\n",
            "/usr/local/lib/python3.7/dist-packages/ipykernel_launcher.py:4: SettingWithCopyWarning: \n",
            "A value is trying to be set on a copy of a slice from a DataFrame.\n",
            "Try using .loc[row_indexer,col_indexer] = value instead\n",
            "\n",
            "See the caveats in the documentation: https://pandas.pydata.org/pandas-docs/stable/user_guide/indexing.html#returning-a-view-versus-a-copy\n",
            "  after removing the cwd from sys.path.\n"
          ]
        }
      ]
    },
    {
      "cell_type": "code",
      "metadata": {
        "colab": {
          "base_uri": "https://localhost:8080/",
          "height": 295
        },
        "id": "eUDFPquPrxY4",
        "outputId": "fda02e6d-6ca6-4cac-e513-f5c9079af205"
      },
      "source": [
        "testrets['State'].plot()"
      ],
      "execution_count": null,
      "outputs": [
        {
          "output_type": "execute_result",
          "data": {
            "text/plain": [
              "<matplotlib.axes._subplots.AxesSubplot at 0x7fb83a754050>"
            ]
          },
          "metadata": {},
          "execution_count": 192
        },
        {
          "output_type": "display_data",
          "data": {
            "image/png": "[encoded data removed]",
            "text/plain": [
              "<Figure size 432x288 with 1 Axes>"
            ]
          },
          "metadata": {
            "needs_background": "light"
          }
        }
      ]
    },
    {
      "cell_type": "code",
      "metadata": {
        "colab": {
          "base_uri": "https://localhost:8080/"
        },
        "id": "LdWbBGkwsMUl",
        "outputId": "19912763-b9a7-40dc-9f72-51d0329b510e"
      },
      "source": [
        "testrets.groupby('State').mean()['Shifted_Return'] * np.sqrt(252)"
      ],
      "execution_count": null,
      "outputs": [
        {
          "output_type": "execute_result",
          "data": {
            "text/plain": [
              "State\n",
              "0    0.015526\n",
              "1    0.006685\n",
              "2   -0.046941\n",
              "Name: Shifted_Return, dtype: float64"
            ]
          },
          "metadata": {},
          "execution_count": 193
        }
      ]
    },
    {
      "cell_type": "code",
      "metadata": {
        "colab": {
          "base_uri": "https://localhost:8080/"
        },
        "id": "HjUfgEySsMgF",
        "outputId": "c96d636a-f2a9-4b5b-bbfd-4525c2b081d5"
      },
      "source": [
        "testrets.groupby('State').std()['Shifted_Return']"
      ],
      "execution_count": null,
      "outputs": [
        {
          "output_type": "execute_result",
          "data": {
            "text/plain": [
              "State\n",
              "0    0.007017\n",
              "1    0.014475\n",
              "2    0.037721\n",
              "Name: Shifted_Return, dtype: float64"
            ]
          },
          "metadata": {},
          "execution_count": 194
        }
      ]
    },
    {
      "cell_type": "code",
      "metadata": {
        "colab": {
          "base_uri": "https://localhost:8080/"
        },
        "id": "at2xVs1nrxcR",
        "outputId": "bcdad5c5-ae06-41a5-f2d5-5d614f177bfc"
      },
      "source": [
        "testrets.groupby('State').count()['Return']"
      ],
      "execution_count": null,
      "outputs": [
        {
          "output_type": "execute_result",
          "data": {
            "text/plain": [
              "State\n",
              "0    645\n",
              "1    266\n",
              "2     38\n",
              "Name: Return, dtype: int64"
            ]
          },
          "metadata": {},
          "execution_count": 195
        }
      ]
    },
    {
      "cell_type": "code",
      "metadata": {
        "id": "qUUDfSp-Fcep"
      },
      "source": [
        ""
      ],
      "execution_count": null,
      "outputs": []
    },
    {
      "cell_type": "markdown",
      "metadata": {
        "id": "T7A6jVVUHReq"
      },
      "source": [
        "## Recommended readings \n",
        "\n",
        "- Market Regime Identification Using Hidden Markov Models https://papers.ssrn.com/sol3/papers.cfm?abstract_id=3406068\n",
        "\n",
        "- Regime-Switching Factor Investing with Hidden Markov Models https://www.mdpi.com/1911-8074/13/12/311/htm\n",
        "\n",
        "- A Machine Learning Approach to Regime Modeling https://www.twosigma.com/articles/a-machine-learning-approach-to-regime-modeling/\n"
      ]
    },
    {
      "cell_type": "markdown",
      "metadata": {
        "id": "_D4UaX5zZ-jH"
      },
      "source": [
        "## Lecture 3 Portfolio Optimisation \n",
        "\n",
        "Examples of portfolio construction \n",
        "\n",
        "- 60/40\n",
        "- mean-variance portfolio optimisation\n",
        "- Hierarchical Risk Parity (HRP) portfolio\n",
        "\n"
      ]
    },
    {
      "cell_type": "code",
      "metadata": {
        "colab": {
          "base_uri": "https://localhost:8080/"
        },
        "id": "tLryX0RZ2lJG",
        "outputId": "0d96e71f-c827-4ac3-bfed-751b4b3a7a1c"
      },
      "source": [
        "! pip install yfinance\n",
        "\n",
        "import yfinance as yf\n",
        "import numpy as np\n",
        "import pandas as pd"
      ],
      "execution_count": 1,
      "outputs": [
        {
          "output_type": "stream",
          "name": "stdout",
          "text": [
            "Collecting yfinance\n",
            "  Downloading yfinance-0.1.64.tar.gz (26 kB)\n",
            "Requirement already satisfied: pandas>=0.24 in /usr/local/lib/python3.7/dist-packages (from yfinance) (1.1.5)\n",
            "Requirement already satisfied: numpy>=1.15 in /usr/local/lib/python3.7/dist-packages (from yfinance) (1.19.5)\n",
            "Requirement already satisfied: requests>=2.20 in /usr/local/lib/python3.7/dist-packages (from yfinance) (2.23.0)\n",
            "Requirement already satisfied: multitasking>=0.0.7 in /usr/local/lib/python3.7/dist-packages (from yfinance) (0.0.9)\n",
            "Collecting lxml>=4.5.1\n",
            "  Downloading lxml-4.6.3-cp37-cp37m-manylinux2014_x86_64.whl (6.3 MB)\n",
            "\u001b[K     |████████████████████████████████| 6.3 MB 30.9 MB/s \n",
            "\u001b[?25hRequirement already satisfied: pytz>=2017.2 in /usr/local/lib/python3.7/dist-packages (from pandas>=0.24->yfinance) (2018.9)\n",
            "Requirement already satisfied: python-dateutil>=2.7.3 in /usr/local/lib/python3.7/dist-packages (from pandas>=0.24->yfinance) (2.8.2)\n",
            "Requirement already satisfied: six>=1.5 in /usr/local/lib/python3.7/dist-packages (from python-dateutil>=2.7.3->pandas>=0.24->yfinance) (1.15.0)\n",
            "Requirement already satisfied: chardet<4,>=3.0.2 in /usr/local/lib/python3.7/dist-packages (from requests>=2.20->yfinance) (3.0.4)\n",
            "Requirement already satisfied: idna<3,>=2.5 in /usr/local/lib/python3.7/dist-packages (from requests>=2.20->yfinance) (2.10)\n",
            "Requirement already satisfied: urllib3!=1.25.0,!=1.25.1,<1.26,>=1.21.1 in /usr/local/lib/python3.7/dist-packages (from requests>=2.20->yfinance) (1.24.3)\n",
            "Requirement already satisfied: certifi>=2017.4.17 in /usr/local/lib/python3.7/dist-packages (from requests>=2.20->yfinance) (2021.5.30)\n",
            "Building wheels for collected packages: yfinance\n",
            "  Building wheel for yfinance (setup.py) ... \u001b[?25l\u001b[?25hdone\n",
            "  Created wheel for yfinance: filename=yfinance-0.1.64-py2.py3-none-any.whl size=24109 sha256=3ae14d2b06778ee94faa9c2e72df92ee6959c9f220063af78971d9d765b7f8ab\n",
            "  Stored in directory: /root/.cache/pip/wheels/86/fe/9b/a4d3d78796b699e37065e5b6c27b75cff448ddb8b24943c288\n",
            "Successfully built yfinance\n",
            "Installing collected packages: lxml, yfinance\n",
            "  Attempting uninstall: lxml\n",
            "    Found existing installation: lxml 4.2.6\n",
            "    Uninstalling lxml-4.2.6:\n",
            "      Successfully uninstalled lxml-4.2.6\n",
            "Successfully installed lxml-4.6.3 yfinance-0.1.64\n"
          ]
        }
      ]
    },
    {
      "cell_type": "code",
      "metadata": {
        "id": "LpoUfR-9I2dc"
      },
      "source": [
        "selected_etf = yf.Ticker(\"TLT\")\n",
        "tlthist = selected_etf.history(period=\"max\")\n",
        "selected_etf = yf.Ticker(\"SPY\")\n",
        "spyhist = selected_etf.history(period=\"max\")"
      ],
      "execution_count": 3,
      "outputs": []
    },
    {
      "cell_type": "code",
      "metadata": {
        "id": "kil8XD4rJJW9"
      },
      "source": [
        "tlthist['return'] = tlthist['Close'].loc['2008-01-01':].pct_change()\n",
        "spyhist['return'] = spyhist['Close'].loc['2008-01-01':].pct_change()"
      ],
      "execution_count": 5,
      "outputs": []
    },
    {
      "cell_type": "code",
      "metadata": {
        "id": "JRG4CHy7I2mj"
      },
      "source": [
        "# 60/40 portfolio \n",
        "classic = 0.6 * spyhist['return'] + 0.4 * tlthist['return']\n",
        "classic = classic.dropna()"
      ],
      "execution_count": 6,
      "outputs": []
    },
    {
      "cell_type": "code",
      "metadata": {
        "id": "FUpRRKqGI26D"
      },
      "source": [
        "portfolio_classic = (1 + classic).cumprod()"
      ],
      "execution_count": 7,
      "outputs": []
    },
    {
      "cell_type": "code",
      "metadata": {
        "colab": {
          "base_uri": "https://localhost:8080/",
          "height": 287
        },
        "id": "zOiQk-kcJilN",
        "outputId": "0828db24-bf45-4925-fcab-95dc7f1c6423"
      },
      "source": [
        "portfolio_classic.plot()"
      ],
      "execution_count": 8,
      "outputs": [
        {
          "output_type": "execute_result",
          "data": {
            "text/plain": [
              "<matplotlib.axes._subplots.AxesSubplot at 0x7f646ca2ca50>"
            ]
          },
          "metadata": {},
          "execution_count": 8
        },
        {
          "output_type": "display_data",
          "data": {
            "image/png": "[encoded data removed]",
            "text/plain": [
              "<Figure size 432x288 with 1 Axes>"
            ]
          },
          "metadata": {
            "needs_background": "light"
          }
        }
      ]
    },
    {
      "cell_type": "code",
      "metadata": {
        "colab": {
          "base_uri": "https://localhost:8080/"
        },
        "id": "rU3DdFVOJlPe",
        "outputId": "3cc6a1d4-920b-4f79-fe39-eca3c4a1b50c"
      },
      "source": [
        "classic.mean() / classic.std() * np.sqrt(252)"
      ],
      "execution_count": 9,
      "outputs": [
        {
          "output_type": "execute_result",
          "data": {
            "text/plain": [
              "0.9245891031560179"
            ]
          },
          "metadata": {},
          "execution_count": 9
        }
      ]
    },
    {
      "cell_type": "markdown",
      "metadata": {
        "id": "W4p3hn4pJudp"
      },
      "source": [
        "The sharpe ratio of 60/40 portfolio is better than the buy and hold portfolio and volatility-scaled portfolio of SPY. Over the last 20 years, bond is a successful hedge for stocks. \n"
      ]
    },
    {
      "cell_type": "code",
      "metadata": {
        "colab": {
          "base_uri": "https://localhost:8080/"
        },
        "id": "nMsm-u_GJ_B5",
        "outputId": "4b7d4b52-d090-4d43-8eaf-785cf934c32b"
      },
      "source": [
        "! pip install PyPortfolioOpt"
      ],
      "execution_count": 10,
      "outputs": [
        {
          "output_type": "stream",
          "name": "stdout",
          "text": [
            "Collecting PyPortfolioOpt\n",
            "  Downloading PyPortfolioOpt-1.5.1-py3-none-any.whl (61 kB)\n",
            "\u001b[?25l\r\u001b[K     |█████▍                          | 10 kB 26.7 MB/s eta 0:00:01\r\u001b[K     |██████████▊                     | 20 kB 30.9 MB/s eta 0:00:01\r\u001b[K     |████████████████                | 30 kB 24.6 MB/s eta 0:00:01\r\u001b[K     |█████████████████████▍          | 40 kB 25.9 MB/s eta 0:00:01\r\u001b[K     |██████████████████████████▊     | 51 kB 27.7 MB/s eta 0:00:01\r\u001b[K     |████████████████████████████████| 61 kB 7.5 MB/s \n",
            "\u001b[?25hRequirement already satisfied: scipy<2.0,>=1.3 in /usr/local/lib/python3.7/dist-packages (from PyPortfolioOpt) (1.4.1)\n",
            "Requirement already satisfied: numpy<2.0,>=1.12 in /usr/local/lib/python3.7/dist-packages (from PyPortfolioOpt) (1.19.5)\n",
            "Requirement already satisfied: pandas>=0.19 in /usr/local/lib/python3.7/dist-packages (from PyPortfolioOpt) (1.1.5)\n",
            "Collecting cvxpy<2.0.0,>=1.1.10\n",
            "  Downloading cvxpy-1.1.15-cp37-cp37m-manylinux_2_24_x86_64.whl (2.7 MB)\n",
            "\u001b[K     |████████████████████████████████| 2.7 MB 26.3 MB/s \n",
            "\u001b[?25hRequirement already satisfied: osqp>=0.4.1 in /usr/local/lib/python3.7/dist-packages (from cvxpy<2.0.0,>=1.1.10->PyPortfolioOpt) (0.6.2.post0)\n",
            "Requirement already satisfied: ecos>=2 in /usr/local/lib/python3.7/dist-packages (from cvxpy<2.0.0,>=1.1.10->PyPortfolioOpt) (2.0.7.post1)\n",
            "Requirement already satisfied: scs>=1.1.6 in /usr/local/lib/python3.7/dist-packages (from cvxpy<2.0.0,>=1.1.10->PyPortfolioOpt) (2.1.4)\n",
            "Requirement already satisfied: qdldl in /usr/local/lib/python3.7/dist-packages (from osqp>=0.4.1->cvxpy<2.0.0,>=1.1.10->PyPortfolioOpt) (0.1.5.post0)\n",
            "Requirement already satisfied: python-dateutil>=2.7.3 in /usr/local/lib/python3.7/dist-packages (from pandas>=0.19->PyPortfolioOpt) (2.8.2)\n",
            "Requirement already satisfied: pytz>=2017.2 in /usr/local/lib/python3.7/dist-packages (from pandas>=0.19->PyPortfolioOpt) (2018.9)\n",
            "Requirement already satisfied: six>=1.5 in /usr/local/lib/python3.7/dist-packages (from python-dateutil>=2.7.3->pandas>=0.19->PyPortfolioOpt) (1.15.0)\n",
            "Installing collected packages: cvxpy, PyPortfolioOpt\n",
            "  Attempting uninstall: cvxpy\n",
            "    Found existing installation: cvxpy 1.0.31\n",
            "    Uninstalling cvxpy-1.0.31:\n",
            "      Successfully uninstalled cvxpy-1.0.31\n",
            "Successfully installed PyPortfolioOpt-1.5.1 cvxpy-1.1.15\n"
          ]
        }
      ]
    },
    {
      "cell_type": "code",
      "metadata": {
        "id": "vHpxOR-2J_Hh"
      },
      "source": [
        "from pypfopt import EfficientFrontier\n",
        "from pypfopt import risk_models\n",
        "from pypfopt import expected_returns"
      ],
      "execution_count": 11,
      "outputs": []
    },
    {
      "cell_type": "markdown",
      "metadata": {
        "id": "7Ez9OqFqDkjg"
      },
      "source": [
        "We will demonstrate a very basic example of Mean-variance optimization using different ETFs\n",
        "\n",
        "ETF selection \n",
        "- SPY: US Stocks 500 (Core)\n",
        "- QQQ: US Tech Stocks 100 (Growth)\n",
        "- TLT: US 20Y+ Treasuries (Interest Rates)\n",
        "- LQD: US Investment Grade Corp Bonds (Credit)\n",
        "- GLD: Gold (Precious Metals)\n",
        "- DBC: Invesco DB Commodity Index Tracking Fund (Commodities)"
      ]
    },
    {
      "cell_type": "code",
      "metadata": {
        "id": "fYsgbkp-Beem"
      },
      "source": [
        "prices = list()\n",
        "\n",
        "ETF_list = ['SPY','QQQ','TLT','LQD','GLD','DBC']\n",
        "\n",
        "for ETF in ETF_list :\n",
        "    selected_etf = yf.Ticker(ETF)\n",
        "    etfhist = selected_etf.history(period=\"max\")\n",
        "    prices.append(etfhist['Close'].loc['2005-01-01':])"
      ],
      "execution_count": 12,
      "outputs": []
    },
    {
      "cell_type": "code",
      "metadata": {
        "id": "dK2eVI7sBepC"
      },
      "source": [
        "merged_prices = pd.DataFrame(pd.concat(prices,axis=1))\n",
        "merged_prices.columns = ETF_list"
      ],
      "execution_count": 13,
      "outputs": []
    },
    {
      "cell_type": "code",
      "metadata": {
        "id": "diQufb6XJ_RK"
      },
      "source": [
        "from pypfopt.expected_returns import mean_historical_return\n",
        "from pypfopt.risk_models import CovarianceShrinkage\n",
        "\n",
        "mu = mean_historical_return(merged_prices.loc['2008-01-01':])\n",
        "S = CovarianceShrinkage(merged_prices).ledoit_wolf()"
      ],
      "execution_count": 14,
      "outputs": []
    },
    {
      "cell_type": "code",
      "metadata": {
        "id": "adPboLWMK598"
      },
      "source": [
        "from pypfopt.efficient_frontier import EfficientFrontier\n",
        "\n",
        "ef = EfficientFrontier(mu, S)\n",
        "weights = ef.max_sharpe()"
      ],
      "execution_count": 15,
      "outputs": []
    },
    {
      "cell_type": "code",
      "metadata": {
        "id": "z7L5Ry7zK6HT",
        "colab": {
          "base_uri": "https://localhost:8080/"
        },
        "outputId": "c0c466dd-475f-4e11-8c35-e2bffaeca866"
      },
      "source": [
        "cleaned_weights = ef.clean_weights()\n",
        "cleaned_weights"
      ],
      "execution_count": 16,
      "outputs": [
        {
          "output_type": "execute_result",
          "data": {
            "text/plain": [
              "OrderedDict([('SPY', 0.0),\n",
              "             ('QQQ', 0.45749),\n",
              "             ('TLT', 0.44285),\n",
              "             ('LQD', 0.06862),\n",
              "             ('GLD', 0.03103),\n",
              "             ('DBC', 0.0)])"
            ]
          },
          "metadata": {},
          "execution_count": 16
        }
      ]
    },
    {
      "cell_type": "code",
      "metadata": {
        "colab": {
          "base_uri": "https://localhost:8080/"
        },
        "id": "yg1h9qr7CpIM",
        "outputId": "13187dcd-01a9-476d-e2e9-d7b75794111c"
      },
      "source": [
        "ef.portfolio_performance(verbose=True)"
      ],
      "execution_count": 17,
      "outputs": [
        {
          "output_type": "stream",
          "name": "stdout",
          "text": [
            "Expected annual return: 11.0%\n",
            "Annual volatility: 9.8%\n",
            "Sharpe Ratio: 0.92\n"
          ]
        },
        {
          "output_type": "execute_result",
          "data": {
            "text/plain": [
              "(0.10992870637304279, 0.09809876423572154, 0.9167159961052422)"
            ]
          },
          "metadata": {},
          "execution_count": 17
        }
      ]
    },
    {
      "cell_type": "markdown",
      "metadata": {
        "id": "Km2a-3GEDhp3"
      },
      "source": [
        "Lets use a different portfolio optimisation method, Hierarchical Risk Parity (HRP) portfolio.\n",
        "\n",
        "Risk Parity portfolio tends to overweights bonds (LQD,TLT)."
      ]
    },
    {
      "cell_type": "code",
      "metadata": {
        "id": "d8IOG6JQCpR4"
      },
      "source": [
        "from pypfopt.hierarchical_portfolio import HRPOpt"
      ],
      "execution_count": 18,
      "outputs": []
    },
    {
      "cell_type": "code",
      "metadata": {
        "id": "JyR7mdh_EapC"
      },
      "source": [
        "ef = HRPOpt(merged_prices.loc['2008-01-01':].pct_change(), S)"
      ],
      "execution_count": 19,
      "outputs": []
    },
    {
      "cell_type": "code",
      "metadata": {
        "colab": {
          "base_uri": "https://localhost:8080/"
        },
        "id": "T2s8vobPErFk",
        "outputId": "09e06492-1148-4a2d-effb-ac28642b8d03"
      },
      "source": [
        "ef.optimize()"
      ],
      "execution_count": 20,
      "outputs": [
        {
          "output_type": "execute_result",
          "data": {
            "text/plain": [
              "OrderedDict([('DBC', 0.10269893750449827),\n",
              "             ('GLD', 0.12297950895350951),\n",
              "             ('LQD', 0.4933588232885059),\n",
              "             ('QQQ', 0.04103637914080911),\n",
              "             ('SPY', 0.04770065544405054),\n",
              "             ('TLT', 0.19222569566862668)])"
            ]
          },
          "metadata": {},
          "execution_count": 20
        }
      ]
    },
    {
      "cell_type": "code",
      "metadata": {
        "colab": {
          "base_uri": "https://localhost:8080/"
        },
        "id": "7VhPDaE1E5zx",
        "outputId": "7c0015c3-c8eb-4c81-e3aa-0882574543b4"
      },
      "source": [
        "ef.portfolio_performance()"
      ],
      "execution_count": 21,
      "outputs": [
        {
          "output_type": "execute_result",
          "data": {
            "text/plain": [
              "(0.06307052789657792, 0.07661976685307859, 0.5621333719165101)"
            ]
          },
          "metadata": {},
          "execution_count": 21
        }
      ]
    },
    {
      "cell_type": "code",
      "metadata": {
        "id": "pz7UaVEnIerp"
      },
      "source": [
        ""
      ],
      "execution_count": null,
      "outputs": []
    },
    {
      "cell_type": "markdown",
      "metadata": {
        "id": "bX2wwULYGbZ7"
      },
      "source": [
        "We can also change the optimisation criteria for Efficiet Frontier to penalise downside volatility only. For long-only portfolios, it is often better to use Sortino Ratio which penalise downside volatility only. "
      ]
    },
    {
      "cell_type": "code",
      "metadata": {
        "id": "ilVnFuSiGauN"
      },
      "source": [
        "from pypfopt import expected_returns, EfficientSemivariance"
      ],
      "execution_count": 22,
      "outputs": []
    },
    {
      "cell_type": "code",
      "metadata": {
        "colab": {
          "base_uri": "https://localhost:8080/"
        },
        "id": "IycU26QcGa0X",
        "outputId": "792f7557-dbe6-463a-aec0-30f8ffb8101a"
      },
      "source": [
        "mu = expected_returns.mean_historical_return(merged_prices.loc['2008-01-01':])\n",
        "historical_returns = expected_returns.returns_from_prices(merged_prices.loc['2008-01-01':])\n",
        "\n",
        "es = EfficientSemivariance(mu, historical_returns)\n",
        "es.efficient_return(0.1)"
      ],
      "execution_count": 23,
      "outputs": [
        {
          "output_type": "execute_result",
          "data": {
            "text/plain": [
              "OrderedDict([('SPY', 1.041758562e-07),\n",
              "             ('QQQ', 0.374841807467234),\n",
              "             ('TLT', 0.3877243114830036),\n",
              "             ('LQD', 0.156792184811783),\n",
              "             ('GLD', 0.0806414107702706),\n",
              "             ('DBC', 1.810180586e-07)])"
            ]
          },
          "metadata": {},
          "execution_count": 23
        }
      ]
    },
    {
      "cell_type": "code",
      "metadata": {
        "colab": {
          "base_uri": "https://localhost:8080/"
        },
        "id": "r3TEd7LEGwJ5",
        "outputId": "255e92c8-eaaf-4a03-a7c4-05342118a397"
      },
      "source": [
        "weights = es.clean_weights()\n",
        "print(weights)\n",
        "es.portfolio_performance(verbose=True)"
      ],
      "execution_count": 24,
      "outputs": [
        {
          "output_type": "stream",
          "name": "stdout",
          "text": [
            "OrderedDict([('SPY', 0.0), ('QQQ', 0.37484), ('TLT', 0.38772), ('LQD', 0.15679), ('GLD', 0.08064), ('DBC', 0.0)])\n",
            "Expected annual return: 10.0%\n",
            "Annual semi-deviation: 6.3%\n",
            "Sortino Ratio: 1.27\n"
          ]
        },
        {
          "output_type": "execute_result",
          "data": {
            "text/plain": [
              "(0.10000006721096784, 0.0631072407333323, 1.2676844412991897)"
            ]
          },
          "metadata": {},
          "execution_count": 24
        }
      ]
    },
    {
      "cell_type": "code",
      "metadata": {
        "id": "HeddyUyOHBNa"
      },
      "source": [
        "target_portfolio = list()\n",
        "\n",
        "for target_return in [0.05,0.1,0.15]:\n",
        "    es = EfficientSemivariance(mu, historical_returns)\n",
        "    es.efficient_return(target_return)\n",
        "    weights = es.clean_weights()\n",
        "    weights['Sortino'] = es.portfolio_performance()[-1]\n",
        "    weights['Target'] = target_return\n",
        "    target_portfolio.append(weights)"
      ],
      "execution_count": 25,
      "outputs": []
    },
    {
      "cell_type": "code",
      "metadata": {
        "colab": {
          "base_uri": "https://localhost:8080/",
          "height": 143
        },
        "id": "FPUTMBDIHnnm",
        "outputId": "a9b20038-cb27-4ccc-f0f4-1d2a2b28ebc7"
      },
      "source": [
        "pd.DataFrame(target_portfolio)"
      ],
      "execution_count": 26,
      "outputs": [
        {
          "output_type": "execute_result",
          "data": {
            "text/html": [
              "<div>\n",
              "<style scoped>\n",
              "    .dataframe tbody tr th:only-of-type {\n",
              "        vertical-align: middle;\n",
              "    }\n",
              "\n",
              "    .dataframe tbody tr th {\n",
              "        vertical-align: top;\n",
              "    }\n",
              "\n",
              "    .dataframe thead th {\n",
              "        text-align: right;\n",
              "    }\n",
              "</style>\n",
              "<table border=\"1\" class=\"dataframe\">\n",
              "  <thead>\n",
              "    <tr style=\"text-align: right;\">\n",
              "      <th></th>\n",
              "      <th>SPY</th>\n",
              "      <th>QQQ</th>\n",
              "      <th>TLT</th>\n",
              "      <th>LQD</th>\n",
              "      <th>GLD</th>\n",
              "      <th>DBC</th>\n",
              "      <th>Sortino</th>\n",
              "      <th>Target</th>\n",
              "    </tr>\n",
              "  </thead>\n",
              "  <tbody>\n",
              "    <tr>\n",
              "      <th>0</th>\n",
              "      <td>0.06609</td>\n",
              "      <td>0.08094</td>\n",
              "      <td>0.24623</td>\n",
              "      <td>0.43511</td>\n",
              "      <td>0.09361</td>\n",
              "      <td>0.07801</td>\n",
              "      <td>0.806701</td>\n",
              "      <td>0.05</td>\n",
              "    </tr>\n",
              "    <tr>\n",
              "      <th>1</th>\n",
              "      <td>0.00000</td>\n",
              "      <td>0.37484</td>\n",
              "      <td>0.38772</td>\n",
              "      <td>0.15679</td>\n",
              "      <td>0.08064</td>\n",
              "      <td>0.00000</td>\n",
              "      <td>1.267684</td>\n",
              "      <td>0.10</td>\n",
              "    </tr>\n",
              "    <tr>\n",
              "      <th>2</th>\n",
              "      <td>0.00000</td>\n",
              "      <td>0.82790</td>\n",
              "      <td>0.17209</td>\n",
              "      <td>0.00000</td>\n",
              "      <td>0.00000</td>\n",
              "      <td>0.00000</td>\n",
              "      <td>1.059828</td>\n",
              "      <td>0.15</td>\n",
              "    </tr>\n",
              "  </tbody>\n",
              "</table>\n",
              "</div>"
            ],
            "text/plain": [
              "       SPY      QQQ      TLT      LQD      GLD      DBC   Sortino  Target\n",
              "0  0.06609  0.08094  0.24623  0.43511  0.09361  0.07801  0.806701    0.05\n",
              "1  0.00000  0.37484  0.38772  0.15679  0.08064  0.00000  1.267684    0.10\n",
              "2  0.00000  0.82790  0.17209  0.00000  0.00000  0.00000  1.059828    0.15"
            ]
          },
          "metadata": {},
          "execution_count": 26
        }
      ]
    },
    {
      "cell_type": "markdown",
      "metadata": {
        "id": "CSaM1P4-LEDh"
      },
      "source": [
        "There are other portfolio optimisation methods such as Black-Litterman which can incoporate our guess on portfolio returns "
      ]
    },
    {
      "cell_type": "markdown",
      "metadata": {
        "id": "TjVGl7Kd3kxY"
      },
      "source": [
        "\n",
        "#### Volatility Scaling is what you need for portfolio optimisation\n",
        "\n",
        "We will demonstrate a very simple but effective way to construct portfolio which can be applied to individual assets and strategies. \n",
        "\n",
        "We decide a lookback period (252 days) to calculate the rolling volatility of each asset. For a given risk level (15% p.a.), we scale the position we will take for each asset so that we will have equal risk in each asset, before taking into account of correlation between strategies.\n",
        "\n",
        "We then take the simple average over these strategies to form our portfolio. \n",
        "\n",
        "We can then calculate the overall volatility of the portfolio, which will be lower than the given risk level due to negative correlation between strategies. We can then leverage the whole portfolio to the target risk level. \n",
        "\n",
        "While this method is different from risk parity, as it does not explicitly consider the correlation between assets. The two-step optimisation process is more robust than risk parity when correlation structure between stratgies/assets changes. \n"
      ]
    },
    {
      "cell_type": "code",
      "metadata": {
        "id": "d8hqD7d5LPyI"
      },
      "source": [
        "merged_returns = merged_prices.pct_change().dropna()\n",
        "merged_std = merged_returns.rolling(252).std() * np.sqrt(252)"
      ],
      "execution_count": 27,
      "outputs": []
    },
    {
      "cell_type": "code",
      "metadata": {
        "id": "789QBJbq2eOM"
      },
      "source": [
        "merged_pos = 0.2 / merged_std "
      ],
      "execution_count": 28,
      "outputs": []
    },
    {
      "cell_type": "code",
      "metadata": {
        "id": "IEVFqD7Z2eRV"
      },
      "source": [
        "merged_portfolio = merged_pos * merged_returns"
      ],
      "execution_count": 29,
      "outputs": []
    },
    {
      "cell_type": "code",
      "metadata": {
        "id": "WRM6BNOP2eUr"
      },
      "source": [
        "portfolio = (1 + np.mean(merged_portfolio.loc['2008-01-01':,],axis=1)).cumprod()"
      ],
      "execution_count": 30,
      "outputs": []
    },
    {
      "cell_type": "code",
      "metadata": {
        "colab": {
          "base_uri": "https://localhost:8080/",
          "height": 287
        },
        "id": "o1dKFWNn31Yp",
        "outputId": "c398288b-537a-4444-b134-1d992af23b2c"
      },
      "source": [
        "portfolio.plot()"
      ],
      "execution_count": 31,
      "outputs": [
        {
          "output_type": "execute_result",
          "data": {
            "text/plain": [
              "<matplotlib.axes._subplots.AxesSubplot at 0x7f643f75f410>"
            ]
          },
          "metadata": {},
          "execution_count": 31
        },
        {
          "output_type": "display_data",
          "data": {
            "image/png": "[encoded data removed]",
            "text/plain": [
              "<Figure size 432x288 with 1 Axes>"
            ]
          },
          "metadata": {
            "needs_background": "light"
          }
        }
      ]
    },
    {
      "cell_type": "code",
      "metadata": {
        "id": "z56IfjYt4EaP"
      },
      "source": [
        "average_return = np.mean(merged_portfolio.loc['2008-01-01':,],axis=1)"
      ],
      "execution_count": 32,
      "outputs": []
    },
    {
      "cell_type": "code",
      "metadata": {
        "colab": {
          "base_uri": "https://localhost:8080/"
        },
        "id": "xXEyzr1-4EdH",
        "outputId": "8e79d0ed-8023-498e-b26d-0e8c237cf33f"
      },
      "source": [
        "average_return.mean() / average_return.std() * np.sqrt(252)"
      ],
      "execution_count": 33,
      "outputs": [
        {
          "output_type": "execute_result",
          "data": {
            "text/plain": [
              "0.9874273544763087"
            ]
          },
          "metadata": {},
          "execution_count": 33
        }
      ]
    },
    {
      "cell_type": "code",
      "metadata": {
        "colab": {
          "base_uri": "https://localhost:8080/"
        },
        "id": "Uvaf_zW66VK9",
        "outputId": "856a5b5e-9c5f-484c-eb25-0d2e7361a39c"
      },
      "source": [
        "average_return.mean() * 252, average_return.std() * np.sqrt(252)"
      ],
      "execution_count": 34,
      "outputs": [
        {
          "output_type": "execute_result",
          "data": {
            "text/plain": [
              "(0.10939505127285938, 0.11078794888245534)"
            ]
          },
          "metadata": {},
          "execution_count": 34
        }
      ]
    },
    {
      "cell_type": "code",
      "metadata": {
        "colab": {
          "base_uri": "https://localhost:8080/",
          "height": 287
        },
        "id": "9R4KgYdU60cr",
        "outputId": "5093c018-ffa2-4dc8-d4c5-20f0907add6a"
      },
      "source": [
        "merged_pos.dropna().plot()"
      ],
      "execution_count": 35,
      "outputs": [
        {
          "output_type": "execute_result",
          "data": {
            "text/plain": [
              "<matplotlib.axes._subplots.AxesSubplot at 0x7f643f68e710>"
            ]
          },
          "metadata": {},
          "execution_count": 35
        },
        {
          "output_type": "display_data",
          "data": {
            "image/png": "[encoded data removed]",
            "text/plain": [
              "<Figure size 432x288 with 1 Axes>"
            ]
          },
          "metadata": {
            "needs_background": "light"
          }
        }
      ]
    },
    {
      "cell_type": "markdown",
      "metadata": {
        "id": "g0AJgaET4S9w"
      },
      "source": [
        "The sharpe ratio we obtained is better than the one we obtained by Mean-Variance optimisation and other optimisation methods. Our method is also more robust as it is based on simple rules. Some portfolio optimisation methods might fail to converge due to solving a non-convex problem. \n",
        "\n",
        "It is also better than the traditional 60/40 portfolio.\n",
        "\n",
        "Taking a simple average of vol-scaled strategies can outperform more sophiscated portfolio optimisation methods unless one has a good understanding on the correlation structure of the strategies.\n",
        "\n",
        "As above, we assume we can take leverage without incurring additional costs. For our example, we assume we can leverage on US Investment Crop Bonds (LQD) up to 5x, which is unlikely for retail to achieve. \n",
        "\n",
        "\n",
        "\n",
        "\n",
        "\n"
      ]
    },
    {
      "cell_type": "markdown",
      "metadata": {
        "id": "3qiGkuL1rMLQ"
      },
      "source": [
        "### Recent methods in portfolio optimisation \n",
        "\n",
        "The ETF we considered above are the building blocks of the global financial market. We have not included crypto due to its lack of history. \n",
        "\n",
        "Pensions funds often diversify into real estates and private equity and other illuquid assets. We will not offer an in-depth discussion here. \n",
        "\n",
        "Since the financial crisis, due to high fees and under-performance compared to the market, pensions funds are limiting their allocation to hedge funds. There are many hedge fund strategies, some requires sophicated market knowledge such as Merger Arbitrage and Credit Funds so we will not consider these here. \n",
        "\n",
        "In the following tutorials we will focus on CTA funds and long-short equity funds. As the turnover period of these strategies are often measured in days/months, it is still possible for retail to implement a crude version of these strategies, through the use of different ETFs, which we will demonstarte below. \n",
        "\n",
        "\n",
        "Many market-neutral equity funds to employ machine learning methods to build strategies and models. The data required to build a market-neutral and factor neutral fund is often not accessible to retail investors. Numerai allows retail traders to build their own market-neutral equity strategies with all the data and infrastructure provided. \n",
        "\n",
        "\n",
        "While the strategies themselves can be based on both momentum and mean-reversion, machine learning models works well when correlation is stationary. When there are shocks in the market, machine learning models in general will perform poorly. We suggest during market stress, trend following and other long volatility strategies would act as a good diversifier for machine learning based strategies. \n",
        "\n",
        "\n",
        "In the later lectures, we will explore how to include long volatility strategies as part of the portfolio to achieve long term growth. These ideas are suggested by Christopher Cole (Artemis Capital Management) and Mutiny Funds. Most of the time these strategies are only available for professional investors.\n",
        "\n",
        "\n",
        "\n",
        "An example allocation for retail investors \n",
        "\n",
        "- 50% Equity Index Fund\n",
        "- 15% Commodities/ETF Trend Following \n",
        "- 15% Machine-Learning based Market Neutral Fund (Numerai)\n",
        "- 20% Defensive Assets (Cash/Government Bonds/Gold)\n",
        "\n"
      ]
    },
    {
      "cell_type": "markdown",
      "metadata": {
        "id": "FNF3Vf_olt6f"
      },
      "source": [
        "## Recommended Readings \n",
        "\n",
        "\n",
        "- The Allegory of the Hawk and Serpent https://www.artemiscm.com/research-market-views\n",
        "- The Cockroach Fund https://mutinyfund.com/cockroach/  \n",
        "- Numerai https://numer.ai/\n"
      ]
    },
    {
      "cell_type": "markdown",
      "metadata": {
        "id": "cF2bLxKLKmH9"
      },
      "source": [
        "## Lecture 4 Technical Analysis\n",
        "\n",
        "Technical analysis refers to the use of price data to predict future returns.\n",
        "\n",
        "Under efficient Market Theory Hypothesis, it is impossible to use technical analysis to outperform the market. However, systematic trend following has achieved outsizing returns during 1980s. \n",
        "\n",
        "In factor models (to be introduced in Lecture 5), we often consider style factors which refers to selecting assets based on certain known price and fundamentals based attributes. \n",
        "\n",
        "For price-based style factors, mean-reversion and momentum are often considered. \n",
        "\n",
        "Mean-reversion relies on the assumption that market over-reacts on news and shocks. Therefore, it is portfitable to buy the underperformers and sell them after they recover. \n",
        "\n",
        "\n",
        "Mean-reversion can generate alpha because they often take on liquidity risk (Example: Buying EM credit after some geo-political events). \n",
        "Another reason is due to positioning effect, liquidations of hedge funds can often result in high quality assets being sold at a discount. Mean-reversion take advantage of the temporary imbalance of order flow. \n",
        "Another example would be retail traders being forced out as stop losses are hit. \n",
        "\n",
        "The mantra of buy-the-dip is a form of mean-reversion which is implicitly supported by the FED. \n",
        "\n",
        "Momentum can generate profits because of investor's herding behaviour. Market participants have a tendency to chase winners, such as Tesla. For stocks that have an important weight in the index, a positive reinforcement loop can result as the stock price increases, its weighting increases, resulting a buying demand from passive investing funds. \n",
        "\n",
        "Momentum can also be consider as a way of avoiding losers. When share price drops continuously, it is often the case where the company or the industry is getting out of favour (Example: High-Street retail). A downward spiral will result as the financial conditions will get worse (Bonds will get downgraded when company cannot make a profit for a few years), which makes recovery even more difficult. \n",
        "\n",
        "\n",
        "For stocks, we often consider cross-sectional momentum, where we buy stocks that have best performance in the last year and sell stocks that have the worst performance in the last year. We can also rank momentum within each sector and industry to eliminate market risk. \n",
        "\n",
        "\n",
        "\n",
        "\n",
        "\n",
        "\n",
        "\n",
        "\n",
        "\n",
        "\n",
        "\n"
      ]
    },
    {
      "cell_type": "markdown",
      "metadata": {
        "id": "w-pf0it8aVGW"
      },
      "source": [
        "### Moving Averages Crossover \n",
        "\n",
        "We will use Moving Averages Crossover, which is a very simple trend following strategy.\n",
        "\n",
        "The stratgy requires the input of two parameters. A short term lookback and long term lookback. We compute the moving average of price based on these two lookback periods. We long the asset when the short-term MA is greater than the long-term MA and short the asset when the short-term MA fallers below the long-term MA. \n",
        "\n",
        "How to make a robust trend following strategy\n",
        "- Increase the number of assets traded\n",
        "- Use different lookback periods to capture both short and long term trends\n",
        "- Use different entry and exit rules\n",
        "- Scale asset returns by volatility if leverage can be used\n",
        "- Consider to be long-only as it is more difficult to profit from down trends, especially for equities. \n"
      ]
    },
    {
      "cell_type": "code",
      "metadata": {
        "id": "G9stvpxAK7NQ"
      },
      "source": [
        "import pandas as pd"
      ],
      "execution_count": 36,
      "outputs": []
    },
    {
      "cell_type": "code",
      "metadata": {
        "id": "GXDQR_XmKmax"
      },
      "source": [
        "prices = list()\n",
        "\n",
        "ETF_list = ['SPY','TLT','GLD','SLV','DBC','UUP']\n",
        "\n",
        "for ETF in ETF_list :\n",
        "    selected_etf = yf.Ticker(ETF)\n",
        "    etfhist = selected_etf.history(period=\"max\")\n",
        "    etfhist['Return'] = etfhist['Open'].pct_change()\n",
        "    prices.append(etfhist['Return'])"
      ],
      "execution_count": 37,
      "outputs": []
    },
    {
      "cell_type": "code",
      "metadata": {
        "id": "kIdrVIv7KmkZ"
      },
      "source": [
        "merged_prices = pd.DataFrame(pd.concat(prices,axis=1)).dropna()\n",
        "merged_prices.columns = ETF_list"
      ],
      "execution_count": 38,
      "outputs": []
    },
    {
      "cell_type": "code",
      "metadata": {
        "id": "o_jQXjwpuGdU"
      },
      "source": [
        "def Moving_Average(merged_prices,ticker='DBC',fast=5,slow=50,long_only=True,):\n",
        "  stock = pd.DataFrame(merged_prices[ticker])\n",
        "  stock['Shifted_Return'] = stock[ticker].shift(-1)\n",
        "  stock['Price'] = (1+stock[ticker]).cumprod()\n",
        "  stock['MA_{}'.format(fast)] = stock['Price'].rolling(fast).mean()\n",
        "  stock['MA_{}'.format(slow)] = stock['Price'].rolling(slow).mean()\n",
        "  if long_only:\n",
        "    stock['Portfolio_return'] = np.where(stock['MA_{}'.format(slow)]<stock['MA_{}'.format(fast)],1,0) * stock['Shifted_Return']\n",
        "  else:\n",
        "    stock['Portfolio_return'] = np.where(stock['MA_{}'.format(slow)]<stock['MA_{}'.format(fast)],1,-1) * stock['Shifted_Return']   \n",
        "  return stock"
      ],
      "execution_count": 39,
      "outputs": []
    },
    {
      "cell_type": "markdown",
      "metadata": {
        "id": "HGMGJ3RysCBM"
      },
      "source": [
        "Example of trend following strategies applied on Commodity ETF (DBC)\n",
        "\n",
        "Trend Following improves significantly the sharpe ratio compared to buy-and-hold. "
      ]
    },
    {
      "cell_type": "code",
      "metadata": {
        "id": "eyZdXN_YK5s4"
      },
      "source": [
        "stock = Moving_Average(merged_prices,ticker='DBC',fast=5,slow=50,long_only=False)"
      ],
      "execution_count": 40,
      "outputs": []
    },
    {
      "cell_type": "code",
      "metadata": {
        "colab": {
          "base_uri": "https://localhost:8080/"
        },
        "id": "zcHj6HI2K0CU",
        "outputId": "8b587f97-4789-41b5-cdeb-b6c6144b78f0"
      },
      "source": [
        "stock['Portfolio_return'].loc['2005-01-01':].mean() / stock['Portfolio_return'].loc['2005-01-01':].std() * np.sqrt(252)"
      ],
      "execution_count": 41,
      "outputs": [
        {
          "output_type": "execute_result",
          "data": {
            "text/plain": [
              "0.6455891354612034"
            ]
          },
          "metadata": {},
          "execution_count": 41
        }
      ]
    },
    {
      "cell_type": "code",
      "metadata": {
        "colab": {
          "base_uri": "https://localhost:8080/"
        },
        "id": "8dMDEpEeb17p",
        "outputId": "09be679d-d51a-4725-aee2-5460036dd596"
      },
      "source": [
        "stock['Shifted_Return'].loc['2005-01-01':].mean() / stock['Shifted_Return'].loc['2005-01-01':].std() * np.sqrt(252)"
      ],
      "execution_count": 42,
      "outputs": [
        {
          "output_type": "execute_result",
          "data": {
            "text/plain": [
              "0.071110357083655"
            ]
          },
          "metadata": {},
          "execution_count": 42
        }
      ]
    },
    {
      "cell_type": "code",
      "metadata": {
        "colab": {
          "base_uri": "https://localhost:8080/",
          "height": 287
        },
        "id": "FH9YgINxp832",
        "outputId": "cd437a9a-97af-43ad-a460-eb42fae185e8"
      },
      "source": [
        "(1+stock['Portfolio_return'].loc['2005-01-01':]).cumprod().plot()"
      ],
      "execution_count": 43,
      "outputs": [
        {
          "output_type": "execute_result",
          "data": {
            "text/plain": [
              "<matplotlib.axes._subplots.AxesSubplot at 0x7f643f68ea10>"
            ]
          },
          "metadata": {},
          "execution_count": 43
        },
        {
          "output_type": "display_data",
          "data": {
            "image/png": "[encoded data removed]",
            "text/plain": [
              "<Figure size 432x288 with 1 Axes>"
            ]
          },
          "metadata": {
            "needs_background": "light"
          }
        }
      ]
    },
    {
      "cell_type": "code",
      "metadata": {
        "id": "tB7gwP3SxQUV",
        "colab": {
          "base_uri": "https://localhost:8080/"
        },
        "outputId": "fd981133-2a39-4f0d-f119-5fbf60537c1f"
      },
      "source": [
        "stock['Portfolio_return'].loc['2005-01-01':].describe()"
      ],
      "execution_count": null,
      "outputs": [
        {
          "output_type": "execute_result",
          "data": {
            "text/plain": [
              "count    3688.000000\n",
              "mean        0.000512\n",
              "std         0.012500\n",
              "min        -0.071038\n",
              "25%        -0.006050\n",
              "50%         0.000616\n",
              "75%         0.006976\n",
              "max         0.095899\n",
              "Name: Portfolio_return, dtype: float64"
            ]
          },
          "metadata": {},
          "execution_count": 26
        }
      ]
    },
    {
      "cell_type": "code",
      "metadata": {
        "colab": {
          "base_uri": "https://localhost:8080/"
        },
        "id": "TvM3vPSdpnvX",
        "outputId": "bedbf518-83d3-4244-b41c-15504a9db933"
      },
      "source": [
        "stock['Portfolio_return'].loc['2005-01-01':].skew()"
      ],
      "execution_count": null,
      "outputs": [
        {
          "output_type": "execute_result",
          "data": {
            "text/plain": [
              "0.17922674648426398"
            ]
          },
          "metadata": {},
          "execution_count": 27
        }
      ]
    },
    {
      "cell_type": "code",
      "metadata": {
        "colab": {
          "base_uri": "https://localhost:8080/",
          "height": 287
        },
        "id": "k6WFSvE_pnzn",
        "outputId": "a76af3fe-262a-4ac7-ec66-6fad7b89e319"
      },
      "source": [
        "(1+stock['Shifted_Return'].loc['2005-01-01':]).cumprod().plot()"
      ],
      "execution_count": null,
      "outputs": [
        {
          "output_type": "execute_result",
          "data": {
            "text/plain": [
              "<matplotlib.axes._subplots.AxesSubplot at 0x7f984a5a2c90>"
            ]
          },
          "metadata": {},
          "execution_count": 28
        },
        {
          "output_type": "display_data",
          "data": {
            "image/png": "[encoded data removed]",
            "text/plain": [
              "<Figure size 432x288 with 1 Axes>"
            ]
          },
          "metadata": {
            "needs_background": "light"
          }
        }
      ]
    },
    {
      "cell_type": "code",
      "metadata": {
        "colab": {
          "base_uri": "https://localhost:8080/"
        },
        "id": "_VMqUQo7pvIQ",
        "outputId": "81efbef6-0ebd-4dfc-b53c-f3e8442aeefb"
      },
      "source": [
        "stock['Shifted_Return'].loc['2015-01-01':].skew()"
      ],
      "execution_count": null,
      "outputs": [
        {
          "output_type": "execute_result",
          "data": {
            "text/plain": [
              "-0.6394880636658302"
            ]
          },
          "metadata": {},
          "execution_count": 29
        }
      ]
    },
    {
      "cell_type": "code",
      "metadata": {
        "id": "1cpkUeUVySzm",
        "colab": {
          "base_uri": "https://localhost:8080/"
        },
        "outputId": "6f2422f7-311c-4d6b-d397-ae9d8be9b3e9"
      },
      "source": [
        "stock['Shifted_Return'].loc['2005-01-01':].describe()"
      ],
      "execution_count": null,
      "outputs": [
        {
          "output_type": "execute_result",
          "data": {
            "text/plain": [
              "count    3688.000000\n",
              "mean        0.000059\n",
              "std         0.012510\n",
              "min        -0.095899\n",
              "25%        -0.006291\n",
              "50%         0.000520\n",
              "75%         0.006699\n",
              "max         0.073128\n",
              "Name: Shifted_Return, dtype: float64"
            ]
          },
          "metadata": {},
          "execution_count": 30
        }
      ]
    },
    {
      "cell_type": "markdown",
      "metadata": {
        "id": "r9gQ91jzsKrp"
      },
      "source": [
        "### Statistical property of trend following strategy\n",
        "\n",
        "Compare the distribution of daily returns of the underlying asset and the trend following version, we conclude trend following improves the skewness of the strategy. \n",
        "\n",
        "We then compute the rolling 1 year return of both the underlying asset and the trend following strategy. The scatterplot shows a payoff similar to a long straddle. This is why trend following can be considered as a long volatility strategy. \n",
        "\n",
        "\n"
      ]
    },
    {
      "cell_type": "code",
      "metadata": {
        "colab": {
          "base_uri": "https://localhost:8080/",
          "height": 352
        },
        "id": "S84AJ4sesw1H",
        "outputId": "a144ef9f-b84b-4144-9ed0-f0cad5c54592"
      },
      "source": [
        "import seaborn as sns\n",
        "sns.scatterplot(stock['Shifted_Return'].rolling(252).mean() * 252,stock['Portfolio_return'].rolling(252).mean()* 252)"
      ],
      "execution_count": 44,
      "outputs": [
        {
          "output_type": "stream",
          "name": "stderr",
          "text": [
            "/usr/local/lib/python3.7/dist-packages/seaborn/_decorators.py:43: FutureWarning: Pass the following variables as keyword args: x, y. From version 0.12, the only valid positional argument will be `data`, and passing other arguments without an explicit keyword will result in an error or misinterpretation.\n",
            "  FutureWarning\n"
          ]
        },
        {
          "output_type": "execute_result",
          "data": {
            "text/plain": [
              "<matplotlib.axes._subplots.AxesSubplot at 0x7f643f3b9890>"
            ]
          },
          "metadata": {},
          "execution_count": 44
        },
        {
          "output_type": "display_data",
          "data": {
            "image/png": "[encoded data removed]",
            "text/plain": [
              "<Figure size 432x288 with 1 Axes>"
            ]
          },
          "metadata": {
            "needs_background": "light"
          }
        }
      ]
    },
    {
      "cell_type": "code",
      "metadata": {
        "id": "3rTWj1DztGS5"
      },
      "source": [
        ""
      ],
      "execution_count": null,
      "outputs": []
    },
    {
      "cell_type": "markdown",
      "metadata": {
        "id": "Rs8pDzHbCsFa"
      },
      "source": [
        "### Some reasons why technical analysis works \n",
        "\n",
        "Technical analysis are often used by retail and professionals in making trade decisions. Due to positioning of market participants, a self-reinforeced feedback loop is created when price follows a certain pattern.\n",
        "\n",
        "Here, we argue positioning, rather than psychology is the main driver of success for technical analysis. While it is important to analyse market sentiment, from the vast amount of news and social media data generated, sentiment only has an impact on the price after someone decides to take a trade follow/against it. \n",
        "\n",
        "\n",
        "Not all kinds of technical analysis are equally useful, candlestick patterns or some really fancy indicators would not be relevant. \n",
        "\n",
        "Widely used indicators for trends and mean-reversion would have predictive value due to their use in both strategy and risk management process. For example, market participants will often reduce position size of a long position when prices fall below 200 day moving averages. \n",
        "\n",
        "\n",
        "\n",
        "\n",
        "Recommendations from Krishnan (Krishnan 2021)\n",
        "- Take key support and resistance levels seriously, but verify where they are on your own\n",
        "- Build your own trend following, volatility control and risk parity models. Calibrate them to track the performance of individual\n",
        "funds or benchmark indices. Pay particular attention to levels where the model signal changes from BUY to SELL, or vice versa. These are your key levels.\n",
        "- Check the options markets in the assets you trade for large open interest at specific strikes. Infer whether dealers are likely to be long or short. When dealers are short, expect volatility expansion in a wide range around the strike.\n",
        "\n",
        "\n",
        "\n",
        "\n",
        "\n",
        "\n",
        "\n"
      ]
    },
    {
      "cell_type": "markdown",
      "metadata": {
        "id": "Pe3Ow4H8-B6Q"
      },
      "source": [
        "#### How to obtain data for market positioning \n",
        "\n",
        "For Commodities Futures, Trading Commission Reports would be a useful indicator for long term price movements as it provides an overview of how hedge funds and other market participants trade at a lag. \n",
        "https://data.nasdaq.com/data/CFTC-commodity-futures-trading-commission-reports \n",
        "\n",
        "For stocks that can be shorted and has options, short interest, borrowing rate and put-call ratios can be used. These data can often be obtained with little lag compared to other regulatory filings. There is also a concept of Gamma Exposure Index (GEX) which aims to the hedging activity of option market-makers based on the current stock price.\n",
        "\n",
        "\n",
        "Insiders and hedge funds with significant holdings need to disclose when they enter trades for stocks. Hedge funds are also required to their holdings each quarter. For US stocks, SEC filings (SEC Form 4, 13F Filings) provided the required data.  \n",
        "\n",
        "There are academic papers suggesting following insiders and hedge funds can generate excess return. In particular, we can extend the definition of insiders to politicians who often has private information and the power to change economic policies. \n",
        "\n",
        "\n"
      ]
    },
    {
      "cell_type": "markdown",
      "metadata": {
        "id": "S1E7CYVgkey9"
      },
      "source": [
        "## Recommended Reading\n",
        "\n",
        "- Market Tremors: Quantifying Structural Risks in Modern Financial Markets (Ash Bennington and Hari P. Krishnan 2021)\n",
        "- Understanding the Momentum Risk Premium: An In-Depth Journey Through\n",
        "Trend-Following Strategies\u0003 https://papers.ssrn.com/sol3/papers.cfm?abstract_id=3042173\n"
      ]
    }
  ]
}