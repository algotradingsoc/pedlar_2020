{
  "nbformat": 4,
  "nbformat_minor": 0,
  "metadata": {
    "colab": {
      "name": "Algosoc_2021_Ch1.ipynb",
      "provenance": []
    },
    "kernelspec": {
      "name": "python3",
      "display_name": "Python 3"
    },
    "language_info": {
      "name": "python"
    }
  },
  "cells": [
    {
      "cell_type": "markdown",
      "metadata": {
        "id": "K5aaXiDnzGkL"
      },
      "source": [
        "## Welcome to Algosoc, the soceity for algorithmic trading and quantitative finance at Imperial"
      ]
    },
    {
      "cell_type": "markdown",
      "metadata": {
        "id": "tK0w4PWD0kpY"
      },
      "source": [
        "### Who are we\n",
        "\n",
        "We are founded in March 2018 with the aim to provide education and networking opportunities for students interested in algorithmic trading and quantitative finance. In 2018 and 2019 we organise the Algothon with Blackrock which is the flagship event of our soceity. Algothon 2020 was cancelled this year due to covid-19. Algothon 2021 was held online with Aspect Capital. \n",
        "\n",
        "http://www.algosoc.com/"
      ]
    },
    {
      "cell_type": "markdown",
      "metadata": {
        "id": "IAcS0Ia20ktI"
      },
      "source": [
        "#### Lecture 1: Understanding financial data"
      ]
    },
    {
      "cell_type": "markdown",
      "metadata": {
        "id": "G63BgwxK0kw4"
      },
      "source": [
        "#### Price data\n",
        "\n",
        "\n",
        "The most basic data to be dealt with in quantitative finance is price data, which represent how much a financial asset is worth at a given time. Traditionally (1990s), time series models such as ARIMA model are used widely in trading to capture trends in the market. Recently, the focus has moved to using deep learning models such as LSTM and CNN to learn more complicated behaviour.\n",
        "\n",
        "https://reference.wolfram.com/language/ref/ARIMAProcess.html https://www.tensorflow.org/api_docs/python/tf/keras/layers/LSTM\n",
        "\n",
        "Price data is determined by two charactereistics, frequency of data and types of data. Frequency of data can ranged from microseconds data (tick level) to end-of-date data (daily resolution). We will focus on data that have a minute resoluion or above. Major types of data include bar data, trade data and quote data.\n",
        "\n",
        "In an exchange, quote data (Orderbook) is displayed for a stock in real time which has the bid and ask price (with size) submitted by different market participants. A trade is made if someone is willing the buy the security at the ask price (or sell the security at the bid price). Bar data is then aggregrated using the trade price and volume over an interval, which usually is a minute, an hour and a day.\n",
        "\n",
        "https://iextrading.com/apps/tops/\n",
        "\n",
        "In this notebook, we will illustrate various basic concepts in finance using the most famous ETF, SPDR S&P 500 (SPY) which keep tracks of the most important stock market index S&P 500 in the world. This ETF invest in the 500 biggest stocks listed in the US, weighted by market-cap. "
      ]
    },
    {
      "cell_type": "code",
      "metadata": {
        "id": "sOv7aiU4y5LD",
        "colab": {
          "base_uri": "https://localhost:8080/"
        },
        "outputId": "ac4691e4-2f85-4afe-980a-32709277a311"
      },
      "source": [
        "! pip install yfinance"
      ],
      "execution_count": 1,
      "outputs": [
        {
          "output_type": "stream",
          "name": "stdout",
          "text": [
            "Collecting yfinance\n",
            "  Downloading yfinance-0.1.63.tar.gz (26 kB)\n",
            "Requirement already satisfied: pandas>=0.24 in /usr/local/lib/python3.7/dist-packages (from yfinance) (1.1.5)\n",
            "Requirement already satisfied: numpy>=1.15 in /usr/local/lib/python3.7/dist-packages (from yfinance) (1.19.5)\n",
            "Requirement already satisfied: requests>=2.20 in /usr/local/lib/python3.7/dist-packages (from yfinance) (2.23.0)\n",
            "Requirement already satisfied: multitasking>=0.0.7 in /usr/local/lib/python3.7/dist-packages (from yfinance) (0.0.9)\n",
            "Collecting lxml>=4.5.1\n",
            "  Downloading lxml-4.6.3-cp37-cp37m-manylinux2014_x86_64.whl (6.3 MB)\n",
            "\u001b[K     |████████████████████████████████| 6.3 MB 7.9 MB/s \n",
            "\u001b[?25hRequirement already satisfied: python-dateutil>=2.7.3 in /usr/local/lib/python3.7/dist-packages (from pandas>=0.24->yfinance) (2.8.2)\n",
            "Requirement already satisfied: pytz>=2017.2 in /usr/local/lib/python3.7/dist-packages (from pandas>=0.24->yfinance) (2018.9)\n",
            "Requirement already satisfied: six>=1.5 in /usr/local/lib/python3.7/dist-packages (from python-dateutil>=2.7.3->pandas>=0.24->yfinance) (1.15.0)\n",
            "Requirement already satisfied: chardet<4,>=3.0.2 in /usr/local/lib/python3.7/dist-packages (from requests>=2.20->yfinance) (3.0.4)\n",
            "Requirement already satisfied: certifi>=2017.4.17 in /usr/local/lib/python3.7/dist-packages (from requests>=2.20->yfinance) (2021.5.30)\n",
            "Requirement already satisfied: urllib3!=1.25.0,!=1.25.1,<1.26,>=1.21.1 in /usr/local/lib/python3.7/dist-packages (from requests>=2.20->yfinance) (1.24.3)\n",
            "Requirement already satisfied: idna<3,>=2.5 in /usr/local/lib/python3.7/dist-packages (from requests>=2.20->yfinance) (2.10)\n",
            "Building wheels for collected packages: yfinance\n",
            "  Building wheel for yfinance (setup.py) ... \u001b[?25l\u001b[?25hdone\n",
            "  Created wheel for yfinance: filename=yfinance-0.1.63-py2.py3-none-any.whl size=23918 sha256=439cea95ff5dc944e35c1365608c7ddb3eff37c1288424119b365ef00c8303f1\n",
            "  Stored in directory: /root/.cache/pip/wheels/fe/87/8b/7ec24486e001d3926537f5f7801f57a74d181be25b11157983\n",
            "Successfully built yfinance\n",
            "Installing collected packages: lxml, yfinance\n",
            "  Attempting uninstall: lxml\n",
            "    Found existing installation: lxml 4.2.6\n",
            "    Uninstalling lxml-4.2.6:\n",
            "      Successfully uninstalled lxml-4.2.6\n",
            "Successfully installed lxml-4.6.3 yfinance-0.1.63\n"
          ]
        }
      ]
    },
    {
      "cell_type": "code",
      "metadata": {
        "id": "VL69y-2E08ei"
      },
      "source": [
        "import yfinance as yf\n",
        "import numpy as np\n",
        "import pandas as pd"
      ],
      "execution_count": 8,
      "outputs": []
    },
    {
      "cell_type": "code",
      "metadata": {
        "id": "UGIWsMQn08hm"
      },
      "source": [
        "selected_etf = yf.Ticker(\"SPY\")\n",
        "hist = selected_etf.history(period=\"max\")"
      ],
      "execution_count": 4,
      "outputs": []
    },
    {
      "cell_type": "markdown",
      "metadata": {
        "id": "bjLMiCcl2RgQ"
      },
      "source": [
        "A typical bar data would include Open, High, Low, Close and Volume within a time period, which is a trading day in the following example. As stocks can pay dividend and have splits, we usually use adjusted price to perform statistical analysis. From the adjusted price, we can derive the total return of the stock (which is the sum of price return and dividends, reinvested). \n",
        "\n"
      ]
    },
    {
      "cell_type": "code",
      "metadata": {
        "colab": {
          "base_uri": "https://localhost:8080/",
          "height": 237
        },
        "id": "PFnk5yDnzRnA",
        "outputId": "23442939-1e17-435a-adaa-041b7e330f14"
      },
      "source": [
        "hist.tail()"
      ],
      "execution_count": 6,
      "outputs": [
        {
          "output_type": "execute_result",
          "data": {
            "text/html": [
              "<div>\n",
              "<style scoped>\n",
              "    .dataframe tbody tr th:only-of-type {\n",
              "        vertical-align: middle;\n",
              "    }\n",
              "\n",
              "    .dataframe tbody tr th {\n",
              "        vertical-align: top;\n",
              "    }\n",
              "\n",
              "    .dataframe thead th {\n",
              "        text-align: right;\n",
              "    }\n",
              "</style>\n",
              "<table border=\"1\" class=\"dataframe\">\n",
              "  <thead>\n",
              "    <tr style=\"text-align: right;\">\n",
              "      <th></th>\n",
              "      <th>Open</th>\n",
              "      <th>High</th>\n",
              "      <th>Low</th>\n",
              "      <th>Close</th>\n",
              "      <th>Volume</th>\n",
              "      <th>Dividends</th>\n",
              "      <th>Stock Splits</th>\n",
              "    </tr>\n",
              "    <tr>\n",
              "      <th>Date</th>\n",
              "      <th></th>\n",
              "      <th></th>\n",
              "      <th></th>\n",
              "      <th></th>\n",
              "      <th></th>\n",
              "      <th></th>\n",
              "      <th></th>\n",
              "    </tr>\n",
              "  </thead>\n",
              "  <tbody>\n",
              "    <tr>\n",
              "      <th>2021-09-15</th>\n",
              "      <td>443.200138</td>\n",
              "      <td>446.978044</td>\n",
              "      <td>442.023914</td>\n",
              "      <td>446.449738</td>\n",
              "      <td>78792200</td>\n",
              "      <td>0.000</td>\n",
              "      <td>0</td>\n",
              "    </tr>\n",
              "    <tr>\n",
              "      <th>2021-09-16</th>\n",
              "      <td>445.891519</td>\n",
              "      <td>446.928176</td>\n",
              "      <td>442.602039</td>\n",
              "      <td>445.742004</td>\n",
              "      <td>77786700</td>\n",
              "      <td>0.000</td>\n",
              "      <td>0</td>\n",
              "    </tr>\n",
              "    <tr>\n",
              "      <th>2021-09-17</th>\n",
              "      <td>444.920013</td>\n",
              "      <td>445.369995</td>\n",
              "      <td>441.019989</td>\n",
              "      <td>441.399994</td>\n",
              "      <td>118220200</td>\n",
              "      <td>1.428</td>\n",
              "      <td>0</td>\n",
              "    </tr>\n",
              "    <tr>\n",
              "      <th>2021-09-20</th>\n",
              "      <td>434.880005</td>\n",
              "      <td>436.559998</td>\n",
              "      <td>428.859985</td>\n",
              "      <td>434.040009</td>\n",
              "      <td>166445500</td>\n",
              "      <td>0.000</td>\n",
              "      <td>0</td>\n",
              "    </tr>\n",
              "    <tr>\n",
              "      <th>2021-09-21</th>\n",
              "      <td>436.529999</td>\n",
              "      <td>437.910004</td>\n",
              "      <td>433.070007</td>\n",
              "      <td>433.630005</td>\n",
              "      <td>92401800</td>\n",
              "      <td>0.000</td>\n",
              "      <td>0</td>\n",
              "    </tr>\n",
              "  </tbody>\n",
              "</table>\n",
              "</div>"
            ],
            "text/plain": [
              "                  Open        High  ...  Dividends  Stock Splits\n",
              "Date                                ...                         \n",
              "2021-09-15  443.200138  446.978044  ...      0.000             0\n",
              "2021-09-16  445.891519  446.928176  ...      0.000             0\n",
              "2021-09-17  444.920013  445.369995  ...      1.428             0\n",
              "2021-09-20  434.880005  436.559998  ...      0.000             0\n",
              "2021-09-21  436.529999  437.910004  ...      0.000             0\n",
              "\n",
              "[5 rows x 7 columns]"
            ]
          },
          "metadata": {},
          "execution_count": 6
        }
      ]
    },
    {
      "cell_type": "markdown",
      "metadata": {
        "id": "neOtKTrg3RUp"
      },
      "source": [
        "Stock price are not stationary as they tend to grow over time. (Exception: Japanese stock market). \n",
        "\n",
        "For building models, it is better to use the log-return instead. Log-return is better than percentage return since it is additive over different time periods. "
      ]
    },
    {
      "cell_type": "code",
      "metadata": {
        "colab": {
          "base_uri": "https://localhost:8080/",
          "height": 287
        },
        "id": "ADvWF4nA2K27",
        "outputId": "4cd64ffb-9d23-4479-ab43-2c4bba1c7d25"
      },
      "source": [
        "hist['Close'].plot()"
      ],
      "execution_count": 7,
      "outputs": [
        {
          "output_type": "execute_result",
          "data": {
            "text/plain": [
              "<matplotlib.axes._subplots.AxesSubplot at 0x7f606e95ff10>"
            ]
          },
          "metadata": {},
          "execution_count": 7
        },
        {
          "output_type": "display_data",
          "data": {
            "image/png": "[encoded data removed]",
            "text/plain": [
              "<Figure size 432x288 with 1 Axes>"
            ]
          },
          "metadata": {
            "needs_background": "light"
          }
        }
      ]
    },
    {
      "cell_type": "code",
      "metadata": {
        "id": "0ciVXp6-62oL"
      },
      "source": [
        "## Calculating log-returns\n",
        "hist['log_return'] = np.log(hist['Close']) - np.log(hist['Close'].shift(1))"
      ],
      "execution_count": 9,
      "outputs": []
    },
    {
      "cell_type": "code",
      "metadata": {
        "colab": {
          "base_uri": "https://localhost:8080/",
          "height": 287
        },
        "id": "I4-VbUNQ62w_",
        "outputId": "67a4c789-4db4-4b3a-dad3-1dc4ab1d758e"
      },
      "source": [
        "hist['log_return'].plot()"
      ],
      "execution_count": 11,
      "outputs": [
        {
          "output_type": "execute_result",
          "data": {
            "text/plain": [
              "<matplotlib.axes._subplots.AxesSubplot at 0x7f606e1ae0d0>"
            ]
          },
          "metadata": {},
          "execution_count": 11
        },
        {
          "output_type": "display_data",
          "data": {
            "image/png": "[encoded data removed]",
            "text/plain": [
              "<Figure size 432x288 with 1 Axes>"
            ]
          },
          "metadata": {
            "needs_background": "light"
          }
        }
      ]
    },
    {
      "cell_type": "markdown",
      "metadata": {
        "id": "3ihaCXb48JP6"
      },
      "source": [
        "Statistical properties of stock market log-returns \n",
        "\n",
        "It has a positive mean, which is bigger than the average 10-year Treasury yield. This is called the risk premium of equity market\n",
        "\n",
        "It has a negative skew, which demonstrates the fact the stock market experiences sharp drawdowns over a short period (2008,2020) \n",
        "\n",
        "It has a kurtosis greater than 3, suggesting it is more fat-tail than a normal distribution. \n",
        "\n",
        "The assumption of log-return following Gaussian distribution, as Brownian motion is the fundation of Black-Scholes Option pricing model. "
      ]
    },
    {
      "cell_type": "code",
      "metadata": {
        "colab": {
          "base_uri": "https://localhost:8080/",
          "height": 285
        },
        "id": "nZoYtbBl7gDQ",
        "outputId": "c49061a3-643d-4945-c767-d7c82d31abed"
      },
      "source": [
        "hist['log_return'].plot.hist(bins=500)"
      ],
      "execution_count": 18,
      "outputs": [
        {
          "output_type": "execute_result",
          "data": {
            "text/plain": [
              "<matplotlib.axes._subplots.AxesSubplot at 0x7f606d18dc10>"
            ]
          },
          "metadata": {},
          "execution_count": 18
        },
        {
          "output_type": "display_data",
          "data": {
            "image/png": "[encoded data removed]",
            "text/plain": [
              "<Figure size 432x288 with 1 Axes>"
            ]
          },
          "metadata": {
            "needs_background": "light"
          }
        }
      ]
    },
    {
      "cell_type": "code",
      "metadata": {
        "colab": {
          "base_uri": "https://localhost:8080/"
        },
        "id": "qfGLoJP57gNr",
        "outputId": "f94cd519-bbf3-40b1-9165-3b7defb81bf8"
      },
      "source": [
        "hist['log_return'].describe()"
      ],
      "execution_count": 19,
      "outputs": [
        {
          "output_type": "execute_result",
          "data": {
            "text/plain": [
              "count    7213.000000\n",
              "mean        0.000392\n",
              "std         0.011826\n",
              "min        -0.115887\n",
              "25%        -0.004286\n",
              "50%         0.000680\n",
              "75%         0.005858\n",
              "max         0.135577\n",
              "Name: log_return, dtype: float64"
            ]
          },
          "metadata": {},
          "execution_count": 19
        }
      ]
    },
    {
      "cell_type": "code",
      "metadata": {
        "colab": {
          "base_uri": "https://localhost:8080/"
        },
        "id": "EUDSitJq8Nxq",
        "outputId": "be1d62a7-6a44-4bcd-9f59-e655af331817"
      },
      "source": [
        "hist['log_return'].skew()"
      ],
      "execution_count": 20,
      "outputs": [
        {
          "output_type": "execute_result",
          "data": {
            "text/plain": [
              "-0.2996979086953324"
            ]
          },
          "metadata": {},
          "execution_count": 20
        }
      ]
    },
    {
      "cell_type": "code",
      "metadata": {
        "colab": {
          "base_uri": "https://localhost:8080/"
        },
        "id": "P3n8u5Ds8sP7",
        "outputId": "8d00b60e-1da6-4f31-954c-d6d051ba5c4f"
      },
      "source": [
        "hist['log_return'].kurtosis()"
      ],
      "execution_count": 21,
      "outputs": [
        {
          "output_type": "execute_result",
          "data": {
            "text/plain": [
              "11.794835473313967"
            ]
          },
          "metadata": {},
          "execution_count": 21
        }
      ]
    },
    {
      "cell_type": "markdown",
      "metadata": {
        "id": "J8M3LZvw9Tdq"
      },
      "source": [
        "## Different measures of return \n",
        "\n",
        "We can separate the return of stock market into two parts. One as the close-to-open return (overnight return) and open-to-close return (intraday return) \n",
        "\n",
        "We can see intraday return has a mean close to zero, suggesting the mean-reversion nature of stock price during market hours. \n",
        "\n",
        "Most of the stock market return, for a buy-and-hold strategy in the long run, comes from holding stocks overnight. This can be considered as compensation of the risk to hold stocks overnight. \n",
        "\n"
      ]
    },
    {
      "cell_type": "code",
      "metadata": {
        "id": "0fNLlirQ9TsL"
      },
      "source": [
        "hist['intraday_return'] = np.log(hist['Close']) - np.log(hist['Open'])\n",
        "hist['overnight_return'] = np.log(hist['Open']) - np.log(hist['Close'].shift(1))"
      ],
      "execution_count": 22,
      "outputs": []
    },
    {
      "cell_type": "code",
      "metadata": {
        "colab": {
          "base_uri": "https://localhost:8080/"
        },
        "id": "iDxUX7lR9TzK",
        "outputId": "0e98280a-7363-4213-9bb6-56e15d2b0579"
      },
      "source": [
        "hist['intraday_return'].describe()"
      ],
      "execution_count": 24,
      "outputs": [
        {
          "output_type": "execute_result",
          "data": {
            "text/plain": [
              "count    7214.000000\n",
              "mean       -0.000005\n",
              "std         0.009652\n",
              "min        -0.094207\n",
              "25%        -0.004137\n",
              "50%         0.000427\n",
              "75%         0.004579\n",
              "max         0.088892\n",
              "Name: intraday_return, dtype: float64"
            ]
          },
          "metadata": {},
          "execution_count": 24
        }
      ]
    },
    {
      "cell_type": "code",
      "metadata": {
        "colab": {
          "base_uri": "https://localhost:8080/"
        },
        "id": "DeLlvVDL9ygL",
        "outputId": "78aade8c-7384-49af-dd71-25af4f1367fc"
      },
      "source": [
        "hist['overnight_return'].describe()"
      ],
      "execution_count": 25,
      "outputs": [
        {
          "output_type": "execute_result",
          "data": {
            "text/plain": [
              "count    7213.000000\n",
              "mean        0.000396\n",
              "std         0.006731\n",
              "min        -0.110357\n",
              "25%        -0.002050\n",
              "50%         0.000623\n",
              "75%         0.003205\n",
              "max         0.059519\n",
              "Name: overnight_return, dtype: float64"
            ]
          },
          "metadata": {},
          "execution_count": 25
        }
      ]
    },
    {
      "cell_type": "code",
      "metadata": {
        "id": "ywBIvFxR-rBm"
      },
      "source": [
        ""
      ],
      "execution_count": null,
      "outputs": []
    },
    {
      "cell_type": "code",
      "metadata": {
        "id": "PUU44NSTDoKV"
      },
      "source": [
        ""
      ],
      "execution_count": null,
      "outputs": []
    },
    {
      "cell_type": "markdown",
      "metadata": {
        "id": "aHj9sY5vDoyb"
      },
      "source": [
        "### Volatility Scaling\n",
        "\n",
        "We can measure the performance of a trading strategy by the sharpe ratio, which is ratio of excess return over to the volatility. \n",
        "\n",
        "Sharpe_Ratio = $\\frac{r-r_f}{\\sigma}$, where r is the return of the portfolio and $\\sigma$ the standard deviation of the return of the portfolio. \n",
        "\n",
        "Volatility is detrimental to the long-term growth of capital as a strategy down 20% needs a 25% growth to recover. \n",
        "\n",
        "By adjusting our holdings of stock to constant volatility, so that we buy more during low volatility times and buy less during high volatility times. The Sharpe ratio can be improved compared to a constant buy-and-hold strategy.\n",
        "\n",
        "Volatility plays an important role in portfolio construction and risk management. Risk parity, a famous hedge fund strategy aims to hold constant volatility exposure to different assets in the portfolio, rather than equal weighted. Banks are required to report their inventory risk at the end of time using VaR (Value at Risk) measures. \n",
        "\n"
      ]
    },
    {
      "cell_type": "code",
      "metadata": {
        "colab": {
          "base_uri": "https://localhost:8080/"
        },
        "id": "_yf-ysmt-rEb",
        "outputId": "4f10edda-e04a-4514-92dc-a34da5df47f7"
      },
      "source": [
        "hist['log_return'].mean() / hist['log_return'].std()"
      ],
      "execution_count": 26,
      "outputs": [
        {
          "output_type": "execute_result",
          "data": {
            "text/plain": [
              "0.03311908396101132"
            ]
          },
          "metadata": {},
          "execution_count": 26
        }
      ]
    },
    {
      "cell_type": "code",
      "metadata": {
        "id": "IyzO1TBkDrc6"
      },
      "source": [
        "hist['volatility'] = hist['log_return'].rolling(63).std()"
      ],
      "execution_count": 27,
      "outputs": []
    },
    {
      "cell_type": "code",
      "metadata": {
        "id": "1K0cAMMZEnZk"
      },
      "source": [
        "hist['vol_adj_return'] = hist['log_return'] / hist['volatility'] "
      ],
      "execution_count": 29,
      "outputs": []
    },
    {
      "cell_type": "code",
      "metadata": {
        "colab": {
          "base_uri": "https://localhost:8080/"
        },
        "id": "3DvKPnaGDrl6",
        "outputId": "18c82a78-c859-4291-ab7b-73146ca449b3"
      },
      "source": [
        "## Improvement of Sharpe ratio of constant vol strategy \n",
        "hist['vol_adj_return'].mean() / hist['vol_adj_return'].std()"
      ],
      "execution_count": 31,
      "outputs": [
        {
          "output_type": "execute_result",
          "data": {
            "text/plain": [
              "0.04877588033928312"
            ]
          },
          "metadata": {},
          "execution_count": 31
        }
      ]
    },
    {
      "cell_type": "code",
      "metadata": {
        "id": "dSsLX3riE7WP"
      },
      "source": [
        ""
      ],
      "execution_count": null,
      "outputs": []
    },
    {
      "cell_type": "code",
      "metadata": {
        "id": "9-6isNPnE7en"
      },
      "source": [
        ""
      ],
      "execution_count": null,
      "outputs": []
    },
    {
      "cell_type": "markdown",
      "metadata": {
        "id": "96TuDKjT-rV5"
      },
      "source": [
        "## Recommended readings \n",
        "\n",
        "- Algorithmic Trading: Winning Strategies and Their Rationale, Ernest P. Chan\n",
        "\n",
        "- Advances in Financial Machine Learning, Marcos López de Prado\n",
        "\n",
        "- A Complete Guide to the Futures Market: Technical Analysis, Trading Systems, Fundamental Analysis, Options, Spreads, and Trading Principles (Wiley Trading), Jack D. Schwager"
      ]
    }
  ]
}