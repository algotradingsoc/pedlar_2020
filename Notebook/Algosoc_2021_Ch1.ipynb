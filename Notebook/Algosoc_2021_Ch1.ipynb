{
  "nbformat": 4,
  "nbformat_minor": 0,
  "metadata": {
    "colab": {
      "name": "Algosoc_2021_Ch1.ipynb",
      "provenance": []
    },
    "kernelspec": {
      "name": "python3",
      "display_name": "Python 3"
    },
    "language_info": {
      "name": "python"
    }
  },
  "cells": [
    {
      "cell_type": "markdown",
      "metadata": {
        "id": "K5aaXiDnzGkL"
      },
      "source": [
        "## Welcome to Algosoc, the soceity for algorithmic trading and quantitative finance at Imperial"
      ]
    },
    {
      "cell_type": "markdown",
      "metadata": {
        "id": "tK0w4PWD0kpY"
      },
      "source": [
        "### Who are we\n",
        "\n",
        "We are founded in March 2018 with the aim to provide education and networking opportunities for students interested in algorithmic trading and quantitative finance. In 2018 and 2019 we organise the Algothon with Blackrock which is the flagship event of our soceity. Algothon 2020 was cancelled this year due to covid-19. Algothon 2021 was held online with Aspect Capital. \n",
        "\n",
        "http://www.algosoc.com/"
      ]
    },
    {
      "cell_type": "markdown",
      "metadata": {
        "id": "IAcS0Ia20ktI"
      },
      "source": [
        "#### Lecture 1: Understanding financial data"
      ]
    },
    {
      "cell_type": "markdown",
      "metadata": {
        "id": "G63BgwxK0kw4"
      },
      "source": [
        "#### Price data\n",
        "\n",
        "\n",
        "The most basic data to be dealt with in quantitative finance is price data, which represent how much a financial asset is worth at a given time. Traditionally (1990s), time series models such as ARIMA model are used widely in trading to capture trends in the market. Recently, the focus has moved to using deep learning models such as LSTM and CNN to learn more complicated behaviour.\n",
        "\n",
        "https://reference.wolfram.com/language/ref/ARIMAProcess.html    \n",
        "https://www.tensorflow.org/api_docs/python/tf/keras/layers/LSTM    \n",
        "\n",
        "Price data is determined by two charactereistics, frequency of data and types of data. Frequency of data can ranged from microseconds data (tick level) to end-of-date data (daily resolution). We will focus on data that have a minute resoluion or above. Major types of data include bar data, trade data and quote data.\n",
        "\n",
        "In an exchange, quote data (Orderbook) is displayed for a stock in real time which has the bid and ask price (with size) submitted by different market participants. A trade is made if someone is willing the buy the security at the ask price (or sell the security at the bid price). Bar data is then aggregrated using the trade price and volume over an interval, which usually is a minute, an hour and a day.\n",
        "\n",
        "https://iextrading.com/apps/tops/\n",
        "\n",
        "In this notebook, we will illustrate various basic concepts in finance using the most famous ETF, SPDR S&P 500 (SPY) which keep tracks of the most important stock market index S&P 500 in the world. This ETF invest in the 500 biggest stocks listed in the US, weighted by market-cap. "
      ]
    },
    {
      "cell_type": "code",
      "metadata": {
        "id": "sOv7aiU4y5LD",
        "colab": {
          "base_uri": "https://localhost:8080/"
        },
        "outputId": "54268a0c-e80b-4b3b-d788-501e2465e2b7"
      },
      "source": [
        "! pip install yfinance"
      ],
      "execution_count": 2,
      "outputs": [
        {
          "output_type": "stream",
          "name": "stdout",
          "text": [
            "Collecting yfinance\n",
            "  Downloading yfinance-0.1.63.tar.gz (26 kB)\n",
            "Requirement already satisfied: pandas>=0.24 in /usr/local/lib/python3.7/dist-packages (from yfinance) (1.1.5)\n",
            "Requirement already satisfied: numpy>=1.15 in /usr/local/lib/python3.7/dist-packages (from yfinance) (1.19.5)\n",
            "Requirement already satisfied: requests>=2.20 in /usr/local/lib/python3.7/dist-packages (from yfinance) (2.23.0)\n",
            "Requirement already satisfied: multitasking>=0.0.7 in /usr/local/lib/python3.7/dist-packages (from yfinance) (0.0.9)\n",
            "Collecting lxml>=4.5.1\n",
            "  Downloading lxml-4.6.3-cp37-cp37m-manylinux2014_x86_64.whl (6.3 MB)\n",
            "\u001b[K     |████████████████████████████████| 6.3 MB 6.5 MB/s \n",
            "\u001b[?25hRequirement already satisfied: pytz>=2017.2 in /usr/local/lib/python3.7/dist-packages (from pandas>=0.24->yfinance) (2018.9)\n",
            "Requirement already satisfied: python-dateutil>=2.7.3 in /usr/local/lib/python3.7/dist-packages (from pandas>=0.24->yfinance) (2.8.2)\n",
            "Requirement already satisfied: six>=1.5 in /usr/local/lib/python3.7/dist-packages (from python-dateutil>=2.7.3->pandas>=0.24->yfinance) (1.15.0)\n",
            "Requirement already satisfied: certifi>=2017.4.17 in /usr/local/lib/python3.7/dist-packages (from requests>=2.20->yfinance) (2021.5.30)\n",
            "Requirement already satisfied: idna<3,>=2.5 in /usr/local/lib/python3.7/dist-packages (from requests>=2.20->yfinance) (2.10)\n",
            "Requirement already satisfied: urllib3!=1.25.0,!=1.25.1,<1.26,>=1.21.1 in /usr/local/lib/python3.7/dist-packages (from requests>=2.20->yfinance) (1.24.3)\n",
            "Requirement already satisfied: chardet<4,>=3.0.2 in /usr/local/lib/python3.7/dist-packages (from requests>=2.20->yfinance) (3.0.4)\n",
            "Building wheels for collected packages: yfinance\n",
            "  Building wheel for yfinance (setup.py) ... \u001b[?25l\u001b[?25hdone\n",
            "  Created wheel for yfinance: filename=yfinance-0.1.63-py2.py3-none-any.whl size=23918 sha256=707d41390f449531fdfe897fb0be8c7a2a3cdc31da552a8c0c421acecac7687e\n",
            "  Stored in directory: /root/.cache/pip/wheels/fe/87/8b/7ec24486e001d3926537f5f7801f57a74d181be25b11157983\n",
            "Successfully built yfinance\n",
            "Installing collected packages: lxml, yfinance\n",
            "  Attempting uninstall: lxml\n",
            "    Found existing installation: lxml 4.2.6\n",
            "    Uninstalling lxml-4.2.6:\n",
            "      Successfully uninstalled lxml-4.2.6\n",
            "Successfully installed lxml-4.6.3 yfinance-0.1.63\n"
          ]
        }
      ]
    },
    {
      "cell_type": "code",
      "metadata": {
        "id": "VL69y-2E08ei"
      },
      "source": [
        "import yfinance as yf\n",
        "import numpy as np\n",
        "import pandas as pd"
      ],
      "execution_count": 3,
      "outputs": []
    },
    {
      "cell_type": "code",
      "metadata": {
        "id": "UGIWsMQn08hm"
      },
      "source": [
        "selected_etf = yf.Ticker(\"SPY\")\n",
        "hist = selected_etf.history(period=\"max\")"
      ],
      "execution_count": 4,
      "outputs": []
    },
    {
      "cell_type": "markdown",
      "metadata": {
        "id": "bjLMiCcl2RgQ"
      },
      "source": [
        "A typical bar data would include Open, High, Low, Close and Volume within a time period, which is a trading day in the following example. As stocks can pay dividend and have splits, we usually use adjusted price to perform statistical analysis. From the adjusted price, we can derive the total return of the stock (which is the sum of price return and dividends, reinvested). \n",
        "\n"
      ]
    },
    {
      "cell_type": "code",
      "metadata": {
        "colab": {
          "base_uri": "https://localhost:8080/",
          "height": 237
        },
        "id": "PFnk5yDnzRnA",
        "outputId": "b21e7e44-bba2-4715-be49-83e6bec3e65b"
      },
      "source": [
        "hist.tail()"
      ],
      "execution_count": 5,
      "outputs": [
        {
          "output_type": "execute_result",
          "data": {
            "text/html": [
              "<div>\n",
              "<style scoped>\n",
              "    .dataframe tbody tr th:only-of-type {\n",
              "        vertical-align: middle;\n",
              "    }\n",
              "\n",
              "    .dataframe tbody tr th {\n",
              "        vertical-align: top;\n",
              "    }\n",
              "\n",
              "    .dataframe thead th {\n",
              "        text-align: right;\n",
              "    }\n",
              "</style>\n",
              "<table border=\"1\" class=\"dataframe\">\n",
              "  <thead>\n",
              "    <tr style=\"text-align: right;\">\n",
              "      <th></th>\n",
              "      <th>Open</th>\n",
              "      <th>High</th>\n",
              "      <th>Low</th>\n",
              "      <th>Close</th>\n",
              "      <th>Volume</th>\n",
              "      <th>Dividends</th>\n",
              "      <th>Stock Splits</th>\n",
              "    </tr>\n",
              "    <tr>\n",
              "      <th>Date</th>\n",
              "      <th></th>\n",
              "      <th></th>\n",
              "      <th></th>\n",
              "      <th></th>\n",
              "      <th></th>\n",
              "      <th></th>\n",
              "      <th></th>\n",
              "    </tr>\n",
              "  </thead>\n",
              "  <tbody>\n",
              "    <tr>\n",
              "      <th>2021-10-07</th>\n",
              "      <td>438.390015</td>\n",
              "      <td>441.679993</td>\n",
              "      <td>438.200012</td>\n",
              "      <td>438.660004</td>\n",
              "      <td>72437500</td>\n",
              "      <td>0.0</td>\n",
              "      <td>0</td>\n",
              "    </tr>\n",
              "    <tr>\n",
              "      <th>2021-10-08</th>\n",
              "      <td>439.480011</td>\n",
              "      <td>439.890015</td>\n",
              "      <td>437.190002</td>\n",
              "      <td>437.859985</td>\n",
              "      <td>74492900</td>\n",
              "      <td>0.0</td>\n",
              "      <td>0</td>\n",
              "    </tr>\n",
              "    <tr>\n",
              "      <th>2021-10-11</th>\n",
              "      <td>437.160004</td>\n",
              "      <td>440.260010</td>\n",
              "      <td>434.619995</td>\n",
              "      <td>434.690002</td>\n",
              "      <td>65233300</td>\n",
              "      <td>0.0</td>\n",
              "      <td>0</td>\n",
              "    </tr>\n",
              "    <tr>\n",
              "      <th>2021-10-12</th>\n",
              "      <td>435.670013</td>\n",
              "      <td>436.100006</td>\n",
              "      <td>432.779999</td>\n",
              "      <td>433.619995</td>\n",
              "      <td>71078500</td>\n",
              "      <td>0.0</td>\n",
              "      <td>0</td>\n",
              "    </tr>\n",
              "    <tr>\n",
              "      <th>2021-10-13</th>\n",
              "      <td>434.709991</td>\n",
              "      <td>435.290009</td>\n",
              "      <td>431.540009</td>\n",
              "      <td>433.170013</td>\n",
              "      <td>22750297</td>\n",
              "      <td>0.0</td>\n",
              "      <td>0</td>\n",
              "    </tr>\n",
              "  </tbody>\n",
              "</table>\n",
              "</div>"
            ],
            "text/plain": [
              "                  Open        High  ...  Dividends  Stock Splits\n",
              "Date                                ...                         \n",
              "2021-10-07  438.390015  441.679993  ...        0.0             0\n",
              "2021-10-08  439.480011  439.890015  ...        0.0             0\n",
              "2021-10-11  437.160004  440.260010  ...        0.0             0\n",
              "2021-10-12  435.670013  436.100006  ...        0.0             0\n",
              "2021-10-13  434.709991  435.290009  ...        0.0             0\n",
              "\n",
              "[5 rows x 7 columns]"
            ]
          },
          "metadata": {},
          "execution_count": 5
        }
      ]
    },
    {
      "cell_type": "markdown",
      "metadata": {
        "id": "neOtKTrg3RUp"
      },
      "source": [
        "Stock price are not stationary as they tend to grow over time. (Exception: Japanese stock market). \n",
        "\n",
        "For building models, it is better to use the log-return instead. Log-return is better than percentage return since it is additive over different time periods. "
      ]
    },
    {
      "cell_type": "code",
      "metadata": {
        "colab": {
          "base_uri": "https://localhost:8080/",
          "height": 287
        },
        "id": "ADvWF4nA2K27",
        "outputId": "2cc680d2-1c78-4862-b32f-72492b4c1bdb"
      },
      "source": [
        "hist['Close'].plot()"
      ],
      "execution_count": 6,
      "outputs": [
        {
          "output_type": "execute_result",
          "data": {
            "text/plain": [
              "<matplotlib.axes._subplots.AxesSubplot at 0x7fbbe3a65a90>"
            ]
          },
          "metadata": {},
          "execution_count": 6
        },
        {
          "output_type": "display_data",
          "data": {
            "image/png": "[encoded data removed]",
            "text/plain": [
              "<Figure size 432x288 with 1 Axes>"
            ]
          },
          "metadata": {
            "needs_background": "light"
          }
        }
      ]
    },
    {
      "cell_type": "code",
      "metadata": {
        "id": "0ciVXp6-62oL"
      },
      "source": [
        "## Calculating log-returns\n",
        "hist['log_return'] = np.log(hist['Close']) - np.log(hist['Close'].shift(1))"
      ],
      "execution_count": 7,
      "outputs": []
    },
    {
      "cell_type": "code",
      "metadata": {
        "colab": {
          "base_uri": "https://localhost:8080/",
          "height": 287
        },
        "id": "I4-VbUNQ62w_",
        "outputId": "e0d3e606-5335-4c0d-db53-fbb2a9b21e77"
      },
      "source": [
        "hist['log_return'].plot()"
      ],
      "execution_count": 8,
      "outputs": [
        {
          "output_type": "execute_result",
          "data": {
            "text/plain": [
              "<matplotlib.axes._subplots.AxesSubplot at 0x7fbbe3e0a150>"
            ]
          },
          "metadata": {},
          "execution_count": 8
        },
        {
          "output_type": "display_data",
          "data": {
            "image/png": "[encoded data removed]",
            "text/plain": [
              "<Figure size 432x288 with 1 Axes>"
            ]
          },
          "metadata": {
            "needs_background": "light"
          }
        }
      ]
    },
    {
      "cell_type": "markdown",
      "metadata": {
        "id": "3ihaCXb48JP6"
      },
      "source": [
        "Statistical properties of stock market log-returns \n",
        "\n",
        "It has a positive mean, which is bigger than the average 10-year Treasury yield. This is called the risk premium of equity market\n",
        "\n",
        "It has a negative skew, which demonstrates the fact the stock market experiences sharp drawdowns over a short period (2008,2020) \n",
        "\n",
        "It has a kurtosis greater than 3, suggesting it is more fat-tail than a normal distribution. \n",
        "\n",
        "The assumption of log-return following Gaussian distribution, as Brownian motion is the fundation of Black-Scholes Option pricing model. "
      ]
    },
    {
      "cell_type": "code",
      "metadata": {
        "colab": {
          "base_uri": "https://localhost:8080/",
          "height": 285
        },
        "id": "nZoYtbBl7gDQ",
        "outputId": "b20a50ea-5534-4b12-b97f-befec8eaf4a6"
      },
      "source": [
        "hist['log_return'].plot.hist(bins=500)"
      ],
      "execution_count": 9,
      "outputs": [
        {
          "output_type": "execute_result",
          "data": {
            "text/plain": [
              "<matplotlib.axes._subplots.AxesSubplot at 0x7fbbe3562910>"
            ]
          },
          "metadata": {},
          "execution_count": 9
        },
        {
          "output_type": "display_data",
          "data": {
            "image/png": "[encoded data removed]",
            "text/plain": [
              "<Figure size 432x288 with 1 Axes>"
            ]
          },
          "metadata": {
            "needs_background": "light"
          }
        }
      ]
    },
    {
      "cell_type": "code",
      "metadata": {
        "colab": {
          "base_uri": "https://localhost:8080/"
        },
        "id": "qfGLoJP57gNr",
        "outputId": "64563397-e0f2-43b4-94c7-b391b3a37260"
      },
      "source": [
        "hist['log_return'].describe()"
      ],
      "execution_count": 10,
      "outputs": [
        {
          "output_type": "execute_result",
          "data": {
            "text/plain": [
              "count    7229.000000\n",
              "mean        0.000391\n",
              "std         0.011821\n",
              "min        -0.115887\n",
              "25%        -0.004285\n",
              "50%         0.000680\n",
              "75%         0.005860\n",
              "max         0.135577\n",
              "Name: log_return, dtype: float64"
            ]
          },
          "metadata": {},
          "execution_count": 10
        }
      ]
    },
    {
      "cell_type": "code",
      "metadata": {
        "colab": {
          "base_uri": "https://localhost:8080/"
        },
        "id": "EUDSitJq8Nxq",
        "outputId": "de3d6fbc-c48d-4d40-ba05-37540f48f918"
      },
      "source": [
        "hist['log_return'].skew()"
      ],
      "execution_count": 11,
      "outputs": [
        {
          "output_type": "execute_result",
          "data": {
            "text/plain": [
              "-0.29985156436970767"
            ]
          },
          "metadata": {},
          "execution_count": 11
        }
      ]
    },
    {
      "cell_type": "code",
      "metadata": {
        "colab": {
          "base_uri": "https://localhost:8080/"
        },
        "id": "P3n8u5Ds8sP7",
        "outputId": "6ee88567-d7df-4ca1-8fa2-9302809c33fc"
      },
      "source": [
        "hist['log_return'].kurtosis()"
      ],
      "execution_count": 12,
      "outputs": [
        {
          "output_type": "execute_result",
          "data": {
            "text/plain": [
              "11.788815653462775"
            ]
          },
          "metadata": {},
          "execution_count": 12
        }
      ]
    },
    {
      "cell_type": "markdown",
      "metadata": {
        "id": "J8M3LZvw9Tdq"
      },
      "source": [
        "## Different measures of return \n",
        "\n",
        "We can separate the return of stock market into two parts. One as the close-to-open return (overnight return) and open-to-close return (intraday return) \n",
        "\n",
        "We can see intraday return has a mean close to zero, suggesting the mean-reversion nature of stock price during market hours. \n",
        "\n",
        "Most of the stock market return, for a buy-and-hold strategy in the long run, comes from holding stocks overnight. This can be considered as compensation of the risk to hold stocks overnight. \n",
        "\n"
      ]
    },
    {
      "cell_type": "code",
      "metadata": {
        "id": "0fNLlirQ9TsL"
      },
      "source": [
        "hist['intraday_return'] = np.log(hist['Close']) - np.log(hist['Open'])\n",
        "hist['overnight_return'] = np.log(hist['Open']) - np.log(hist['Close'].shift(1))"
      ],
      "execution_count": 13,
      "outputs": []
    },
    {
      "cell_type": "code",
      "metadata": {
        "colab": {
          "base_uri": "https://localhost:8080/"
        },
        "id": "iDxUX7lR9TzK",
        "outputId": "a2be8f79-c5d3-4045-bafa-6c869978a596"
      },
      "source": [
        "hist['intraday_return'].describe()"
      ],
      "execution_count": 14,
      "outputs": [
        {
          "output_type": "execute_result",
          "data": {
            "text/plain": [
              "count    7230.000000\n",
              "mean       -0.000007\n",
              "std         0.009649\n",
              "min        -0.094207\n",
              "25%        -0.004141\n",
              "50%         0.000427\n",
              "75%         0.004580\n",
              "max         0.088892\n",
              "Name: intraday_return, dtype: float64"
            ]
          },
          "metadata": {},
          "execution_count": 14
        }
      ]
    },
    {
      "cell_type": "code",
      "metadata": {
        "colab": {
          "base_uri": "https://localhost:8080/"
        },
        "id": "DeLlvVDL9ygL",
        "outputId": "1c434bf4-2f03-484f-bdff-0c8df51256cd"
      },
      "source": [
        "hist['overnight_return'].describe()"
      ],
      "execution_count": 15,
      "outputs": [
        {
          "output_type": "execute_result",
          "data": {
            "text/plain": [
              "count    7229.000000\n",
              "mean        0.000397\n",
              "std         0.006727\n",
              "min        -0.110357\n",
              "25%        -0.002051\n",
              "50%         0.000625\n",
              "75%         0.003208\n",
              "max         0.059519\n",
              "Name: overnight_return, dtype: float64"
            ]
          },
          "metadata": {},
          "execution_count": 15
        }
      ]
    },
    {
      "cell_type": "code",
      "metadata": {
        "id": "ywBIvFxR-rBm"
      },
      "source": [
        ""
      ],
      "execution_count": 15,
      "outputs": []
    },
    {
      "cell_type": "code",
      "metadata": {
        "id": "PUU44NSTDoKV"
      },
      "source": [
        ""
      ],
      "execution_count": 15,
      "outputs": []
    },
    {
      "cell_type": "markdown",
      "metadata": {
        "id": "aHj9sY5vDoyb"
      },
      "source": [
        "### Volatility Scaling\n",
        "\n",
        "We can measure the performance of a trading strategy by the sharpe ratio, which is ratio of excess return over to the volatility. \n",
        "\n",
        "Sharpe_Ratio = $\\frac{r-r_f}{\\sigma}$, where r is the return of the portfolio and $\\sigma$ the standard deviation of the return of the portfolio. \n",
        "\n",
        "Volatility is detrimental to the long-term growth of capital as a strategy down 20% needs a 25% growth to recover. \n",
        "\n",
        "By adjusting our holdings of stock to constant volatility, so that we buy more during low volatility times and buy less during high volatility times. The Sharpe ratio can be improved compared to a constant buy-and-hold strategy.\n",
        "\n",
        "Volatility plays an important role in portfolio construction and risk management. Risk parity, a famous hedge fund strategy aims to hold constant volatility exposure to different assets in the portfolio, rather than equal weighted. Banks are required to report their inventory risk at the end of time using VaR (Value at Risk) measures. \n",
        "\n"
      ]
    },
    {
      "cell_type": "code",
      "metadata": {
        "id": "IyzO1TBkDrc6"
      },
      "source": [
        "selected_etf = yf.Ticker(\"SPY\")\n",
        "hist = selected_etf.history(period=\"max\")\n",
        "hist['return'] = hist['Close'].pct_change()\n",
        "hist['volatility'] = hist['return'].rolling(21).std()\n",
        "hist['volatility_mean'] = hist['volatility'].rolling(21*12).mean()"
      ],
      "execution_count": 16,
      "outputs": []
    },
    {
      "cell_type": "code",
      "metadata": {
        "id": "1K0cAMMZEnZk"
      },
      "source": [
        "# Weight portfolio by comparing the current 3-month volatility with that of the most recent year \n",
        "hist['vol_adj_return'] = hist['return'] / hist['volatility'] * hist['volatility_mean']\n",
        "hist['vol_port_size'] = hist['volatility_mean'] / hist['volatility']"
      ],
      "execution_count": 17,
      "outputs": []
    },
    {
      "cell_type": "code",
      "metadata": {
        "colab": {
          "base_uri": "https://localhost:8080/"
        },
        "id": "wx5_GuytleBT",
        "outputId": "c01faabb-7d7c-4fa0-b30f-86c5ff575b3b"
      },
      "source": [
        "hist['return'].mean() / hist['return'].std()"
      ],
      "execution_count": 18,
      "outputs": [
        {
          "output_type": "execute_result",
          "data": {
            "text/plain": [
              "0.03898980199477907"
            ]
          },
          "metadata": {},
          "execution_count": 18
        }
      ]
    },
    {
      "cell_type": "code",
      "metadata": {
        "colab": {
          "base_uri": "https://localhost:8080/"
        },
        "id": "3DvKPnaGDrl6",
        "outputId": "7e97d071-4aaf-4151-9ed0-bf3f81f72a90"
      },
      "source": [
        "## Improvement of Sharpe ratio of constant vol strategy \n",
        "hist['vol_adj_return'].mean() / hist['vol_adj_return'].std()"
      ],
      "execution_count": 19,
      "outputs": [
        {
          "output_type": "execute_result",
          "data": {
            "text/plain": [
              "0.0539259746778392"
            ]
          },
          "metadata": {},
          "execution_count": 19
        }
      ]
    },
    {
      "cell_type": "code",
      "metadata": {
        "colab": {
          "base_uri": "https://localhost:8080/",
          "height": 0
        },
        "id": "pImXy0MekkCI",
        "outputId": "ec4acb86-0df7-4847-d7a7-542ec2b65bf2"
      },
      "source": [
        "(1+hist['vol_adj_return']).cumprod().plot()"
      ],
      "execution_count": 20,
      "outputs": [
        {
          "output_type": "execute_result",
          "data": {
            "text/plain": [
              "<matplotlib.axes._subplots.AxesSubplot at 0x7fbbe3dec650>"
            ]
          },
          "metadata": {},
          "execution_count": 20
        },
        {
          "output_type": "display_data",
          "data": {
            "image/png": "[encoded data removed]",
            "text/plain": [
              "<Figure size 432x288 with 1 Axes>"
            ]
          },
          "metadata": {
            "needs_background": "light"
          }
        }
      ]
    },
    {
      "cell_type": "code",
      "metadata": {
        "colab": {
          "base_uri": "https://localhost:8080/",
          "height": 0
        },
        "id": "gKFZLhyKnBb9",
        "outputId": "9b53fac1-92c5-4569-fbc9-376bbea11458"
      },
      "source": [
        "(1+hist['return']).cumprod().plot()"
      ],
      "execution_count": 21,
      "outputs": [
        {
          "output_type": "execute_result",
          "data": {
            "text/plain": [
              "<matplotlib.axes._subplots.AxesSubplot at 0x7fbbe31f1590>"
            ]
          },
          "metadata": {},
          "execution_count": 21
        },
        {
          "output_type": "display_data",
          "data": {
            "image/png": "[encoded data removed]",
            "text/plain": [
              "<Figure size 432x288 with 1 Axes>"
            ]
          },
          "metadata": {
            "needs_background": "light"
          }
        }
      ]
    },
    {
      "cell_type": "code",
      "metadata": {
        "colab": {
          "base_uri": "https://localhost:8080/",
          "height": 0
        },
        "id": "nzh0S2t1oe17",
        "outputId": "d7267b85-2773-4f3e-efbf-854a4b99bd20"
      },
      "source": [
        "hist['vol_port_size'].plot()"
      ],
      "execution_count": 22,
      "outputs": [
        {
          "output_type": "execute_result",
          "data": {
            "text/plain": [
              "<matplotlib.axes._subplots.AxesSubplot at 0x7fbbe2ee5c50>"
            ]
          },
          "metadata": {},
          "execution_count": 22
        },
        {
          "output_type": "display_data",
          "data": {
            "image/png": "[encoded data removed]",
            "text/plain": [
              "<Figure size 432x288 with 1 Axes>"
            ]
          },
          "metadata": {
            "needs_background": "light"
          }
        }
      ]
    },
    {
      "cell_type": "markdown",
      "metadata": {
        "id": "IwvVaduupBeY"
      },
      "source": [
        "To carry out the above volatility adjusted strategy, you need to have access to leverage (up to 3x). "
      ]
    },
    {
      "cell_type": "code",
      "metadata": {
        "id": "p9PMXtbsofEH"
      },
      "source": [
        "selected_etf = yf.Ticker(\"EEM\")\n",
        "hist = selected_etf.history(period=\"max\")"
      ],
      "execution_count": 23,
      "outputs": []
    },
    {
      "cell_type": "code",
      "metadata": {
        "id": "MitbFIhQpPcp"
      },
      "source": [
        "hist['return'] = hist['Close'].pct_change()\n",
        "hist['volatility'] = hist['return'].rolling(21).std()\n",
        "hist['volatility_mean'] = hist['volatility'].rolling(21*12).mean()\n",
        "\n",
        "# Weight portfolio by comparing the current 3-month volatility with that of the most recent year \n",
        "hist['vol_adj_return'] = hist['return'] / hist['volatility'] * hist['volatility_mean']\n",
        "hist['vol_port_size'] = hist['volatility_mean'] / hist['volatility']"
      ],
      "execution_count": 24,
      "outputs": []
    },
    {
      "cell_type": "code",
      "metadata": {
        "colab": {
          "base_uri": "https://localhost:8080/",
          "height": 0
        },
        "id": "tgXnlwiHpPf0",
        "outputId": "b23eef28-c889-4d87-bf78-8b978508f00c"
      },
      "source": [
        "(1+hist['vol_adj_return']).cumprod().plot()"
      ],
      "execution_count": 25,
      "outputs": [
        {
          "output_type": "execute_result",
          "data": {
            "text/plain": [
              "<matplotlib.axes._subplots.AxesSubplot at 0x7fbbe2ceed90>"
            ]
          },
          "metadata": {},
          "execution_count": 25
        },
        {
          "output_type": "display_data",
          "data": {
            "image/png": "[encoded data removed]",
            "text/plain": [
              "<Figure size 432x288 with 1 Axes>"
            ]
          },
          "metadata": {
            "needs_background": "light"
          }
        }
      ]
    },
    {
      "cell_type": "code",
      "metadata": {
        "colab": {
          "base_uri": "https://localhost:8080/",
          "height": 0
        },
        "id": "mhb4S5bUpPjG",
        "outputId": "24ab68c2-57ad-4eb2-f095-4595524486e9"
      },
      "source": [
        "(1+hist['return']).cumprod().plot()"
      ],
      "execution_count": 26,
      "outputs": [
        {
          "output_type": "execute_result",
          "data": {
            "text/plain": [
              "<matplotlib.axes._subplots.AxesSubplot at 0x7fbbe2c70810>"
            ]
          },
          "metadata": {},
          "execution_count": 26
        },
        {
          "output_type": "display_data",
          "data": {
            "image/png": "[encoded data removed]",
            "text/plain": [
              "<Figure size 432x288 with 1 Axes>"
            ]
          },
          "metadata": {
            "needs_background": "light"
          }
        }
      ]
    },
    {
      "cell_type": "code",
      "metadata": {
        "colab": {
          "base_uri": "https://localhost:8080/",
          "height": 0
        },
        "id": "FJTTRUTHpPxc",
        "outputId": "c8edf642-5bc6-4cfc-a9ad-0ba8594def22"
      },
      "source": [
        "hist['vol_port_size'].plot()"
      ],
      "execution_count": 27,
      "outputs": [
        {
          "output_type": "execute_result",
          "data": {
            "text/plain": [
              "<matplotlib.axes._subplots.AxesSubplot at 0x7fbbe2b4d490>"
            ]
          },
          "metadata": {},
          "execution_count": 27
        },
        {
          "output_type": "display_data",
          "data": {
            "image/png": "[encoded data removed]",
            "text/plain": [
              "<Figure size 432x288 with 1 Axes>"
            ]
          },
          "metadata": {
            "needs_background": "light"
          }
        }
      ]
    },
    {
      "cell_type": "markdown",
      "metadata": {
        "id": "s1A_y4Jx1krd"
      },
      "source": [
        "The above strategy also applies to EM stock market. As long as the ETF will generate positive return in the long run, volatility scaling can improve sharpe ratio and return of strategy. \n"
      ]
    },
    {
      "cell_type": "markdown",
      "metadata": {
        "id": "96TuDKjT-rV5"
      },
      "source": [
        "## Recommended readings \n",
        "\n",
        "- Algorithmic Trading: Winning Strategies and Their Rationale, Ernest P. Chan\n",
        "\n",
        "- Advances in Financial Machine Learning, Marcos López de Prado\n",
        "\n",
        "- A Complete Guide to the Futures Market: Technical Analysis, Trading Systems, Fundamental Analysis, Options, Spreads, and Trading Principles (Wiley Trading), Jack D. Schwager"
      ]
    },
    {
      "cell_type": "code",
      "metadata": {
        "id": "3h0dDA0xEtoZ"
      },
      "source": [
        ""
      ],
      "execution_count": 27,
      "outputs": []
    },
    {
      "cell_type": "code",
      "metadata": {
        "id": "j54j3pWXEtz2"
      },
      "source": [
        ""
      ],
      "execution_count": 27,
      "outputs": []
    },
    {
      "cell_type": "markdown",
      "metadata": {
        "id": "lalSK3gkEuir"
      },
      "source": [
        "## Lecture 2 Volatility \n",
        "\n",
        "Volatility in portfolio is undesirable since they erode long term return of the portfolio. Investors are looking for ways to reduce portfolio volatility. For asset managers, holding government bonds and derivatives are common means to hedge against equity holdings they have.\n",
        "\n",
        "Without formally introducing the concept of options (where we might do in later lectures), we will introduce the concept of a put option as an insurance policy. From this perspective, asset managers might buy put options (in reality put spreads or other more sophiscated strategies) to reduce drawdown in portfolio during market distress. \n",
        "\n",
        "The benefit of reducing drawdown and thus volatility in portfolio is that it allows rebalancing after market crash. Investors can sell their bonds or put options to buy cheap stocks. \n",
        "\n",
        "In this lecture, we will show that the buy-and-hold strategy is inherent a short volatility strategy, which means it benefits when market volatility is falling.  \n"
      ]
    },
    {
      "cell_type": "code",
      "metadata": {
        "id": "4d9aJTtREt8q"
      },
      "source": [
        "## VIX index, the fear gauge of the global equity market \n",
        "selected_etf = yf.Ticker(\"^VIX\")"
      ],
      "execution_count": 28,
      "outputs": []
    },
    {
      "cell_type": "code",
      "metadata": {
        "id": "Ty8SobzXE0Ly"
      },
      "source": [
        "vixhist = selected_etf.history(period=\"max\")"
      ],
      "execution_count": 29,
      "outputs": []
    },
    {
      "cell_type": "code",
      "metadata": {
        "colab": {
          "base_uri": "https://localhost:8080/",
          "height": 295
        },
        "id": "82D-txXkGBRy",
        "outputId": "c6dda4d4-347f-4f69-d335-7c67b79d0513"
      },
      "source": [
        "vixhist['Close'].loc['2018-01-01':].plot()"
      ],
      "execution_count": 30,
      "outputs": [
        {
          "output_type": "execute_result",
          "data": {
            "text/plain": [
              "<matplotlib.axes._subplots.AxesSubplot at 0x7fbbe2cacdd0>"
            ]
          },
          "metadata": {},
          "execution_count": 30
        },
        {
          "output_type": "display_data",
          "data": {
            "image/png": "[encoded data removed]",
            "text/plain": [
              "<Figure size 432x288 with 1 Axes>"
            ]
          },
          "metadata": {
            "needs_background": "light"
          }
        }
      ]
    },
    {
      "cell_type": "markdown",
      "metadata": {
        "id": "-j-lilF2GRFM"
      },
      "source": [
        "It is not possible to invest in VIX directly. There are volatility ETFs which keep tracks of the VIX Futures, where traders buy and sell to express their views on market volatility. VXX is an example of volatility ETF that are widely traded by retail.  \n",
        "\n",
        "Due to rollover costs, VXX will generate a much worse return than VIX.\n",
        "\n",
        "\n",
        "A crucial feature is that holding VIX futures, and similarly buying Put Options on SPY generates a negative return in the long run.\n",
        "\n",
        "Considering the correlation between VXX (Long volatility) and SH (Short SPY) we conclude the long volatility strategies are inherently shorting the market. \n",
        "\n",
        "Assuming we can short VXX (that is short volatility) without additional borrowing cost, it will have a high correlation with the market return (long SPY). This is why we call buy-and-hold equity as inherenetly a short volatility strategy. \n",
        "\n",
        "Since buy-and-hold VXX will simply cancels the return from holding SPY, therefore VXX alone is not a good portfolio hedge. \n",
        "\n",
        "\n"
      ]
    },
    {
      "cell_type": "code",
      "metadata": {
        "colab": {
          "base_uri": "https://localhost:8080/",
          "height": 295
        },
        "id": "TmQ6NUdiGBU4",
        "outputId": "9269ecb2-b9e9-47ec-8093-098e3db5ef62"
      },
      "source": [
        "selected_etf = yf.Ticker(\"VXX\")\n",
        "vxxhist = selected_etf.history(period=\"max\")\n",
        "vxxhist['Close'].loc['2018-01-01':].plot()"
      ],
      "execution_count": 31,
      "outputs": [
        {
          "output_type": "execute_result",
          "data": {
            "text/plain": [
              "<matplotlib.axes._subplots.AxesSubplot at 0x7fbbe2a20c10>"
            ]
          },
          "metadata": {},
          "execution_count": 31
        },
        {
          "output_type": "display_data",
          "data": {
            "image/png": "[encoded data removed]",
            "text/plain": [
              "<Figure size 432x288 with 1 Axes>"
            ]
          },
          "metadata": {
            "needs_background": "light"
          }
        }
      ]
    },
    {
      "cell_type": "code",
      "metadata": {
        "colab": {
          "base_uri": "https://localhost:8080/",
          "height": 295
        },
        "id": "dWFMm0AcHlCf",
        "outputId": "2995fe63-76a5-41ff-e86e-fe2a0ed6a11f"
      },
      "source": [
        "selected_etf = yf.Ticker(\"SH\")\n",
        "shhist = selected_etf.history(period=\"max\")\n",
        "shhist['Close'].loc['2018-01-01':].plot()"
      ],
      "execution_count": 32,
      "outputs": [
        {
          "output_type": "execute_result",
          "data": {
            "text/plain": [
              "<matplotlib.axes._subplots.AxesSubplot at 0x7fbbe2a41b50>"
            ]
          },
          "metadata": {},
          "execution_count": 32
        },
        {
          "output_type": "display_data",
          "data": {
            "image/png": "[encoded data removed]",
            "text/plain": [
              "<Figure size 432x288 with 1 Axes>"
            ]
          },
          "metadata": {
            "needs_background": "light"
          }
        }
      ]
    },
    {
      "cell_type": "code",
      "metadata": {
        "colab": {
          "base_uri": "https://localhost:8080/"
        },
        "id": "tWIR_qI6H9aa",
        "outputId": "7f6c5256-48cd-4592-b6f4-d895afd63f9c"
      },
      "source": [
        "## Very high correlation between long volatility (UVXY) and short equity (SH) \n",
        "np.corrcoef(shhist['Close'].loc['2020-01-01':],vxxhist['Close'].loc['2020-01-01':])[0,1]"
      ],
      "execution_count": 33,
      "outputs": [
        {
          "output_type": "execute_result",
          "data": {
            "text/plain": [
              "0.865106130261294"
            ]
          },
          "metadata": {},
          "execution_count": 33
        }
      ]
    },
    {
      "cell_type": "markdown",
      "metadata": {
        "id": "LNeYsYpawDBQ"
      },
      "source": [
        "There are more than one kind of volatility ETFs\n",
        "\n",
        "VXX keep track of the S&P 500 VIX Short-Term Futures Index Total Return\n",
        "VXZ keep track of S&P 500 VIX Mid-Term Futures Index.\n",
        "\n",
        "VXZ has a less significant contango effect than VXX, but keep track of the spot VIX less well. "
      ]
    },
    {
      "cell_type": "code",
      "metadata": {
        "colab": {
          "base_uri": "https://localhost:8080/",
          "height": 295
        },
        "id": "FIryVxYgH9jT",
        "outputId": "16233e2e-3e7f-4f54-a89f-04d3f800233d"
      },
      "source": [
        "selected_etf = yf.Ticker(\"VXZ\")\n",
        "vxzhist = selected_etf.history(period=\"max\")\n",
        "vxzhist['Close'].loc['2018-01-01':].plot()"
      ],
      "execution_count": 34,
      "outputs": [
        {
          "output_type": "execute_result",
          "data": {
            "text/plain": [
              "<matplotlib.axes._subplots.AxesSubplot at 0x7fbbe2934cd0>"
            ]
          },
          "metadata": {},
          "execution_count": 34
        },
        {
          "output_type": "display_data",
          "data": {
            "image/png": "[encoded data removed]",
            "text/plain": [
              "<Figure size 432x288 with 1 Axes>"
            ]
          },
          "metadata": {
            "needs_background": "light"
          }
        }
      ]
    },
    {
      "cell_type": "markdown",
      "metadata": {
        "id": "89cgzzZOQxwr"
      },
      "source": [
        "We will provide a very simple example of market regime model using Hidden Markov Model"
      ]
    },
    {
      "cell_type": "code",
      "metadata": {
        "colab": {
          "base_uri": "https://localhost:8080/"
        },
        "id": "gUs5MTByVGqu",
        "outputId": "b608702c-7a1f-4024-87c9-aae8b8ec672c"
      },
      "source": [
        "! pip install yfinance\n",
        "! pip install hmmlearn"
      ],
      "execution_count": 35,
      "outputs": [
        {
          "output_type": "stream",
          "name": "stdout",
          "text": [
            "Requirement already satisfied: yfinance in /usr/local/lib/python3.7/dist-packages (0.1.63)\n",
            "Requirement already satisfied: multitasking>=0.0.7 in /usr/local/lib/python3.7/dist-packages (from yfinance) (0.0.9)\n",
            "Requirement already satisfied: pandas>=0.24 in /usr/local/lib/python3.7/dist-packages (from yfinance) (1.1.5)\n",
            "Requirement already satisfied: requests>=2.20 in /usr/local/lib/python3.7/dist-packages (from yfinance) (2.23.0)\n",
            "Requirement already satisfied: lxml>=4.5.1 in /usr/local/lib/python3.7/dist-packages (from yfinance) (4.6.3)\n",
            "Requirement already satisfied: numpy>=1.15 in /usr/local/lib/python3.7/dist-packages (from yfinance) (1.19.5)\n",
            "Requirement already satisfied: pytz>=2017.2 in /usr/local/lib/python3.7/dist-packages (from pandas>=0.24->yfinance) (2018.9)\n",
            "Requirement already satisfied: python-dateutil>=2.7.3 in /usr/local/lib/python3.7/dist-packages (from pandas>=0.24->yfinance) (2.8.2)\n",
            "Requirement already satisfied: six>=1.5 in /usr/local/lib/python3.7/dist-packages (from python-dateutil>=2.7.3->pandas>=0.24->yfinance) (1.15.0)\n",
            "Requirement already satisfied: certifi>=2017.4.17 in /usr/local/lib/python3.7/dist-packages (from requests>=2.20->yfinance) (2021.5.30)\n",
            "Requirement already satisfied: urllib3!=1.25.0,!=1.25.1,<1.26,>=1.21.1 in /usr/local/lib/python3.7/dist-packages (from requests>=2.20->yfinance) (1.24.3)\n",
            "Requirement already satisfied: chardet<4,>=3.0.2 in /usr/local/lib/python3.7/dist-packages (from requests>=2.20->yfinance) (3.0.4)\n",
            "Requirement already satisfied: idna<3,>=2.5 in /usr/local/lib/python3.7/dist-packages (from requests>=2.20->yfinance) (2.10)\n",
            "Collecting hmmlearn\n",
            "  Downloading hmmlearn-0.2.6-cp37-cp37m-manylinux_2_5_x86_64.manylinux1_x86_64.whl (374 kB)\n",
            "\u001b[K     |████████████████████████████████| 374 kB 5.1 MB/s \n",
            "\u001b[?25hRequirement already satisfied: scipy>=0.19 in /usr/local/lib/python3.7/dist-packages (from hmmlearn) (1.4.1)\n",
            "Requirement already satisfied: numpy>=1.10 in /usr/local/lib/python3.7/dist-packages (from hmmlearn) (1.19.5)\n",
            "Requirement already satisfied: scikit-learn>=0.16 in /usr/local/lib/python3.7/dist-packages (from hmmlearn) (0.22.2.post1)\n",
            "Requirement already satisfied: joblib>=0.11 in /usr/local/lib/python3.7/dist-packages (from scikit-learn>=0.16->hmmlearn) (1.0.1)\n",
            "Installing collected packages: hmmlearn\n",
            "Successfully installed hmmlearn-0.2.6\n"
          ]
        }
      ]
    },
    {
      "cell_type": "code",
      "metadata": {
        "id": "m_40ji2fQ6nA"
      },
      "source": [
        "from hmmlearn.hmm import GaussianHMM\n",
        "import yfinance as yf\n",
        "import numpy as np\n",
        "\n",
        "selected_etf = yf.Ticker(\"SPY\")\n",
        "spyhist = selected_etf.history(period=\"max\")\n",
        "spyhist['Return'] = spyhist['Open'].pct_change()\n",
        "trainrets = spyhist.loc['1996-01-01':'2017-01-01']\n",
        "testrets = spyhist.loc['2018-01-01':'2022-02-25']"
      ],
      "execution_count": 36,
      "outputs": []
    },
    {
      "cell_type": "code",
      "metadata": {
        "id": "ggCPI4wwRMcS"
      },
      "source": [
        "hmm_model = GaussianHMM(\n",
        "        n_components=2, covariance_type=\"full\", n_iter=1000\n",
        "    ).fit(trainrets['Return'].values.reshape(-1, 1))\n"
      ],
      "execution_count": 37,
      "outputs": []
    },
    {
      "cell_type": "code",
      "metadata": {
        "colab": {
          "base_uri": "https://localhost:8080/"
        },
        "id": "iczWj-ZHVtqd",
        "outputId": "712a6b28-96a6-462e-e1c5-c464742e530b"
      },
      "source": [
        "\n",
        "testrets['State'] = hmm_model.predict(testrets['Return'].values.reshape(-1, 1))\n",
        "testrets['Filtered'] = testrets['State'] * testrets['Close']"
      ],
      "execution_count": 38,
      "outputs": [
        {
          "output_type": "stream",
          "name": "stderr",
          "text": [
            "/usr/local/lib/python3.7/dist-packages/ipykernel_launcher.py:2: SettingWithCopyWarning: \n",
            "A value is trying to be set on a copy of a slice from a DataFrame.\n",
            "Try using .loc[row_indexer,col_indexer] = value instead\n",
            "\n",
            "See the caveats in the documentation: https://pandas.pydata.org/pandas-docs/stable/user_guide/indexing.html#returning-a-view-versus-a-copy\n",
            "  \n",
            "/usr/local/lib/python3.7/dist-packages/ipykernel_launcher.py:3: SettingWithCopyWarning: \n",
            "A value is trying to be set on a copy of a slice from a DataFrame.\n",
            "Try using .loc[row_indexer,col_indexer] = value instead\n",
            "\n",
            "See the caveats in the documentation: https://pandas.pydata.org/pandas-docs/stable/user_guide/indexing.html#returning-a-view-versus-a-copy\n",
            "  This is separate from the ipykernel package so we can avoid doing imports until\n"
          ]
        }
      ]
    },
    {
      "cell_type": "code",
      "metadata": {
        "colab": {
          "base_uri": "https://localhost:8080/",
          "height": 295
        },
        "id": "IouNlEACQySv",
        "outputId": "d07aab6a-92ad-4023-8c99-b19d01b39975"
      },
      "source": [
        "testrets['State'].loc['2020-01-01':].plot()"
      ],
      "execution_count": 39,
      "outputs": [
        {
          "output_type": "execute_result",
          "data": {
            "text/plain": [
              "<matplotlib.axes._subplots.AxesSubplot at 0x7fbbcf1fa450>"
            ]
          },
          "metadata": {},
          "execution_count": 39
        },
        {
          "output_type": "display_data",
          "data": {
            "image/png": "[encoded data removed]",
            "text/plain": [
              "<Figure size 432x288 with 1 Axes>"
            ]
          },
          "metadata": {
            "needs_background": "light"
          }
        }
      ]
    },
    {
      "cell_type": "code",
      "metadata": {
        "colab": {
          "base_uri": "https://localhost:8080/",
          "height": 295
        },
        "id": "ndyAi0xRV8m2",
        "outputId": "d2566a58-7c22-4d21-df50-7be54509528f"
      },
      "source": [
        "testrets['Filtered'].loc['2020-01-01':].plot()"
      ],
      "execution_count": 40,
      "outputs": [
        {
          "output_type": "execute_result",
          "data": {
            "text/plain": [
              "<matplotlib.axes._subplots.AxesSubplot at 0x7fbbced44450>"
            ]
          },
          "metadata": {},
          "execution_count": 40
        },
        {
          "output_type": "display_data",
          "data": {
            "image/png": "[encoded data removed]",
            "text/plain": [
              "<Figure size 432x288 with 1 Axes>"
            ]
          },
          "metadata": {
            "needs_background": "light"
          }
        }
      ]
    },
    {
      "cell_type": "code",
      "metadata": {
        "colab": {
          "base_uri": "https://localhost:8080/"
        },
        "id": "yKwTe2weV8wX",
        "outputId": "72858c88-ad54-4513-dbe8-c0cb0d8092ea"
      },
      "source": [
        "## State 0 is bear market  \n",
        "## State 1 is bull market \n",
        "testrets.groupby('State').mean()['Return']"
      ],
      "execution_count": 41,
      "outputs": [
        {
          "output_type": "execute_result",
          "data": {
            "text/plain": [
              "State\n",
              "0   -0.000540\n",
              "1    0.000998\n",
              "Name: Return, dtype: float64"
            ]
          },
          "metadata": {},
          "execution_count": 41
        }
      ]
    },
    {
      "cell_type": "code",
      "metadata": {
        "colab": {
          "base_uri": "https://localhost:8080/"
        },
        "id": "35lv3CNAYzW7",
        "outputId": "a5ed4665-13e0-444f-d3dd-aa1087d9706f"
      },
      "source": [
        "testrets.groupby('State').std()['Return']"
      ],
      "execution_count": 42,
      "outputs": [
        {
          "output_type": "execute_result",
          "data": {
            "text/plain": [
              "State\n",
              "0    0.021660\n",
              "1    0.007299\n",
              "Name: Return, dtype: float64"
            ]
          },
          "metadata": {},
          "execution_count": 42
        }
      ]
    },
    {
      "cell_type": "markdown",
      "metadata": {
        "id": "jqTBNuCqfOgc"
      },
      "source": [
        "Can we obtain a similar model by cosidering the value of VIX? "
      ]
    },
    {
      "cell_type": "code",
      "metadata": {
        "id": "L3SV4y_Ddaa9"
      },
      "source": [
        "selected_etf = yf.Ticker(\"SPY\")\n",
        "spyhist = selected_etf.history(period=\"max\").loc['1996-01-01':'2022-01-01']\n",
        "selected_etf = yf.Ticker(\"^VIX\")\n",
        "vixhist = selected_etf.history(period=\"max\").loc['1996-01-01':'2022-01-01']\n",
        "spyhist['Return'] = spyhist['Close'].pct_change()\n",
        "spyhist['VIX'] = vixhist['Close']\n",
        "spyhist['VIX_State'] = np.where(spyhist['VIX']<25,1,0)\n",
        "trainrets = spyhist.loc['1996-01-01':'2015-01-01']\n",
        "testrets = spyhist.loc['2018-01-01':'2022-01-01']"
      ],
      "execution_count": 43,
      "outputs": []
    },
    {
      "cell_type": "code",
      "metadata": {
        "colab": {
          "base_uri": "https://localhost:8080/"
        },
        "id": "dm8pdx5Edae3",
        "outputId": "99175fcd-6838-4331-d5de-3815ba7761eb"
      },
      "source": [
        "testrets.groupby('VIX_State').mean()['Return']"
      ],
      "execution_count": 44,
      "outputs": [
        {
          "output_type": "execute_result",
          "data": {
            "text/plain": [
              "VIX_State\n",
              "0   -0.001212\n",
              "1    0.001125\n",
              "Name: Return, dtype: float64"
            ]
          },
          "metadata": {},
          "execution_count": 44
        }
      ]
    },
    {
      "cell_type": "code",
      "metadata": {
        "colab": {
          "base_uri": "https://localhost:8080/"
        },
        "id": "UDZHcdCnW2E6",
        "outputId": "dfa52b1a-1edd-49dd-d930-57fd0ba6cc34"
      },
      "source": [
        "testrets.groupby('VIX_State').std()['Return']"
      ],
      "execution_count": 45,
      "outputs": [
        {
          "output_type": "execute_result",
          "data": {
            "text/plain": [
              "VIX_State\n",
              "0    0.025344\n",
              "1    0.007956\n",
              "Name: Return, dtype: float64"
            ]
          },
          "metadata": {},
          "execution_count": 45
        }
      ]
    },
    {
      "cell_type": "code",
      "metadata": {
        "colab": {
          "base_uri": "https://localhost:8080/",
          "height": 419
        },
        "id": "vXe0NVDzdah-",
        "outputId": "cf88dfd9-189b-4012-d294-7b850738fdac"
      },
      "source": [
        "testrets['Filtered'] = testrets['Close'] * testrets['VIX_State']\n",
        "testrets['Filtered'].loc['2018-01-01':].plot()"
      ],
      "execution_count": 46,
      "outputs": [
        {
          "output_type": "stream",
          "name": "stderr",
          "text": [
            "/usr/local/lib/python3.7/dist-packages/ipykernel_launcher.py:1: SettingWithCopyWarning: \n",
            "A value is trying to be set on a copy of a slice from a DataFrame.\n",
            "Try using .loc[row_indexer,col_indexer] = value instead\n",
            "\n",
            "See the caveats in the documentation: https://pandas.pydata.org/pandas-docs/stable/user_guide/indexing.html#returning-a-view-versus-a-copy\n",
            "  \"\"\"Entry point for launching an IPython kernel.\n"
          ]
        },
        {
          "output_type": "execute_result",
          "data": {
            "text/plain": [
              "<matplotlib.axes._subplots.AxesSubplot at 0x7fbbcec8d810>"
            ]
          },
          "metadata": {},
          "execution_count": 46
        },
        {
          "output_type": "display_data",
          "data": {
            "image/png": "[encoded data removed]",
            "text/plain": [
              "<Figure size 432x288 with 1 Axes>"
            ]
          },
          "metadata": {
            "needs_background": "light"
          }
        }
      ]
    },
    {
      "cell_type": "markdown",
      "metadata": {
        "id": "LQVU1JYDXSJS"
      },
      "source": [
        "Splitting the test period by the value of VIX provides a similar model as HMM.\n"
      ]
    },
    {
      "cell_type": "markdown",
      "metadata": {
        "id": "MZNCr6fTKgGZ"
      },
      "source": [
        ""
      ]
    },
    {
      "cell_type": "markdown",
      "metadata": {
        "id": "cUjFAQA8KcRn"
      },
      "source": [
        "How about changing the number of of hidden states in HMM model "
      ]
    },
    {
      "cell_type": "code",
      "metadata": {
        "id": "H4Vgt8lKV8-l"
      },
      "source": [
        "hmm_model = GaussianHMM(\n",
        "        n_components=3, covariance_type=\"full\", n_iter=1000\n",
        "    ).fit(trainrets['Return'].dropna().values.reshape(-1, 1))\n"
      ],
      "execution_count": 47,
      "outputs": []
    },
    {
      "cell_type": "code",
      "metadata": {
        "colab": {
          "base_uri": "https://localhost:8080/"
        },
        "id": "UdaIkykerxQn",
        "outputId": "49c3f48f-5218-44c4-f7c4-ede220849007"
      },
      "source": [
        "testrets = spyhist.loc['2018-01-01':'2021-12-25']\n",
        "testrets['Shifted_Return'] = testrets['Return'].shift(-1)\n",
        "testrets['State'] = hmm_model.predict(testrets['Return'].values.reshape(-1, 1))\n",
        "testrets['Filtered'] = testrets['State'] * testrets['Close']"
      ],
      "execution_count": 48,
      "outputs": [
        {
          "output_type": "stream",
          "name": "stderr",
          "text": [
            "/usr/local/lib/python3.7/dist-packages/ipykernel_launcher.py:2: SettingWithCopyWarning: \n",
            "A value is trying to be set on a copy of a slice from a DataFrame.\n",
            "Try using .loc[row_indexer,col_indexer] = value instead\n",
            "\n",
            "See the caveats in the documentation: https://pandas.pydata.org/pandas-docs/stable/user_guide/indexing.html#returning-a-view-versus-a-copy\n",
            "  \n",
            "/usr/local/lib/python3.7/dist-packages/ipykernel_launcher.py:3: SettingWithCopyWarning: \n",
            "A value is trying to be set on a copy of a slice from a DataFrame.\n",
            "Try using .loc[row_indexer,col_indexer] = value instead\n",
            "\n",
            "See the caveats in the documentation: https://pandas.pydata.org/pandas-docs/stable/user_guide/indexing.html#returning-a-view-versus-a-copy\n",
            "  This is separate from the ipykernel package so we can avoid doing imports until\n",
            "/usr/local/lib/python3.7/dist-packages/ipykernel_launcher.py:4: SettingWithCopyWarning: \n",
            "A value is trying to be set on a copy of a slice from a DataFrame.\n",
            "Try using .loc[row_indexer,col_indexer] = value instead\n",
            "\n",
            "See the caveats in the documentation: https://pandas.pydata.org/pandas-docs/stable/user_guide/indexing.html#returning-a-view-versus-a-copy\n",
            "  after removing the cwd from sys.path.\n"
          ]
        }
      ]
    },
    {
      "cell_type": "code",
      "metadata": {
        "colab": {
          "base_uri": "https://localhost:8080/",
          "height": 295
        },
        "id": "eUDFPquPrxY4",
        "outputId": "be1f39c8-d6ff-4ec2-aa34-c998ba746812"
      },
      "source": [
        "testrets['State'].plot()"
      ],
      "execution_count": 49,
      "outputs": [
        {
          "output_type": "execute_result",
          "data": {
            "text/plain": [
              "<matplotlib.axes._subplots.AxesSubplot at 0x7fbbcec6f690>"
            ]
          },
          "metadata": {},
          "execution_count": 49
        },
        {
          "output_type": "display_data",
          "data": {
            "image/png": "[encoded data removed]",
            "text/plain": [
              "<Figure size 432x288 with 1 Axes>"
            ]
          },
          "metadata": {
            "needs_background": "light"
          }
        }
      ]
    },
    {
      "cell_type": "code",
      "metadata": {
        "colab": {
          "base_uri": "https://localhost:8080/"
        },
        "id": "LdWbBGkwsMUl",
        "outputId": "d1c04bd6-7a92-42ae-f525-d552f7bdee2f"
      },
      "source": [
        "testrets.groupby('State').mean()['Shifted_Return'] * np.sqrt(252)"
      ],
      "execution_count": 50,
      "outputs": [
        {
          "output_type": "execute_result",
          "data": {
            "text/plain": [
              "State\n",
              "0    0.017817\n",
              "1   -0.000873\n",
              "2   -0.036518\n",
              "Name: Shifted_Return, dtype: float64"
            ]
          },
          "metadata": {},
          "execution_count": 50
        }
      ]
    },
    {
      "cell_type": "code",
      "metadata": {
        "colab": {
          "base_uri": "https://localhost:8080/"
        },
        "id": "HjUfgEySsMgF",
        "outputId": "f506fd35-3332-458f-a4ed-e52e0fe89e94"
      },
      "source": [
        "testrets.groupby('State').std()['Shifted_Return']"
      ],
      "execution_count": 51,
      "outputs": [
        {
          "output_type": "execute_result",
          "data": {
            "text/plain": [
              "State\n",
              "0    0.006753\n",
              "1    0.014854\n",
              "2    0.044910\n",
              "Name: Shifted_Return, dtype: float64"
            ]
          },
          "metadata": {},
          "execution_count": 51
        }
      ]
    },
    {
      "cell_type": "code",
      "metadata": {
        "colab": {
          "base_uri": "https://localhost:8080/"
        },
        "id": "at2xVs1nrxcR",
        "outputId": "861a6aa0-5a8d-4519-a9ff-09983ee40b64"
      },
      "source": [
        "testrets.groupby('State').count()['Return']"
      ],
      "execution_count": 52,
      "outputs": [
        {
          "output_type": "execute_result",
          "data": {
            "text/plain": [
              "State\n",
              "0    659\n",
              "1    252\n",
              "2     42\n",
              "Name: Return, dtype: int64"
            ]
          },
          "metadata": {},
          "execution_count": 52
        }
      ]
    },
    {
      "cell_type": "code",
      "metadata": {
        "colab": {
          "base_uri": "https://localhost:8080/",
          "height": 361
        },
        "id": "UAxxlIElyPNh",
        "outputId": "4820ae03-4513-4a82-87c3-39a4efd2496b"
      },
      "source": [
        "testrets[testrets['State'].isin([2])].tail()"
      ],
      "execution_count": 53,
      "outputs": [
        {
          "output_type": "execute_result",
          "data": {
            "text/html": [
              "<div>\n",
              "<style scoped>\n",
              "    .dataframe tbody tr th:only-of-type {\n",
              "        vertical-align: middle;\n",
              "    }\n",
              "\n",
              "    .dataframe tbody tr th {\n",
              "        vertical-align: top;\n",
              "    }\n",
              "\n",
              "    .dataframe thead th {\n",
              "        text-align: right;\n",
              "    }\n",
              "</style>\n",
              "<table border=\"1\" class=\"dataframe\">\n",
              "  <thead>\n",
              "    <tr style=\"text-align: right;\">\n",
              "      <th></th>\n",
              "      <th>Open</th>\n",
              "      <th>High</th>\n",
              "      <th>Low</th>\n",
              "      <th>Close</th>\n",
              "      <th>Volume</th>\n",
              "      <th>Dividends</th>\n",
              "      <th>Stock Splits</th>\n",
              "      <th>Return</th>\n",
              "      <th>VIX</th>\n",
              "      <th>VIX_State</th>\n",
              "      <th>Shifted_Return</th>\n",
              "      <th>State</th>\n",
              "      <th>Filtered</th>\n",
              "    </tr>\n",
              "    <tr>\n",
              "      <th>Date</th>\n",
              "      <th></th>\n",
              "      <th></th>\n",
              "      <th></th>\n",
              "      <th></th>\n",
              "      <th></th>\n",
              "      <th></th>\n",
              "      <th></th>\n",
              "      <th></th>\n",
              "      <th></th>\n",
              "      <th></th>\n",
              "      <th></th>\n",
              "      <th></th>\n",
              "      <th></th>\n",
              "    </tr>\n",
              "  </thead>\n",
              "  <tbody>\n",
              "    <tr>\n",
              "      <th>2020-04-16</th>\n",
              "      <td>272.973625</td>\n",
              "      <td>273.834160</td>\n",
              "      <td>269.658647</td>\n",
              "      <td>272.924744</td>\n",
              "      <td>131798300</td>\n",
              "      <td>0.0</td>\n",
              "      <td>0</td>\n",
              "      <td>0.004824</td>\n",
              "      <td>40.110001</td>\n",
              "      <td>0</td>\n",
              "      <td>0.027015</td>\n",
              "      <td>2</td>\n",
              "      <td>545.849487</td>\n",
              "    </tr>\n",
              "    <tr>\n",
              "      <th>2020-04-17</th>\n",
              "      <td>279.065721</td>\n",
              "      <td>280.943222</td>\n",
              "      <td>276.151645</td>\n",
              "      <td>280.297852</td>\n",
              "      <td>146684800</td>\n",
              "      <td>0.0</td>\n",
              "      <td>0</td>\n",
              "      <td>0.027015</td>\n",
              "      <td>38.150002</td>\n",
              "      <td>0</td>\n",
              "      <td>-0.017618</td>\n",
              "      <td>2</td>\n",
              "      <td>560.595703</td>\n",
              "    </tr>\n",
              "    <tr>\n",
              "      <th>2020-04-20</th>\n",
              "      <td>276.356979</td>\n",
              "      <td>280.444515</td>\n",
              "      <td>275.124878</td>\n",
              "      <td>275.359558</td>\n",
              "      <td>100109300</td>\n",
              "      <td>0.0</td>\n",
              "      <td>0</td>\n",
              "      <td>-0.017618</td>\n",
              "      <td>43.830002</td>\n",
              "      <td>0</td>\n",
              "      <td>-0.030363</td>\n",
              "      <td>2</td>\n",
              "      <td>550.719116</td>\n",
              "    </tr>\n",
              "    <tr>\n",
              "      <th>2020-04-21</th>\n",
              "      <td>270.607137</td>\n",
              "      <td>271.888150</td>\n",
              "      <td>266.001329</td>\n",
              "      <td>266.998779</td>\n",
              "      <td>126385700</td>\n",
              "      <td>0.0</td>\n",
              "      <td>0</td>\n",
              "      <td>-0.030363</td>\n",
              "      <td>45.410000</td>\n",
              "      <td>0</td>\n",
              "      <td>0.022195</td>\n",
              "      <td>2</td>\n",
              "      <td>533.997559</td>\n",
              "    </tr>\n",
              "    <tr>\n",
              "      <th>2020-04-22</th>\n",
              "      <td>272.191338</td>\n",
              "      <td>274.782699</td>\n",
              "      <td>270.783196</td>\n",
              "      <td>272.924744</td>\n",
              "      <td>92951600</td>\n",
              "      <td>0.0</td>\n",
              "      <td>0</td>\n",
              "      <td>0.022195</td>\n",
              "      <td>41.980000</td>\n",
              "      <td>0</td>\n",
              "      <td>-0.000072</td>\n",
              "      <td>2</td>\n",
              "      <td>545.849487</td>\n",
              "    </tr>\n",
              "  </tbody>\n",
              "</table>\n",
              "</div>"
            ],
            "text/plain": [
              "                  Open        High  ...  State    Filtered\n",
              "Date                                ...                   \n",
              "2020-04-16  272.973625  273.834160  ...      2  545.849487\n",
              "2020-04-17  279.065721  280.943222  ...      2  560.595703\n",
              "2020-04-20  276.356979  280.444515  ...      2  550.719116\n",
              "2020-04-21  270.607137  271.888150  ...      2  533.997559\n",
              "2020-04-22  272.191338  274.782699  ...      2  545.849487\n",
              "\n",
              "[5 rows x 13 columns]"
            ]
          },
          "metadata": {},
          "execution_count": 53
        }
      ]
    },
    {
      "cell_type": "code",
      "metadata": {
        "id": "qUUDfSp-Fcep"
      },
      "source": [
        ""
      ],
      "execution_count": 53,
      "outputs": []
    },
    {
      "cell_type": "markdown",
      "metadata": {
        "id": "o-GrERCSJodf"
      },
      "source": [
        "In the following lectures we will introduce different strategy that aims to reduce portfolio drawdown during market drawdowns \n",
        "\n",
        "\n",
        "- Risk Parity (Leveraged bets on interest rates going down)\n",
        "- Commodities Trend Following (Uncorrelated return during demand and supply shocks)\n",
        "- Active Long Volatility (Time when to buy call/put options)\n"
      ]
    },
    {
      "cell_type": "markdown",
      "metadata": {
        "id": "TOaDwqQVJ04c"
      },
      "source": [
        "### Recommended Readings\n",
        "\n",
        "- Market Regime Identification Using Hidden Markov Models https://papers.ssrn.com/sol3/papers.cfm?abstract_id=3406068\n",
        "\n",
        "- Regime-Switching Factor Investing with Hidden Markov Models \n",
        "https://www.mdpi.com/1911-8074/13/12/311/htm\n"
      ]
    }
  ]
}